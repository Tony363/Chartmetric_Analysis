{
  "nbformat": 4,
  "nbformat_minor": 0,
  "metadata": {
    "colab": {
      "name": "Chartmetric_DataConsolidation.ipynb",
      "provenance": [],
      "collapsed_sections": [
        "na_clS3ZD5U0",
        "24p6q_9iECyT",
        "7hWMHwYBAxCA",
        "0bYJxl0oJAqf",
        "MIX6fsXPJJyB",
        "ZjctZT3uJPUV",
        "B-0apiGTJTsz",
        "X0n2hhpmJYK1",
        "nP59UZJ9JhlO",
        "yIYjBrsPYICm",
        "usJDmV3PYOF5",
        "LcfEJce0YbPf",
        "S8WZUQlWIV2y",
        "L__lIVK3Idi7",
        "2H2mWbsLIz2k",
        "2vz-D4kxZCOb",
        "U1asEy2sZtrT",
        "ya_neBx4Z38W",
        "6BSx274_aAnf",
        "M_EsaRmZaOxg",
        "m-Fk2QwiaUH9",
        "KY0AYjf1baAX"
      ],
      "include_colab_link": true
    },
    "kernelspec": {
      "display_name": "Python 3",
      "name": "python3"
    }
  },
  "cells": [
    {
      "cell_type": "markdown",
      "metadata": {
        "id": "view-in-github",
        "colab_type": "text"
      },
      "source": [
        "<a href=\"https://colab.research.google.com/github/Tony363/Chartmetric_Analysis/blob/master/Chartmetric_DataConsolidation.ipynb\" target=\"_parent\"><img src=\"https://colab.research.google.com/assets/colab-badge.svg\" alt=\"Open In Colab\"/></a>"
      ]
    },
    {
      "cell_type": "markdown",
      "metadata": {
        "id": "8fDJFa0oA070"
      },
      "source": [
        "## Custom Functions"
      ]
    },
    {
      "cell_type": "code",
      "metadata": {
        "id": "I4HijaK2SGUM"
      },
      "source": [
        "import pandas as pd\n",
        "import numpy as np \n",
        "import matplotlib.pyplot as plt\n",
        "import statsmodels.api as sm\n",
        "import seaborn as sns\n",
        "import xgboost as xgb\n",
        "import random\n",
        "\n",
        "from scipy import stats \n",
        "from statsmodels.discrete.discrete_model import Logit\n",
        "from statsmodels.tools import add_constant\n",
        "from pandas.plotting import scatter_matrix\n",
        "from sklearn.linear_model import LinearRegression\n",
        "from sklearn.model_selection import train_test_split,KFold\n",
        "from sklearn.preprocessing import MaxAbsScaler,MinMaxScaler,StandardScaler,RobustScaler\n",
        "from sklearn.linear_model import LogisticRegression\n",
        "from sklearn.metrics import accuracy_score, precision_score, recall_score\n",
        "from sklearn.metrics import confusion_matrix\n",
        "from sklearn import metrics\n",
        "from sklearn.decomposition import PCA\n",
        "import itertools\n",
        "\n",
        "# load in main database of songs and attributes\n",
        "def load_data():\n",
        "    df = pd.read_csv(\"Chartmetric_Sample_Data.csv\")\n",
        "    df.drop('Unnamed: 0',axis=1,inplace=True)\n",
        "    df.set_index(\"Chartmetric_ID\",inplace=True)\n",
        "    return df\n",
        "\n",
        "# set some display options so easier to view all columns at once\n",
        "def set_view_options(max_cols=50, max_rows=50, max_colwidth=9, dis_width=250):\n",
        "    pd.options.display.max_columns = max_cols\n",
        "    pd.options.display.max_rows = max_rows\n",
        "    pd.set_option('max_colwidth', max_colwidth)\n",
        "    pd.options.display.width = dis_width\n",
        "    pd.option_context('mode.use_inf_as_na', True)\n",
        "    \n",
        "def rename_columns(df):\n",
        "    subidx = [df.columns.get_loc(col) for col in df.columns if \"Subject\" in col] \n",
        "    subjects = df.columns[[subidx]]\n",
        "    df.rename(columns={df.columns[subidx[idx]]:df.iloc[0,subidx[idx]] for idx,sub in enumerate(subidx)},inplace=True)\n",
        "    for subject,idx in enumerate(range(0,len(df.columns),7)):\n",
        "        df.rename(columns={sub:df.columns[subidx[subject]]+\" \"+sub for idx,sub in enumerate(df.columns[idx+1:idx+7])},inplace=True)\n",
        "    return df\n",
        "\n",
        "def get_df_info(df):\n",
        "    # print memory usage\n",
        "    print(df.memory_usage(),'\\n')\n",
        "    # take an initial look at our data\n",
        "    print(df.head(),'\\n')\n",
        "\n",
        "    # take a look at the columns in our data set\n",
        "    print(\"The columns are:\")\n",
        "    print(df.columns,'\\n')\n",
        "\n",
        "    # look at data types for each\n",
        "    info = df.info()\n",
        "    print(info,'\\n')\n",
        "\n",
        "    # take a look at data types, and it looks like we have a pretty clean data set!\n",
        "    # However, I think the 0 popularity scores might throw the model(s) off a bit.\n",
        "    print(\"Do we have any nulls?\")\n",
        "    print(f\"Looks like we have {df.isnull().sum().sum()} nulls\\n\")\n",
        "    \n",
        "    subject_col = []\n",
        "    statsdf = []\n",
        "    # look at basic metric mapping\n",
        "    for idx,col in enumerate(df.columns):\n",
        "        if idx % 7 != 0:\n",
        "            try:\n",
        "                stats = df.agg({col:['min','max','median','mean','skew']})\n",
        "                subject_col.append(col)\n",
        "                statsdf.append(stats.transpose())\n",
        "            except Exception as e:\n",
        "                # print(e)\n",
        "                continue\n",
        "    statsdf = pd.concat(statsdf,axis=0,ignore_index=True)\n",
        "    statsdf.set_index([pd.Index(subject_col)],inplace=True)\n",
        "    return statsdf\n",
        "\n",
        "# calculate and print more stats from the df\n",
        "def get_stats(df):\n",
        "    df.reset_index(inplace=True)\n",
        "    # print stats for various metrics\n",
        "    print()\n",
        "    print(f\"There are {df.shape[0]} rows\")\n",
        "    print(f\"There are {df['Chartmetric_ID'].unique().shape} unique artists\")\n",
        "    print(f\"There are {df['popularity value.1'].unique().shape} unique popularity scores\")\n",
        "    print(f\"The mean popularity score is {df['popularity value.1'].mean()}\")\n",
        "    print(f\"There are {df[df['popularity value.1'] > 55]['popularity value.1'].count()} songs with a popularity score > 55\")\n",
        "    print(f\"There are {df[df['popularity value.1'] > 75]['popularity value.1'].count()} songs with a popularity score > 75\")\n",
        "    print(f\"Only {(df[df['popularity value.1'] > 80]['popularity value.1'].count() / df.shape[0])*100:.2f} % of artists have a popularity score > 80\")\n",
        "\n",
        "def scale_grp(df,pct,time):\n",
        "    pct.replace([np.inf, -np.inf], np.nan,inplace=True)\n",
        "    df_std = pd.DataFrame(StandardScaler().fit_transform(pct),columns=['fx followers','fx popularity','fx listeners','fx ratio'])\n",
        "    df_std['time series'] = time\n",
        "    df_std.set_index('time series',inplace=True)\n",
        "    df_norm = pd.DataFrame(MinMaxScaler().fit_transform(pct),columns=['fx followers','fx popularity','fx listeners','fx ratio'])\n",
        "    df_norm['time series'] = time\n",
        "    df_norm.set_index('time series',inplace=True)\n",
        "    df_std_norm = pd.DataFrame(MinMaxScaler().fit_transform(df_std),columns=['fx followers','fx popularity','fx listeners','fx ratio'])\n",
        "    return df.drop(['fx followers','fx popularity','fx listeners','fx ratio'],axis=1),df.drop(['followers value','popularity value.1','listeners value.2','followers_to_listeners_ratio value.3'],axis=1),df_std,df_norm,df_std_norm\n",
        "\n",
        "def group_time(df):\n",
        "    timeidx = [df.columns.get_loc(col) for col in df.columns if \"timestp\" in col] \n",
        "    time = df.iloc[:,timeidx]\n",
        "    time = time.reset_index().drop('Chartmetric_ID',axis=1).loc[:,'followers timestp']\n",
        "    df = df.drop(df.columns[timeidx[1:]],axis=1)\n",
        "    df.reset_index(inplace=True)\n",
        "    df.fillna(method=\"ffill\",inplace=True)\n",
        "    df = df.groupby(['followers timestp'])[['Chartmetric_ID','followers value','popularity value.1','listeners value.2','followers_to_listeners_ratio value.3']].first()\n",
        "    df['fx followers'] = df['followers value'].pct_change()\n",
        "    df['fx popularity'] = df['popularity value.1'].pct_change()\n",
        "    df['fx listeners'] = df['listeners value.2'].pct_change()\n",
        "    df['fx ratio'] = df['followers_to_listeners_ratio value.3'].pct_change()\n",
        "    pct = df.fillna(method=\"ffill\").drop(['Chartmetric_ID','followers value','popularity value.1','listeners value.2','followers_to_listeners_ratio value.3'],axis=1)\n",
        "    return scale_grp(df,pct,time)\n",
        "   \n",
        "\n",
        "def artist_diff_metric(df):\n",
        "    timeidx = [df.columns.get_loc(col) for col in df.columns if \"timestp\" in col] \n",
        "    valueidx = [df.columns.get_loc(col) for col in df.columns if \"value\" in col or \"ratio\" in col] \n",
        "    df.drop(df.columns[timeidx+valueidx],axis=1,inplace=True)\n",
        "    df.reset_index(inplace=True)\n",
        "    artist_unique_row = [df.groupby('Chartmetric_ID').groups[artist][0] for artist in df.groupby('Chartmetric_ID').groups]\n",
        "    df = df.loc[artist_unique_row,:].drop(['followers','popularity','listeners'],axis=1).set_index('Chartmetric_ID')\n",
        "    return df.fillna(method=\"ffill\")\n",
        "\n",
        "def Multivariable_Matrix(df,original,col):\n",
        "    cmatrix = []\n",
        "    for shift,time in zip(range(df.shape[0]),df.index):\n",
        "        cseries = df.loc[:,col].shift(-shift)\n",
        "        smatrix = pd.DataFrame({f'shift {shift}':cseries.values})\n",
        "        cmatrix.append(smatrix)\n",
        "    cmatrix = pd.concat(cmatrix,axis=1)\n",
        "    cmatrix.drop(cmatrix.index[90:], inplace=True)\n",
        "    cmatrix.index = original.index[:cmatrix.shape[0]]\n",
        "    return cmatrix\n",
        "    \n",
        "def calc_correlations(df, cutoff=0.5):\n",
        "    corr = df.corr()\n",
        "    corr_data = corr[corr > cutoff]\n",
        "    corr_list = df.corr().unstack().sort_values(kind=\"quicksort\",ascending=False)\n",
        "    return corr_list.where(corr_list < 1.0),corr_data\n",
        "\n",
        "# nice way to truncate the column names to display easier\n",
        "# can be used with various metrics\n",
        "def describe_cols(df, L=10):\n",
        "    '''Limit ENTIRE column width (including header)'''\n",
        "    # get the max col width\n",
        "    O = pd.get_option(\"display.max_colwidth\")\n",
        "    # set max col width to be L\n",
        "    pd.set_option(\"display.max_colwidth\", L)\n",
        "    describe = df.rename(columns=lambda x: x[:L - 2] + '...' if len(x) > L else x).describe()\n",
        "    pd.set_option(\"display.max_colwidth\", O) \n",
        "    return describe\n",
        "\n",
        "# get redundant pairs from DataFrame\n",
        "def get_redundant_pairs(df):\n",
        "    '''Get diagonal pairs of correlation matrix and all pairs we'll remove \n",
        "    (since pair each is doubled in corr matrix)'''\n",
        "    pairs_to_drop = set()\n",
        "    cols = df.columns\n",
        "    for i in range(0, df.shape[1]):\n",
        "        for j in range(0, i+1):\n",
        "            if df[cols[i]].dtype != 'object' and df[cols[j]].dtype != 'object':\n",
        "                # print(\"THIS IS NOT AN OBJECT, YO, so you CAN take a corr of it, smarty!\")\n",
        "                pairs_to_drop.add((cols[i], cols[j]))\n",
        "    return pairs_to_drop\n",
        "\n",
        "def get_top_abs_correlations(df, n=10):\n",
        "    au_corr = df.corr().abs().unstack()\n",
        "    labels_to_drop = get_redundant_pairs(df)\n",
        "    au_corr = au_corr.drop(labels=labels_to_drop).sort_values(ascending=False)\n",
        "    \n",
        "    print(\"The top absolute correlations are:\")\n",
        "    print(au_corr[0:n])\n",
        "    return au_corr[0:n]\n",
        "    \n",
        "# plot a scatter plot\n",
        "def scatter_plot(df, col_x, col_y):\n",
        "    plt.scatter(df[col_x], df[col_y], alpha=0.2)\n",
        "    plt.title(f\"{col_x} vs {col_y}\")\n",
        "    plt.xlabel(f\"{col_x}\")\n",
        "    plt.ylabel(f\"{col_y}\")\n",
        "    plt.show()\n",
        "\n",
        "def plot_scatter_matrix(df, num_rows):\n",
        "    scatter_matrix(df[:num_rows], alpha=0.2, figsize=(6, 6), diagonal='kde')\n",
        "    plt.show()\n",
        "\n",
        "# plot a heatmap of the correlations between features as well as dependent variable\n",
        "def plot_heatmap(df):\n",
        "    # note this looks better in jupyter as well\n",
        "    plt.figure(figsize = (16,6))\n",
        "    sns.heatmap(df.corr(), cmap=\"coolwarm\", annot=True, )\n",
        "    plt.show()\n",
        "  \n",
        "# plot a confusion matrix\n",
        "def plot_confusion_matrix(cm, ax, classes,\n",
        "                          normalize=False,\n",
        "                          title='Confusion matrix',\n",
        "                          cmap=plt.cm.Greens):\n",
        "    \"\"\"\n",
        "    This function prints and plots the confusion matrix.\n",
        "    \"\"\"\n",
        "    font_size = 24\n",
        "    p = ax.imshow(cm, interpolation='nearest', cmap=cmap)\n",
        "    ax.set_title(title,fontsize=font_size)\n",
        "    \n",
        "    tick_marks = np.arange(len(classes))\n",
        "    ax.set_xticks(tick_marks)\n",
        "    ax.set_xticklabels(classes, rotation=45, fontsize=16)\n",
        "    ax.set_yticks(tick_marks)\n",
        "    ax.set_yticklabels(classes, fontsize=16)\n",
        "   \n",
        "    if normalize:\n",
        "        cm = cm.astype('float') / cm.sum(axis=1)[:, np.newaxis]\n",
        "        print(\"Normalized confusion matrix\")\n",
        "    else:\n",
        "        print('Confusion matrix, without normalization')\n",
        "\n",
        "    print(cm)\n",
        "\n",
        "    thresh = cm.max() / 2.\n",
        "    for i, j in itertools.product(range(cm.shape[0]), range(cm.shape[1])):\n",
        "        if i == 1 and j == 1:\n",
        "            lbl = \"(True Positive)\"\n",
        "        elif i == 0 and j == 0:\n",
        "            lbl = \"(True Negative)\"\n",
        "        elif i == 1 and j == 0:\n",
        "            lbl = \"(False Negative)\"\n",
        "        elif i == 0 and j == 1:\n",
        "            lbl = \"(False Positive)\"\n",
        "        ax.text(j, i, \"{:0.2f} \\n{}\".format(cm[i, j], lbl),\n",
        "                 horizontalalignment=\"center\", size = font_size,\n",
        "                 color=\"white\" if cm[i, j] > thresh else \"black\")\n",
        "    plt.tight_layout()\n",
        "    ax.set_ylabel('True',fontsize=font_size)\n",
        "    ax.set_xlabel('Predicted',fontsize=font_size)\n",
        "    \n",
        "# plot polularity scores distribution\n",
        "def plot_pop_dist(df):\n",
        "    # set palette\n",
        "    sns.set_palette('muted')\n",
        "\n",
        "    # create initial figure\n",
        "    fig = plt.figure(figsize=(8,5))\n",
        "    ax = fig.add_subplot(111)\n",
        "    sns.distplot(df['popularity value.1']/100, color='g', label=\"Popularity\").set_title(\"Distribution of Popularity Scores - Entire Data Set\")\n",
        "\n",
        "    # create x and y axis labels\n",
        "    plt.xlabel(\"Popularity\")\n",
        "    plt.ylabel(\"Density\")\n",
        "\n",
        "    plt.show()\n",
        "\n",
        "# plot undersampling methodology\n",
        "def undersample_plot(df):\n",
        "    # set palette\n",
        "    sns.set_palette('muted')\n",
        "\n",
        "    # create initial figure\n",
        "    fig = plt.figure(figsize=(8,5))\n",
        "    ax = fig.add_subplot(111)\n",
        "    sns.distplot(df['popularity value.1']/100, color='g', label=\"Popularity\").set_title(\"Illustration of Undersampling from Data Set\")\n",
        "    \n",
        "    # create line to shade to the right of\n",
        "    line = ax.get_lines()[-1]\n",
        "    x_line, y_line = line.get_data()\n",
        "    mask = x_line > 0.55\n",
        "    x_line, y_line = x_line[mask], y_line[mask]\n",
        "    ax.fill_between(x_line, y1=y_line, alpha=0.5, facecolor='red')\n",
        "\n",
        "    # get values for and plot first label\n",
        "    label_x = 0.5\n",
        "    label_y = 4\n",
        "    arrow_x = 0.6\n",
        "    arrow_y = 0.2\n",
        "\n",
        "    arrow_properties = dict(\n",
        "        facecolor=\"black\", width=2,\n",
        "        headwidth=4,connectionstyle='arc3,rad=0')\n",
        "\n",
        "    plt.annotate(\n",
        "        \"First, sample all popularity value in this range.\\n Sample size is n. Cutoff is 0.5.\", xy=(arrow_x, arrow_y),\n",
        "        xytext=(label_x, label_y),\n",
        "        bbox=dict(boxstyle='round,pad=0.5', fc='red', alpha=0.5),\n",
        "        arrowprops=arrow_properties)\n",
        "\n",
        "    # Get values for and plot second label\n",
        "    label_x = 0.1\n",
        "    label_y = 3\n",
        "    arrow_x = 0.2\n",
        "    arrow_y = 0.2\n",
        "\n",
        "    arrow_properties = dict(\n",
        "        facecolor=\"black\", width=2,\n",
        "        headwidth=4,connectionstyle='arc3,rad=0')\n",
        "\n",
        "    plt.annotate(\n",
        "        \"Next, randomly sample \\n n popularity value in this range\", xy=(arrow_x, arrow_y),\n",
        "        xytext=(label_x, label_y),\n",
        "        bbox=dict(boxstyle='round,pad=0.5', fc='g', alpha=0.5),\n",
        "        arrowprops=arrow_properties)\n",
        "\n",
        "    # plot final word box\n",
        "    plt.annotate(\n",
        "        \"Therefore, end up with a 50/50 \\n split of Popular / Not Popular\\n artist\", xy=(0.6, 2),\n",
        "        xytext=(0.62, 2),\n",
        "        bbox=dict(boxstyle='round,pad=0.5', fc='b', alpha=0.5))\n",
        "\n",
        "    # create x and y axis labels\n",
        "    plt.xlabel(\"Popularity\")\n",
        "    plt.ylabel(\"Density\")\n",
        "\n",
        "    plt.show()\n",
        "\n",
        "# plot univariate dists for several independent variables\n",
        "def plot_univ_dists(df, cutoff):\n",
        "    popularity_cutoff = cutoff\n",
        "    print('Mean value for followers feature for Popular artists: {}'.format(df[df['popularity value.1'] > popularity_cutoff]['followers value'].mean()))\n",
        "    print('Mean value for followers feature for Unpopular artists: {}'.format(df[df['popularity value.1'] < popularity_cutoff]['followers value'].mean()))\n",
        "    print('Mean value for listeners feature for Popular artists: {}'.format(df[df['popularity value.1'] > popularity_cutoff]['listeners value.2'].mean()))\n",
        "    print('Mean value for listeners feature for Unpopular artists: {}'.format(df[df['popularity value.1'] < popularity_cutoff]['listeners value.2'].mean()))\n",
        "  \n",
        "    \n",
        "    fig, ax = plt.subplots(1, 1, figsize=(8,5))\n",
        "    fig.suptitle('Histograms and Univariate Distributions of Important Features')\n",
        "    sns.distplot(df[df['popularity value.1'] < popularity_cutoff]['followers value'])\n",
        "    sns.distplot(df[df['popularity value.1'] > popularity_cutoff]['followers value'])\n",
        "    plt.show()\n",
        "\n",
        "    fig, ax = plt.subplots(1, 1, figsize=(8,5))\n",
        "    sns.distplot(df[df['popularity value.1'] < popularity_cutoff]['listeners value.2'])\n",
        "    sns.distplot(df[df['popularity value.1'] > popularity_cutoff]['listeners value.2'])\n",
        "    plt.show()\n",
        "\n",
        "def validation_plot(y_test, pred_test):\n",
        "    \"\"\"\n",
        "    Parameters\n",
        "    ----------\n",
        "    y_test : validation set.\n",
        "    pred_test : prediction on test.\n",
        "\n",
        "    Returns\n",
        "    -------\n",
        "    None.\n",
        "\n",
        "    \"\"\"\n",
        "    fig, ax = plt.subplots()\n",
        "    ax.scatter(y_test, pred_test, color=\"b\")\n",
        "    # ax.plot([y_test.min(),y_test.max()],[y_test.min(),y_test.max()],'k--',lw=4)\n",
        "    ax.set_xlabel(\"preds\")\n",
        "    ax.set_ylabel(\"y_test\")\n",
        "    ax.set_title(\"validate on pred\")\n",
        "    plt.show()\n",
        "\n",
        "\n",
        "# choose cutoff, sample popular data, randomly sample unpopular data, and combine the dfs\n",
        "def split_sample_combine(df, cutoff, col='fx popularity', rand=None):\n",
        "    # split out popular rows above the popularity cutoff\n",
        "    split_pop_df = df[df[col] >= cutoff].copy()\n",
        "\n",
        "    # get the leftover rows, the 'unpopular' songs\n",
        "    df_leftover = df[df[col] < cutoff].copy()\n",
        "\n",
        "    # what % of the original data do we now have?\n",
        "    ratio = split_pop_df.shape[0] / df.shape[0]\n",
        "    \n",
        "    # what % of leftover rows do we need?\n",
        "    ratio_leftover = split_pop_df.shape[0] / df_leftover.shape[0]\n",
        "\n",
        "    # get the exact # of unpopular rows needed, using a random sampler\n",
        "    unpop_df_leftover, unpop_df_to_add = train_test_split(df_leftover, \\\n",
        "                                                          test_size=ratio_leftover, \\\n",
        "                                                          random_state = rand)\n",
        "    \n",
        "    # combine the dataframes to get total rows = split_pop_df * 2\n",
        "    # ssc stands for \"split_sample_combine\"\n",
        "    ssc_df = split_pop_df.append(unpop_df_to_add).reset_index(drop=True)\n",
        "\n",
        "    # shuffle the df\n",
        "    ssc_df = ssc_df.sample(frac=1, random_state=rand).reset_index(drop=True)\n",
        "    \n",
        "    # add columns relating to popularity\n",
        "    ssc_df['pop_frac'] = ssc_df[col] / 100\n",
        "    ssc_df['pop_cat'] = np.where(ssc_df[col] > cutoff, \"Popular\", \"Not_Popular\")\n",
        "    ssc_df['pop_bin'] = np.where(ssc_df[col] > cutoff, 1, 0)\n",
        "    return ssc_df\n",
        "\n",
        "# initial linear regression function, and plots\n",
        "def linear_regression_initial(df,features,Y):\n",
        "    print(len(features))\n",
        "    df = df.copy()\n",
        "    X = df[features]\n",
        "    plot_title = (Y) if len(features) > 1 else (Y,features)\n",
        "    y_col = [Y]\n",
        "    y = df[y_col]\n",
        "\n",
        "    X_train, X_test, y_train, y_test = train_test_split(X, y, test_size=0.2)\n",
        "\n",
        "    X_train = sm.add_constant(X_train)\n",
        "    # Instantiate OLS model, fit, predict, get errors\n",
        "    model = sm.OLS(y_train, X_train)\n",
        "    results = model.fit()\n",
        "    fitted_vals_train = results.predict(X_train)\n",
        "    stu_resid = results.resid_pearson\n",
        "    residuals = results.resid\n",
        "    y_vals = pd.DataFrame({'residuals':residuals, 'fitted_vals':fitted_vals_train, \\\n",
        "                            'stu_resid': stu_resid})\n",
        "\n",
        "    # Print the results\n",
        "    print(results.summary())\n",
        "\n",
        "    # QQ Plot\n",
        "    fig, ax = plt.subplots(figsize=(8, 5))\n",
        "    plt.title(f\"QQ Plot {plot_title} of OLS\")\n",
        "    fig = sm.qqplot(stu_resid, line='45', fit=True, ax=ax)\n",
        "    plt.show()\n",
        "\n",
        "    # validate pred\n",
        "    validation_plot(y_train, fitted_vals_train)\n",
        "\n",
        "    # Residuals Plot\n",
        "    y_vals.plot(kind='scatter', x='fitted_vals', y='stu_resid')\n",
        "    plt.title(f\"{plot_title} regression\")\n",
        "    plt.show()\n",
        "    return y_vals\n",
        "\n",
        "def lin_reg_forcast(df,Y,PARAMETERS = {\n",
        "        'max_depth':20,\n",
        "        'min_child_weight': 5,\n",
        "        'eta':.1,\n",
        "        'subsample': .7,\n",
        "        'colsample_bytree': .7,\n",
        "        'nthread':-1,\n",
        "        'objective':'reg:squarederror',\n",
        "        'eval_metric':'rmse'\n",
        "    }):\n",
        "    df = df.copy()\n",
        "    X_cols = df.columns.drop(Y)\n",
        "\n",
        "    y_col = [Y]\n",
        "\n",
        "    X = df[X_cols]\n",
        "    y = df[y_col]\n",
        "\n",
        "    X_train, X_test, y_train, y_test = train_test_split(X, y, test_size=0.2)\n",
        "    \n",
        "    dtrain = xgb.DMatrix(X_train, y_train,nthread=-1)\n",
        "    dtest = xgb.DMatrix(X_test, y_test,nthread=-1)\n",
        "\n",
        "    bst = xgb.train(\n",
        "        params=PARAMETERS,\n",
        "        dtrain=dtrain,\n",
        "        # num_boost_round=999,\n",
        "        # evals=[(dtest,\"Test\")],\n",
        "        # early_stopping_rounds=10,\n",
        "        )\n",
        "    pred_test = bst.predict(dtrain)\n",
        "    pred_leaf = bst.predict(dtrain,pred_leaf=True)\n",
        "    print(pred_leaf)\n",
        "    return pred_test\n",
        "\n",
        "# Create a basic logistic regression\n",
        "def basic_logistic_regression(df, cutoff,col='pop_bin', rand=0, sig_only=False):\n",
        "    df = df.copy()\n",
        "    X, y = return_X_y_logistic(split_sample_combine(df, cutoff,col, rand=rand))\n",
        "    X = standardize_X(X)\n",
        "    X_const = add_constant(X, prepend=True)\n",
        "    print(\"X_const\\n\",X_const)\n",
        "    print(\"Y\\n\",y)\n",
        "    \n",
        "    logit_model = Logit(y, X_const).fit(solver='lbfgs',skip_hessian=True,max_iter=20000)\n",
        "    \n",
        "    print(logit_model.summary())\n",
        "\n",
        "    return logit_model\n",
        "\n",
        "def logistic_regression_with_kfold(df, cutoff=2.682048, rand=0, sig_only=False):\n",
        "    df = df.copy()\n",
        "    \n",
        "    if sig_only == True:\n",
        "        X, y = return_X_y_logistic_sig_only(split_sample_combine(df, cutoff=cutoff, rand=rand))\n",
        "        X = standardize_X_sig_only(X)\n",
        "\n",
        "    else:\n",
        "        X, y = return_X_y_logistic(split_sample_combine(df, cutoff=cutoff, rand=rand))\n",
        "        X = standardize_X(X)\n",
        "\n",
        "    X = X.values\n",
        "    y = y.values.ravel()\n",
        "\n",
        "    classifier = LogisticRegression()\n",
        "\n",
        "    # before kFold\n",
        "    y_predict = classifier.fit(X, y).predict(X)\n",
        "    y_true = y\n",
        "    accuracy_score(y_true, y_predict)\n",
        "    print(f\"accuracy: {accuracy_score(y_true, y_predict)}\")\n",
        "    print(f\"precision: {precision_score(y_true, y_predict)}\")\n",
        "    print(f\"recall: {recall_score(y_true, y_predict)}\")\n",
        "    print(f\"The coefs are: {classifier.fit(X,y).coef_}\")\n",
        "\n",
        "    # with kfold\n",
        "    kfold = KFold(len(y))\n",
        "\n",
        "    accuracies = []\n",
        "    precisions = []\n",
        "    recalls = []\n",
        "\n",
        "    for train_index, test_index in kfold:\n",
        "        model = LogisticRegression()\n",
        "        model.fit(X[train_index], y[train_index])\n",
        "\n",
        "        y_predict = model.predict(X[test_index])\n",
        "        y_true = y[test_index]\n",
        "\n",
        "        accuracies.append(accuracy_score(y_true, y_predict))\n",
        "        precisions.append(precision_score(y_true, y_predict))\n",
        "        recalls.append(recall_score(y_true, y_predict))\n",
        "\n",
        "    print(f\"accuracy: {np.average(accuracies)}\")\n",
        "    print(f\"precision: {np.average(precisions)}\")\n",
        "    print(f\"recall: {np.average(recalls)}\")\n",
        "\n",
        "def Principal_Comp_Reg(df,features,Y,Standardize=False,n_components=2):\n",
        "    # Separating out the features\n",
        "    x = df.loc[:,features].values\n",
        "    # Separating out the target\n",
        "    y = df.loc[:,[Y]].values\n",
        "    if Standardize:\n",
        "        # Standardizing the features\n",
        "        x = StandardScaler().fit_transform(x)\n",
        "    principalComponents = np.hstack((PCA(n_components=n_components).fit_transform(x),y))\n",
        "    \n",
        "    principaldf = pd.DataFrame(principalComponents,columns=[f\"P{i}\" for i in range(n_components)]+[Y])\n",
        "    return principaldf\n",
        "\n",
        "def Visualize_PCA(df,features,Y,cluster_range=0.2):\n",
        "    fig = plt.figure(figsize = (8,8))\n",
        "    ax = fig.add_subplot(1,1,1) \n",
        "    ax.set_xlabel('Principal Component 1', fontsize = 15)\n",
        "    ax.set_ylabel('Principal Component 2', fontsize = 15)\n",
        "    ax.set_title('2 component PCA', fontsize = 20)\n",
        "\n",
        "    colors = ['r', 'g', 'b']\n",
        "\n",
        "    for feature, color in zip(features,colors):\n",
        "        ax.scatter(df.loc[(df[feature] > df[Y]-cluster_range) & (df[feature] < df[Y]+cluster_range),'P0']\n",
        "                , df.loc[(df[feature] > df[Y]-cluster_range) & (df[feature] < df[Y]+cluster_range),'P1']\n",
        "                , c = color\n",
        "                , s = 50)\n",
        "    ax.legend(features)\n",
        "    ax.grid()\n",
        "\n",
        "# various data standardization and X/y split functions for logisitic reression\n",
        "# based on the columns you want to standardize and return\n",
        "def return_X_y_logistic(df):\n",
        "    df = df.copy()\n",
        "\n",
        "    # define columns to use for each\n",
        "    X_cols = ['fx followers','fx listeners','fx ratio','pop_frac']\n",
        "\n",
        "    # use 1's and 0's for logistic\n",
        "    y_col = 'pop_bin'\n",
        "\n",
        "    # split into X and y\n",
        "    X = df[X_cols]\n",
        "    y = df[y_col]\n",
        "\n",
        "    return X, y\n",
        "\n",
        "def standardize_X(X):  \n",
        "    X = X.copy()\n",
        "    \n",
        "    # standardize only columns not between 0 and 1\n",
        "    for col in ['fx followers','fx listeners','fx ratio','fx popularity','pop_frac']:\n",
        "        new_col_name = col + \"_std\"\n",
        "        X[new_col_name] = (X[col] - X[col].mean()) / X[col].std()\n",
        "        \n",
        "    X_cols = ['fx followers_std','fx popularity_std','fx listeners_std','fx ratio_std','pop_frac_std']\n",
        "\n",
        "    # return the std columns in a dataframe\n",
        "    X = X[X_cols]\n",
        "    \n",
        "    return X\n",
        "\n",
        "\n",
        "\n"
      ],
      "execution_count": 441,
      "outputs": []
    },
    {
      "cell_type": "markdown",
      "metadata": {
        "id": "M2-RF9Iy8kti"
      },
      "source": [
        "# Chartmetric Data Exploratory Analysis\n",
        "\n",
        "### Metric Index\n",
        "\n",
        "[Followers](https://artists.spotify.com/faq/stats#who-are-followers)\n",
        "\n",
        "[Monthly Listeners](https://artists.spotify.com/faq/stats#who-are-monthly-listeners)\n",
        "\n",
        "**Popularity** --- The \"popularity\" of the artist. The value will be between 0 and 100, with 100 being the most popular. The metric is calculated by an algorithm, and is based on the number of listens/plays the artist receives and weighted by how recent those plays are.\n",
        "\n",
        "[Further Metric Explanation]( https://nnnehasingh15.medium.com/spotify-monthly-listeners-and-spotify-streams-explained-ba3752e9b872)\n",
        "\n",
        "### Objective\n",
        "Create new metric(artist score) off of popularity, followers, listeners <- these 3 variables for now\n",
        "Then deploy adhoc dashboard(UI)\n",
        "- with plot metrics\n",
        "- anything now is to be barebones for minimal viable product\n",
        "- proof of concept first <- small easy project, easy money\n",
        "\n",
        "### Methods to Explore\n",
        "- forcasting followers and listeners over 6 month regression\n",
        "    - *Optional Cutoff*\n",
        "        - followers lower than 10000\n",
        "        - listeners lower than 100000\n",
        "        - popularity cut off, below 40\n",
        "- Pair feature regression\n",
        "- Simple Logistic regression on relevant non relevant artists [(having issues to converge after 35 iteration)](https://stackoverflow.com/questions/52670012/convergencewarning-liblinear-failed-to-converge-increase-the-number-of-iterati)\n",
        "- heuristics weighted time series on axis of average and aggregate\n",
        "- aggregate difference of metrics divided by mean\n",
        "- Principle Component regression and clustering to see which artists are in relevant cluster and which arn't\n",
        "- rich regression\n",
        "- elastic net (try unsupervised techniques)\n",
        "\n",
        "\n"
      ]
    },
    {
      "cell_type": "markdown",
      "metadata": {
        "id": "ZybxhQZHBxma"
      },
      "source": [
        "### References\n",
        "- [Build predictive Business Intelligence with Google Colab, Google Data Studio and Google Sheets](https://towardsdatascience.com/build-predictive-business-intelligence-with-google-colab-google-data-studio-and-google-sheets-9a5c1559124f)\n",
        "- [How to Import and Export Datasets in Google Colab](https://towardsdatascience.com/google-colab-import-and-export-datasets-eccf801e2971)\n",
        "- [Colab and Google Sheets -- Surprisingly Powerful Combination for Data Science](https://medium.com/analytics-vidhya/colab-and-google-sheets-surprisingly-powerful-combination-for-data-science-part-1-bbbb11cbd8e)\n",
        "- [ MattD82 /\n",
        "Predicting-Spotify-Song-Popularity ](https://github.com/MattD82/Predicting-Spotify-Song-Popularity)\n",
        "    - [On Kaggle](https://www.kaggle.com/tomigelo/spotify-audio-features?select=SpotifyAudioFeaturesApril2019.csv)\n",
        "- [Principal Component Regression(unsupervised)](https://towardsdatascience.com/pca-using-python-scikit-learn-e653f8989e60)\n"
      ]
    },
    {
      "cell_type": "markdown",
      "metadata": {
        "id": "na_clS3ZD5U0"
      },
      "source": [
        "### Clean data"
      ]
    },
    {
      "cell_type": "code",
      "metadata": {
        "colab": {
          "base_uri": "https://localhost:8080/"
        },
        "id": "wJjHmECXKFJ9",
        "outputId": "5737761f-9760-4d7a-85e2-1fe7bfd8eeba"
      },
      "source": [
        "# data clean\n",
        "df = load_data()  \n",
        "set_view_options(max_cols=50, max_rows=50, max_colwidth=40, dis_width=250)\n",
        "duplicated = True in df.columns.duplicated()\n",
        "print(f\"duplicate columns: {duplicated}\\n\")\n",
        "df = rename_columns(df)\n",
        "grp,cr,cr_std,cr_norm,cr_stdnorm = group_time(df)\n",
        "grp.to_csv(\"grouped.csv\")\n",
        "cr.to_csv(\"change_rate.csv\")\n",
        "cr_std.to_csv(\"change_rate_standardized.csv\")\n",
        "cr_norm.to_csv(\"change_rate_normalized.csv\")\n",
        "cr_stdnorm.to_csv(\"change_rate_standardized.csv\")"
      ],
      "execution_count": 442,
      "outputs": [
        {
          "output_type": "stream",
          "text": [
            "duplicate columns: False\n",
            "\n"
          ],
          "name": "stdout"
        },
        {
          "output_type": "stream",
          "text": [
            "/usr/local/lib/python3.6/dist-packages/pandas/core/indexes/base.py:4114: FutureWarning: Using a non-tuple sequence for multidimensional indexing is deprecated; use `arr[tuple(seq)]` instead of `arr[seq]`. In the future this will be interpreted as an array index, `arr[np.array(seq)]`, which will result either in an error or a different result.\n",
            "  result = getitem(key)\n"
          ],
          "name": "stderr"
        }
      ]
    },
    {
      "cell_type": "markdown",
      "metadata": {
        "id": "24p6q_9iECyT"
      },
      "source": [
        "### Unique artist difference df"
      ]
    },
    {
      "cell_type": "code",
      "metadata": {
        "id": "7rINcx0omik0",
        "colab": {
          "base_uri": "https://localhost:8080/",
          "height": 0
        },
        "outputId": "5045d6ee-8e79-4375-d6c8-24795188bb8b"
      },
      "source": [
        "artist_diff = artist_diff_metric(df)\n",
        "artist_diff.to_csv(\"artist_diff.csv\")\n",
        "artist_diff.head()"
      ],
      "execution_count": 443,
      "outputs": [
        {
          "output_type": "execute_result",
          "data": {
            "text/html": [
              "<div>\n",
              "<style scoped>\n",
              "    .dataframe tbody tr th:only-of-type {\n",
              "        vertical-align: middle;\n",
              "    }\n",
              "\n",
              "    .dataframe tbody tr th {\n",
              "        vertical-align: top;\n",
              "    }\n",
              "\n",
              "    .dataframe thead th {\n",
              "        text-align: right;\n",
              "    }\n",
              "</style>\n",
              "<table border=\"1\" class=\"dataframe\">\n",
              "  <thead>\n",
              "    <tr style=\"text-align: right;\">\n",
              "      <th></th>\n",
              "      <th>followers weekly_diff</th>\n",
              "      <th>followers weekly_diff_percent</th>\n",
              "      <th>followers monthly_diff</th>\n",
              "      <th>followers monthly_diff_percent</th>\n",
              "      <th>popularity weekly_diff.1</th>\n",
              "      <th>popularity weekly_diff_percent.1</th>\n",
              "      <th>popularity monthly_diff.1</th>\n",
              "      <th>popularity monthly_diff_percent.1</th>\n",
              "      <th>listeners weekly_diff.2</th>\n",
              "      <th>listeners weekly_diff_percent.2</th>\n",
              "      <th>listeners monthly_diff.2</th>\n",
              "      <th>listeners monthly_diff_percent.2</th>\n",
              "    </tr>\n",
              "    <tr>\n",
              "      <th>Chartmetric_ID</th>\n",
              "      <th></th>\n",
              "      <th></th>\n",
              "      <th></th>\n",
              "      <th></th>\n",
              "      <th></th>\n",
              "      <th></th>\n",
              "      <th></th>\n",
              "      <th></th>\n",
              "      <th></th>\n",
              "      <th></th>\n",
              "      <th></th>\n",
              "      <th></th>\n",
              "    </tr>\n",
              "  </thead>\n",
              "  <tbody>\n",
              "    <tr>\n",
              "      <th>20syl</th>\n",
              "      <td>229.0</td>\n",
              "      <td>0.2300</td>\n",
              "      <td>844.0</td>\n",
              "      <td>0.8528</td>\n",
              "      <td>0.0</td>\n",
              "      <td>0.0</td>\n",
              "      <td>0.0</td>\n",
              "      <td>0.000</td>\n",
              "      <td>2.0</td>\n",
              "      <td>0.0005</td>\n",
              "      <td>-10314.0</td>\n",
              "      <td>-2.7009</td>\n",
              "    </tr>\n",
              "    <tr>\n",
              "      <th>21 Savage</th>\n",
              "      <td>21294.0</td>\n",
              "      <td>0.2467</td>\n",
              "      <td>60223.0</td>\n",
              "      <td>0.7008</td>\n",
              "      <td>0.0</td>\n",
              "      <td>0.0</td>\n",
              "      <td>-1.0</td>\n",
              "      <td>-1.087</td>\n",
              "      <td>-1117492.0</td>\n",
              "      <td>-5.0836</td>\n",
              "      <td>755915.0</td>\n",
              "      <td>3.7591</td>\n",
              "    </tr>\n",
              "    <tr>\n",
              "      <th>3 Um Só</th>\n",
              "      <td>919.0</td>\n",
              "      <td>0.4898</td>\n",
              "      <td>3979.0</td>\n",
              "      <td>2.1559</td>\n",
              "      <td>0.0</td>\n",
              "      <td>0.0</td>\n",
              "      <td>0.0</td>\n",
              "      <td>0.000</td>\n",
              "      <td>-877.0</td>\n",
              "      <td>-1.4909</td>\n",
              "      <td>-5141.0</td>\n",
              "      <td>-8.1489</td>\n",
              "    </tr>\n",
              "    <tr>\n",
              "      <th>311</th>\n",
              "      <td>2006.0</td>\n",
              "      <td>0.3026</td>\n",
              "      <td>8028.0</td>\n",
              "      <td>1.2223</td>\n",
              "      <td>0.0</td>\n",
              "      <td>0.0</td>\n",
              "      <td>0.0</td>\n",
              "      <td>0.000</td>\n",
              "      <td>-57382.0</td>\n",
              "      <td>-2.6298</td>\n",
              "      <td>-103150.0</td>\n",
              "      <td>-4.6303</td>\n",
              "    </tr>\n",
              "    <tr>\n",
              "      <th>4Minute</th>\n",
              "      <td>2497.0</td>\n",
              "      <td>0.3009</td>\n",
              "      <td>10040.0</td>\n",
              "      <td>1.2208</td>\n",
              "      <td>0.0</td>\n",
              "      <td>0.0</td>\n",
              "      <td>0.0</td>\n",
              "      <td>0.000</td>\n",
              "      <td>-4480.0</td>\n",
              "      <td>-0.8333</td>\n",
              "      <td>-20107.0</td>\n",
              "      <td>-3.6342</td>\n",
              "    </tr>\n",
              "  </tbody>\n",
              "</table>\n",
              "</div>"
            ],
            "text/plain": [
              "                followers weekly_diff  followers weekly_diff_percent  followers monthly_diff  followers monthly_diff_percent  popularity weekly_diff.1  popularity weekly_diff_percent.1  popularity monthly_diff.1  popularity monthly_diff_percent.1  \\\n",
              "Chartmetric_ID                                                                                                                                                                                                                                           \n",
              "20syl                           229.0                         0.2300                   844.0                          0.8528                       0.0                               0.0                        0.0                              0.000   \n",
              "21 Savage                     21294.0                         0.2467                 60223.0                          0.7008                       0.0                               0.0                       -1.0                             -1.087   \n",
              "3 Um Só                         919.0                         0.4898                  3979.0                          2.1559                       0.0                               0.0                        0.0                              0.000   \n",
              "311                            2006.0                         0.3026                  8028.0                          1.2223                       0.0                               0.0                        0.0                              0.000   \n",
              "4Minute                        2497.0                         0.3009                 10040.0                          1.2208                       0.0                               0.0                        0.0                              0.000   \n",
              "\n",
              "                listeners weekly_diff.2  listeners weekly_diff_percent.2  listeners monthly_diff.2  listeners monthly_diff_percent.2  \n",
              "Chartmetric_ID                                                                                                                        \n",
              "20syl                               2.0                           0.0005                  -10314.0                           -2.7009  \n",
              "21 Savage                    -1117492.0                          -5.0836                  755915.0                            3.7591  \n",
              "3 Um Só                          -877.0                          -1.4909                   -5141.0                           -8.1489  \n",
              "311                            -57382.0                          -2.6298                 -103150.0                           -4.6303  \n",
              "4Minute                         -4480.0                          -0.8333                  -20107.0                           -3.6342  "
            ]
          },
          "metadata": {
            "tags": []
          },
          "execution_count": 443
        }
      ]
    },
    {
      "cell_type": "markdown",
      "metadata": {
        "id": "mrEapBJEER5X"
      },
      "source": [
        "### Prelim Insights"
      ]
    },
    {
      "cell_type": "markdown",
      "metadata": {
        "id": "7hWMHwYBAxCA"
      },
      "source": [
        "#### Unique artist Principal Component Regression"
      ]
    },
    {
      "cell_type": "code",
      "metadata": {
        "id": "rlLPv0fyw4Bf"
      },
      "source": [
        "artist_PCA = Principal_Comp_Reg(artist_diff,artist_diff.columns.drop('popularity monthly_diff.1'),'popularity monthly_diff.1',Standardize=True)"
      ],
      "execution_count": 444,
      "outputs": []
    },
    {
      "cell_type": "code",
      "metadata": {
        "colab": {
          "base_uri": "https://localhost:8080/",
          "height": 0
        },
        "id": "SS__fzac5Jsq",
        "outputId": "8efbf32d-1d31-48eb-85b4-5dd065e6f38d"
      },
      "source": [
        "artist_PCA"
      ],
      "execution_count": 445,
      "outputs": [
        {
          "output_type": "execute_result",
          "data": {
            "text/html": [
              "<div>\n",
              "<style scoped>\n",
              "    .dataframe tbody tr th:only-of-type {\n",
              "        vertical-align: middle;\n",
              "    }\n",
              "\n",
              "    .dataframe tbody tr th {\n",
              "        vertical-align: top;\n",
              "    }\n",
              "\n",
              "    .dataframe thead th {\n",
              "        text-align: right;\n",
              "    }\n",
              "</style>\n",
              "<table border=\"1\" class=\"dataframe\">\n",
              "  <thead>\n",
              "    <tr style=\"text-align: right;\">\n",
              "      <th></th>\n",
              "      <th>P0</th>\n",
              "      <th>P1</th>\n",
              "      <th>popularity monthly_diff.1</th>\n",
              "    </tr>\n",
              "  </thead>\n",
              "  <tbody>\n",
              "    <tr>\n",
              "      <th>0</th>\n",
              "      <td>0.428314</td>\n",
              "      <td>-0.385443</td>\n",
              "      <td>0.0</td>\n",
              "    </tr>\n",
              "    <tr>\n",
              "      <th>1</th>\n",
              "      <td>-2.826776</td>\n",
              "      <td>5.509518</td>\n",
              "      <td>-1.0</td>\n",
              "    </tr>\n",
              "    <tr>\n",
              "      <th>2</th>\n",
              "      <td>0.116903</td>\n",
              "      <td>0.073321</td>\n",
              "      <td>0.0</td>\n",
              "    </tr>\n",
              "    <tr>\n",
              "      <th>3</th>\n",
              "      <td>0.045202</td>\n",
              "      <td>0.342714</td>\n",
              "      <td>0.0</td>\n",
              "    </tr>\n",
              "    <tr>\n",
              "      <th>4</th>\n",
              "      <td>-0.029599</td>\n",
              "      <td>0.224150</td>\n",
              "      <td>0.0</td>\n",
              "    </tr>\n",
              "    <tr>\n",
              "      <th>...</th>\n",
              "      <td>...</td>\n",
              "      <td>...</td>\n",
              "      <td>...</td>\n",
              "    </tr>\n",
              "    <tr>\n",
              "      <th>252</th>\n",
              "      <td>0.488253</td>\n",
              "      <td>-0.439426</td>\n",
              "      <td>0.0</td>\n",
              "    </tr>\n",
              "    <tr>\n",
              "      <th>253</th>\n",
              "      <td>0.001176</td>\n",
              "      <td>0.345153</td>\n",
              "      <td>1.0</td>\n",
              "    </tr>\n",
              "    <tr>\n",
              "      <th>254</th>\n",
              "      <td>0.248050</td>\n",
              "      <td>-0.112366</td>\n",
              "      <td>0.0</td>\n",
              "    </tr>\n",
              "    <tr>\n",
              "      <th>255</th>\n",
              "      <td>0.446860</td>\n",
              "      <td>-0.366180</td>\n",
              "      <td>0.0</td>\n",
              "    </tr>\n",
              "    <tr>\n",
              "      <th>256</th>\n",
              "      <td>0.428394</td>\n",
              "      <td>-0.347464</td>\n",
              "      <td>0.0</td>\n",
              "    </tr>\n",
              "  </tbody>\n",
              "</table>\n",
              "<p>257 rows × 3 columns</p>\n",
              "</div>"
            ],
            "text/plain": [
              "           P0        P1  popularity monthly_diff.1\n",
              "0    0.428314 -0.385443                        0.0\n",
              "1   -2.826776  5.509518                       -1.0\n",
              "2    0.116903  0.073321                        0.0\n",
              "3    0.045202  0.342714                        0.0\n",
              "4   -0.029599  0.224150                        0.0\n",
              "..        ...       ...                        ...\n",
              "252  0.488253 -0.439426                        0.0\n",
              "253  0.001176  0.345153                        1.0\n",
              "254  0.248050 -0.112366                        0.0\n",
              "255  0.446860 -0.366180                        0.0\n",
              "256  0.428394 -0.347464                        0.0\n",
              "\n",
              "[257 rows x 3 columns]"
            ]
          },
          "metadata": {
            "tags": []
          },
          "execution_count": 445
        }
      ]
    },
    {
      "cell_type": "code",
      "metadata": {
        "colab": {
          "base_uri": "https://localhost:8080/",
          "height": 0
        },
        "id": "RQ5ywJYm0Efm",
        "outputId": "62bcb5eb-cce1-40c4-9cec-5562801f17e4"
      },
      "source": [
        "Visualize_PCA(artist_PCA,artist_PCA.columns.drop('popularity monthly_diff.1'),'popularity monthly_diff.1')"
      ],
      "execution_count": 446,
      "outputs": [
        {
          "output_type": "display_data",
          "data": {
            "image/png": "[encoded data removed]",
            "text/plain": [
              "<Figure size 576x576 with 1 Axes>"
            ]
          },
          "metadata": {
            "tags": [],
            "needs_background": "light"
          }
        }
      ]
    },
    {
      "cell_type": "markdown",
      "metadata": {
        "id": "0bYJxl0oJAqf"
      },
      "source": [
        "#### Artist Unique monthly, weekly differences"
      ]
    },
    {
      "cell_type": "code",
      "metadata": {
        "id": "erP_RlgaQqYQ",
        "colab": {
          "base_uri": "https://localhost:8080/",
          "height": 0
        },
        "outputId": "b2c4f4b4-c27d-4efe-caf1-103f9f207186"
      },
      "source": [
        "get_df_info(artist_diff)# FIX FILLNA"
      ],
      "execution_count": 447,
      "outputs": [
        {
          "output_type": "stream",
          "text": [
            "Index                                2056\n",
            "followers weekly_diff                2056\n",
            "followers weekly_diff_percent        2056\n",
            "followers monthly_diff               2056\n",
            "followers monthly_diff_percent       2056\n",
            "popularity weekly_diff.1             2056\n",
            "popularity weekly_diff_percent.1     2056\n",
            "popularity monthly_diff.1            2056\n",
            "popularity monthly_diff_percent.1    2056\n",
            "listeners weekly_diff.2              2056\n",
            "listeners weekly_diff_percent.2      2056\n",
            "listeners monthly_diff.2             2056\n",
            "listeners monthly_diff_percent.2     2056\n",
            "dtype: int64 \n",
            "\n",
            "                followers weekly_diff  followers weekly_diff_percent  followers monthly_diff  followers monthly_diff_percent  popularity weekly_diff.1  popularity weekly_diff_percent.1  popularity monthly_diff.1  popularity monthly_diff_percent.1  \\\n",
            "Chartmetric_ID                                                                                                                                                                                                                                           \n",
            "20syl                           229.0                         0.2300                   844.0                          0.8528                       0.0                               0.0                        0.0                              0.000   \n",
            "21 Savage                     21294.0                         0.2467                 60223.0                          0.7008                       0.0                               0.0                       -1.0                             -1.087   \n",
            "3 Um Só                         919.0                         0.4898                  3979.0                          2.1559                       0.0                               0.0                        0.0                              0.000   \n",
            "311                            2006.0                         0.3026                  8028.0                          1.2223                       0.0                               0.0                        0.0                              0.000   \n",
            "4Minute                        2497.0                         0.3009                 10040.0                          1.2208                       0.0                               0.0                        0.0                              0.000   \n",
            "\n",
            "                listeners weekly_diff.2  listeners weekly_diff_percent.2  listeners monthly_diff.2  listeners monthly_diff_percent.2  \n",
            "Chartmetric_ID                                                                                                                        \n",
            "20syl                               2.0                           0.0005                  -10314.0                           -2.7009  \n",
            "21 Savage                    -1117492.0                          -5.0836                  755915.0                            3.7591  \n",
            "3 Um Só                          -877.0                          -1.4909                   -5141.0                           -8.1489  \n",
            "311                            -57382.0                          -2.6298                 -103150.0                           -4.6303  \n",
            "4Minute                         -4480.0                          -0.8333                  -20107.0                           -3.6342   \n",
            "\n",
            "The columns are:\n",
            "Index(['followers weekly_diff', 'followers weekly_diff_percent', 'followers monthly_diff', 'followers monthly_diff_percent', 'popularity weekly_diff.1', 'popularity weekly_diff_percent.1', 'popularity monthly_diff.1',\n",
            "       'popularity monthly_diff_percent.1', 'listeners weekly_diff.2', 'listeners weekly_diff_percent.2', 'listeners monthly_diff.2', 'listeners monthly_diff_percent.2'],\n",
            "      dtype='object') \n",
            "\n",
            "<class 'pandas.core.frame.DataFrame'>\n",
            "Index: 257 entries, 20syl to mombasa\n",
            "Data columns (total 12 columns):\n",
            " #   Column                             Non-Null Count  Dtype  \n",
            "---  ------                             --------------  -----  \n",
            " 0   followers weekly_diff              257 non-null    float64\n",
            " 1   followers weekly_diff_percent      257 non-null    float64\n",
            " 2   followers monthly_diff             257 non-null    float64\n",
            " 3   followers monthly_diff_percent     257 non-null    float64\n",
            " 4   popularity weekly_diff.1           257 non-null    float64\n",
            " 5   popularity weekly_diff_percent.1   257 non-null    float64\n",
            " 6   popularity monthly_diff.1          257 non-null    float64\n",
            " 7   popularity monthly_diff_percent.1  257 non-null    float64\n",
            " 8   listeners weekly_diff.2            257 non-null    float64\n",
            " 9   listeners weekly_diff_percent.2    257 non-null    float64\n",
            " 10  listeners monthly_diff.2           257 non-null    float64\n",
            " 11  listeners monthly_diff_percent.2   257 non-null    float64\n",
            "dtypes: float64(12)\n",
            "memory usage: 26.1+ KB\n",
            "None \n",
            "\n",
            "Do we have any nulls?\n",
            "Looks like we have 0 nulls\n",
            "\n"
          ],
          "name": "stdout"
        },
        {
          "output_type": "execute_result",
          "data": {
            "text/html": [
              "<div>\n",
              "<style scoped>\n",
              "    .dataframe tbody tr th:only-of-type {\n",
              "        vertical-align: middle;\n",
              "    }\n",
              "\n",
              "    .dataframe tbody tr th {\n",
              "        vertical-align: top;\n",
              "    }\n",
              "\n",
              "    .dataframe thead th {\n",
              "        text-align: right;\n",
              "    }\n",
              "</style>\n",
              "<table border=\"1\" class=\"dataframe\">\n",
              "  <thead>\n",
              "    <tr style=\"text-align: right;\">\n",
              "      <th></th>\n",
              "      <th>min</th>\n",
              "      <th>max</th>\n",
              "      <th>median</th>\n",
              "      <th>mean</th>\n",
              "      <th>skew</th>\n",
              "    </tr>\n",
              "  </thead>\n",
              "  <tbody>\n",
              "    <tr>\n",
              "      <th>followers weekly_diff_percent</th>\n",
              "      <td>-4.220000e-02</td>\n",
              "      <td>2.525300e+00</td>\n",
              "      <td>0.2575</td>\n",
              "      <td>0.336888</td>\n",
              "      <td>2.594009</td>\n",
              "    </tr>\n",
              "    <tr>\n",
              "      <th>followers monthly_diff</th>\n",
              "      <td>-9.000000e+00</td>\n",
              "      <td>1.498370e+05</td>\n",
              "      <td>179.0000</td>\n",
              "      <td>5913.879377</td>\n",
              "      <td>4.889820</td>\n",
              "    </tr>\n",
              "    <tr>\n",
              "      <th>followers monthly_diff_percent</th>\n",
              "      <td>-5.555600e+00</td>\n",
              "      <td>1.578950e+01</td>\n",
              "      <td>1.1390</td>\n",
              "      <td>1.522076</td>\n",
              "      <td>3.386155</td>\n",
              "    </tr>\n",
              "    <tr>\n",
              "      <th>popularity weekly_diff.1</th>\n",
              "      <td>-2.000000e+00</td>\n",
              "      <td>1.000000e+00</td>\n",
              "      <td>0.0000</td>\n",
              "      <td>0.120623</td>\n",
              "      <td>1.051905</td>\n",
              "    </tr>\n",
              "    <tr>\n",
              "      <th>popularity weekly_diff_percent.1</th>\n",
              "      <td>-8.333300e+00</td>\n",
              "      <td>8.333300e+00</td>\n",
              "      <td>0.0000</td>\n",
              "      <td>0.158216</td>\n",
              "      <td>-2.300475</td>\n",
              "    </tr>\n",
              "    <tr>\n",
              "      <th>popularity monthly_diff.1</th>\n",
              "      <td>-3.000000e+00</td>\n",
              "      <td>1.200000e+01</td>\n",
              "      <td>0.0000</td>\n",
              "      <td>0.322957</td>\n",
              "      <td>5.368643</td>\n",
              "    </tr>\n",
              "    <tr>\n",
              "      <th>listeners weekly_diff.2</th>\n",
              "      <td>-1.117492e+06</td>\n",
              "      <td>1.203116e+06</td>\n",
              "      <td>-32.0000</td>\n",
              "      <td>-8076.276265</td>\n",
              "      <td>0.706944</td>\n",
              "    </tr>\n",
              "    <tr>\n",
              "      <th>listeners weekly_diff_percent.2</th>\n",
              "      <td>-2.500000e+01</td>\n",
              "      <td>3.846150e+01</td>\n",
              "      <td>-0.6168</td>\n",
              "      <td>0.138477</td>\n",
              "      <td>2.469842</td>\n",
              "    </tr>\n",
              "    <tr>\n",
              "      <th>listeners monthly_diff.2</th>\n",
              "      <td>-2.026390e+06</td>\n",
              "      <td>2.611250e+06</td>\n",
              "      <td>-55.0000</td>\n",
              "      <td>7574.560311</td>\n",
              "      <td>2.537831</td>\n",
              "    </tr>\n",
              "    <tr>\n",
              "      <th>listeners monthly_diff_percent.2</th>\n",
              "      <td>-6.836100e+01</td>\n",
              "      <td>2.756009e+03</td>\n",
              "      <td>-2.4439</td>\n",
              "      <td>11.570715</td>\n",
              "      <td>15.593532</td>\n",
              "    </tr>\n",
              "  </tbody>\n",
              "</table>\n",
              "</div>"
            ],
            "text/plain": [
              "                                           min           max    median         mean       skew\n",
              "followers weekly_diff_percent    -4.220000e-02  2.525300e+00    0.2575     0.336888   2.594009\n",
              "followers monthly_diff           -9.000000e+00  1.498370e+05  179.0000  5913.879377   4.889820\n",
              "followers monthly_diff_percent   -5.555600e+00  1.578950e+01    1.1390     1.522076   3.386155\n",
              "popularity weekly_diff.1         -2.000000e+00  1.000000e+00    0.0000     0.120623   1.051905\n",
              "popularity weekly_diff_percent.1 -8.333300e+00  8.333300e+00    0.0000     0.158216  -2.300475\n",
              "popularity monthly_diff.1        -3.000000e+00  1.200000e+01    0.0000     0.322957   5.368643\n",
              "listeners weekly_diff.2          -1.117492e+06  1.203116e+06  -32.0000 -8076.276265   0.706944\n",
              "listeners weekly_diff_percent.2  -2.500000e+01  3.846150e+01   -0.6168     0.138477   2.469842\n",
              "listeners monthly_diff.2         -2.026390e+06  2.611250e+06  -55.0000  7574.560311   2.537831\n",
              "listeners monthly_diff_percent.2 -6.836100e+01  2.756009e+03   -2.4439    11.570715  15.593532"
            ]
          },
          "metadata": {
            "tags": []
          },
          "execution_count": 447
        }
      ]
    },
    {
      "cell_type": "markdown",
      "metadata": {
        "id": "MIX6fsXPJJyB"
      },
      "source": [
        "#### Change Rate Standardized"
      ]
    },
    {
      "cell_type": "code",
      "metadata": {
        "id": "-TUtBnuO_8ZZ",
        "colab": {
          "base_uri": "https://localhost:8080/",
          "height": 0
        },
        "outputId": "c1f96f66-e63e-4a94-8e4d-77682b16c293"
      },
      "source": [
        "get_df_info(cr_std) # FIX FILLNA"
      ],
      "execution_count": 448,
      "outputs": [
        {
          "output_type": "stream",
          "text": [
            "Index            1224\n",
            "fx followers     1224\n",
            "fx popularity    1224\n",
            "fx listeners     1224\n",
            "fx ratio         1224\n",
            "dtype: int64 \n",
            "\n",
            "                          fx followers  fx popularity  fx listeners  fx ratio\n",
            "time series                                                                  \n",
            "2020-01-02T00:00:00.000Z           NaN            NaN           NaN       NaN\n",
            "2020-01-04T00:00:00.000Z      1.281164       2.331276      2.098025 -0.513887\n",
            "2020-01-08T00:00:00.000Z     -0.369903      -0.508622     -0.379410  3.263469\n",
            "2020-01-10T00:00:00.000Z      1.283420       2.377945      2.162986 -0.514081\n",
            "2020-01-14T00:00:00.000Z     -0.369903      -0.508733     -0.379410  3.171591 \n",
            "\n",
            "The columns are:\n",
            "Index(['fx followers', 'fx popularity', 'fx listeners', 'fx ratio'], dtype='object') \n",
            "\n",
            "<class 'pandas.core.frame.DataFrame'>\n",
            "Index: 153 entries, 2020-01-02T00:00:00.000Z to 2020-01-19T00:00:00.000Z\n",
            "Data columns (total 4 columns):\n",
            " #   Column         Non-Null Count  Dtype  \n",
            "---  ------         --------------  -----  \n",
            " 0   fx followers   152 non-null    float64\n",
            " 1   fx popularity  152 non-null    float64\n",
            " 2   fx listeners   152 non-null    float64\n",
            " 3   fx ratio       152 non-null    float64\n",
            "dtypes: float64(4)\n",
            "memory usage: 6.0+ KB\n",
            "None \n",
            "\n",
            "Do we have any nulls?\n",
            "Looks like we have 4 nulls\n",
            "\n"
          ],
          "name": "stdout"
        },
        {
          "output_type": "execute_result",
          "data": {
            "text/html": [
              "<div>\n",
              "<style scoped>\n",
              "    .dataframe tbody tr th:only-of-type {\n",
              "        vertical-align: middle;\n",
              "    }\n",
              "\n",
              "    .dataframe tbody tr th {\n",
              "        vertical-align: top;\n",
              "    }\n",
              "\n",
              "    .dataframe thead th {\n",
              "        text-align: right;\n",
              "    }\n",
              "</style>\n",
              "<table border=\"1\" class=\"dataframe\">\n",
              "  <thead>\n",
              "    <tr style=\"text-align: right;\">\n",
              "      <th></th>\n",
              "      <th>min</th>\n",
              "      <th>max</th>\n",
              "      <th>median</th>\n",
              "      <th>mean</th>\n",
              "      <th>skew</th>\n",
              "    </tr>\n",
              "  </thead>\n",
              "  <tbody>\n",
              "    <tr>\n",
              "      <th>fx popularity</th>\n",
              "      <td>-0.511329</td>\n",
              "      <td>4.104682</td>\n",
              "      <td>-0.375502</td>\n",
              "      <td>1.234393e-16</td>\n",
              "      <td>2.279031</td>\n",
              "    </tr>\n",
              "    <tr>\n",
              "      <th>fx listeners</th>\n",
              "      <td>-0.379410</td>\n",
              "      <td>3.802911</td>\n",
              "      <td>-0.379088</td>\n",
              "      <td>-8.107550e-17</td>\n",
              "      <td>2.441516</td>\n",
              "    </tr>\n",
              "    <tr>\n",
              "      <th>fx ratio</th>\n",
              "      <td>-0.515257</td>\n",
              "      <td>3.382224</td>\n",
              "      <td>-0.350564</td>\n",
              "      <td>0.000000e+00</td>\n",
              "      <td>2.561216</td>\n",
              "    </tr>\n",
              "  </tbody>\n",
              "</table>\n",
              "</div>"
            ],
            "text/plain": [
              "                    min       max    median          mean      skew\n",
              "fx popularity -0.511329  4.104682 -0.375502  1.234393e-16  2.279031\n",
              "fx listeners  -0.379410  3.802911 -0.379088 -8.107550e-17  2.441516\n",
              "fx ratio      -0.515257  3.382224 -0.350564  0.000000e+00  2.561216"
            ]
          },
          "metadata": {
            "tags": []
          },
          "execution_count": 448
        }
      ]
    },
    {
      "cell_type": "markdown",
      "metadata": {
        "id": "ZjctZT3uJPUV"
      },
      "source": [
        "#### Change Rate Normalized"
      ]
    },
    {
      "cell_type": "code",
      "metadata": {
        "id": "yqaM_eqNAB1d",
        "colab": {
          "base_uri": "https://localhost:8080/",
          "height": 0
        },
        "outputId": "08f58f6c-8042-4957-988a-e71f8e4428e5"
      },
      "source": [
        "get_df_info(cr_norm) # FIX FILLNA"
      ],
      "execution_count": 449,
      "outputs": [
        {
          "output_type": "stream",
          "text": [
            "Index            1224\n",
            "fx followers     1224\n",
            "fx popularity    1224\n",
            "fx listeners     1224\n",
            "fx ratio         1224\n",
            "dtype: int64 \n",
            "\n",
            "                          fx followers  fx popularity  fx listeners  fx ratio\n",
            "time series                                                                  \n",
            "2020-01-02T00:00:00.000Z           NaN            NaN           NaN       NaN\n",
            "2020-01-04T00:00:00.000Z      0.410420       0.615814  5.923591e-01  0.000351\n",
            "2020-01-08T00:00:00.000Z      0.000002       0.000586  3.908557e-09  0.969530\n",
            "2020-01-10T00:00:00.000Z      0.410981       0.625924  6.078912e-01  0.000302\n",
            "2020-01-14T00:00:00.000Z      0.000002       0.000562  4.123417e-09  0.945957 \n",
            "\n",
            "The columns are:\n",
            "Index(['fx followers', 'fx popularity', 'fx listeners', 'fx ratio'], dtype='object') \n",
            "\n",
            "<class 'pandas.core.frame.DataFrame'>\n",
            "Index: 153 entries, 2020-01-02T00:00:00.000Z to 2020-01-19T00:00:00.000Z\n",
            "Data columns (total 4 columns):\n",
            " #   Column         Non-Null Count  Dtype  \n",
            "---  ------         --------------  -----  \n",
            " 0   fx followers   152 non-null    float64\n",
            " 1   fx popularity  152 non-null    float64\n",
            " 2   fx listeners   152 non-null    float64\n",
            " 3   fx ratio       152 non-null    float64\n",
            "dtypes: float64(4)\n",
            "memory usage: 6.0+ KB\n",
            "None \n",
            "\n",
            "Do we have any nulls?\n",
            "Looks like we have 4 nulls\n",
            "\n"
          ],
          "name": "stdout"
        },
        {
          "output_type": "execute_result",
          "data": {
            "text/html": [
              "<div>\n",
              "<style scoped>\n",
              "    .dataframe tbody tr th:only-of-type {\n",
              "        vertical-align: middle;\n",
              "    }\n",
              "\n",
              "    .dataframe tbody tr th {\n",
              "        vertical-align: top;\n",
              "    }\n",
              "\n",
              "    .dataframe thead th {\n",
              "        text-align: right;\n",
              "    }\n",
              "</style>\n",
              "<table border=\"1\" class=\"dataframe\">\n",
              "  <thead>\n",
              "    <tr style=\"text-align: right;\">\n",
              "      <th></th>\n",
              "      <th>min</th>\n",
              "      <th>max</th>\n",
              "      <th>median</th>\n",
              "      <th>mean</th>\n",
              "      <th>skew</th>\n",
              "    </tr>\n",
              "  </thead>\n",
              "  <tbody>\n",
              "    <tr>\n",
              "      <th>fx popularity</th>\n",
              "      <td>0.0</td>\n",
              "      <td>1.0</td>\n",
              "      <td>0.029425</td>\n",
              "      <td>0.110773</td>\n",
              "      <td>2.279031</td>\n",
              "    </tr>\n",
              "    <tr>\n",
              "      <th>fx listeners</th>\n",
              "      <td>0.0</td>\n",
              "      <td>1.0</td>\n",
              "      <td>0.000077</td>\n",
              "      <td>0.090718</td>\n",
              "      <td>2.441516</td>\n",
              "    </tr>\n",
              "    <tr>\n",
              "      <th>fx ratio</th>\n",
              "      <td>0.0</td>\n",
              "      <td>1.0</td>\n",
              "      <td>0.042256</td>\n",
              "      <td>0.132202</td>\n",
              "      <td>2.561216</td>\n",
              "    </tr>\n",
              "  </tbody>\n",
              "</table>\n",
              "</div>"
            ],
            "text/plain": [
              "               min  max    median      mean      skew\n",
              "fx popularity  0.0  1.0  0.029425  0.110773  2.279031\n",
              "fx listeners   0.0  1.0  0.000077  0.090718  2.441516\n",
              "fx ratio       0.0  1.0  0.042256  0.132202  2.561216"
            ]
          },
          "metadata": {
            "tags": []
          },
          "execution_count": 449
        }
      ]
    },
    {
      "cell_type": "markdown",
      "metadata": {
        "id": "B-0apiGTJTsz"
      },
      "source": [
        "#### Change Rate Standardized then Normalized because"
      ]
    },
    {
      "cell_type": "code",
      "metadata": {
        "id": "eJye8EdIAHwD",
        "colab": {
          "base_uri": "https://localhost:8080/",
          "height": 0
        },
        "outputId": "5dc18a72-2ed4-4692-e240-34e5976d3634"
      },
      "source": [
        "get_df_info(cr_stdnorm) # FIX NANs"
      ],
      "execution_count": 450,
      "outputs": [
        {
          "output_type": "stream",
          "text": [
            "Index             128\n",
            "fx followers     1224\n",
            "fx popularity    1224\n",
            "fx listeners     1224\n",
            "fx ratio         1224\n",
            "dtype: int64 \n",
            "\n",
            "   fx followers  fx popularity  fx listeners  fx ratio\n",
            "0           NaN            NaN           NaN       NaN\n",
            "1      0.410420       0.615814  5.923591e-01  0.000351\n",
            "2      0.000002       0.000586  3.908557e-09  0.969530\n",
            "3      0.410981       0.625924  6.078912e-01  0.000302\n",
            "4      0.000002       0.000562  4.123417e-09  0.945957 \n",
            "\n",
            "The columns are:\n",
            "Index(['fx followers', 'fx popularity', 'fx listeners', 'fx ratio'], dtype='object') \n",
            "\n",
            "<class 'pandas.core.frame.DataFrame'>\n",
            "RangeIndex: 153 entries, 0 to 152\n",
            "Data columns (total 4 columns):\n",
            " #   Column         Non-Null Count  Dtype  \n",
            "---  ------         --------------  -----  \n",
            " 0   fx followers   152 non-null    float64\n",
            " 1   fx popularity  152 non-null    float64\n",
            " 2   fx listeners   152 non-null    float64\n",
            " 3   fx ratio       152 non-null    float64\n",
            "dtypes: float64(4)\n",
            "memory usage: 4.9 KB\n",
            "None \n",
            "\n",
            "Do we have any nulls?\n",
            "Looks like we have 4 nulls\n",
            "\n"
          ],
          "name": "stdout"
        },
        {
          "output_type": "execute_result",
          "data": {
            "text/html": [
              "<div>\n",
              "<style scoped>\n",
              "    .dataframe tbody tr th:only-of-type {\n",
              "        vertical-align: middle;\n",
              "    }\n",
              "\n",
              "    .dataframe tbody tr th {\n",
              "        vertical-align: top;\n",
              "    }\n",
              "\n",
              "    .dataframe thead th {\n",
              "        text-align: right;\n",
              "    }\n",
              "</style>\n",
              "<table border=\"1\" class=\"dataframe\">\n",
              "  <thead>\n",
              "    <tr style=\"text-align: right;\">\n",
              "      <th></th>\n",
              "      <th>min</th>\n",
              "      <th>max</th>\n",
              "      <th>median</th>\n",
              "      <th>mean</th>\n",
              "      <th>skew</th>\n",
              "    </tr>\n",
              "  </thead>\n",
              "  <tbody>\n",
              "    <tr>\n",
              "      <th>fx popularity</th>\n",
              "      <td>0.0</td>\n",
              "      <td>1.0</td>\n",
              "      <td>0.029425</td>\n",
              "      <td>0.110773</td>\n",
              "      <td>2.279031</td>\n",
              "    </tr>\n",
              "    <tr>\n",
              "      <th>fx listeners</th>\n",
              "      <td>0.0</td>\n",
              "      <td>1.0</td>\n",
              "      <td>0.000077</td>\n",
              "      <td>0.090718</td>\n",
              "      <td>2.441516</td>\n",
              "    </tr>\n",
              "    <tr>\n",
              "      <th>fx ratio</th>\n",
              "      <td>0.0</td>\n",
              "      <td>1.0</td>\n",
              "      <td>0.042256</td>\n",
              "      <td>0.132202</td>\n",
              "      <td>2.561216</td>\n",
              "    </tr>\n",
              "  </tbody>\n",
              "</table>\n",
              "</div>"
            ],
            "text/plain": [
              "               min  max    median      mean      skew\n",
              "fx popularity  0.0  1.0  0.029425  0.110773  2.279031\n",
              "fx listeners   0.0  1.0  0.000077  0.090718  2.441516\n",
              "fx ratio       0.0  1.0  0.042256  0.132202  2.561216"
            ]
          },
          "metadata": {
            "tags": []
          },
          "execution_count": 450
        }
      ]
    },
    {
      "cell_type": "markdown",
      "metadata": {
        "id": "X0n2hhpmJYK1"
      },
      "source": [
        "#### Group by Chartmetric ID and then Timeseries. \n",
        "- Did ffill for nans"
      ]
    },
    {
      "cell_type": "code",
      "metadata": {
        "id": "l5n9oBNEAN_8",
        "colab": {
          "base_uri": "https://localhost:8080/",
          "height": 0
        },
        "outputId": "c3d686ce-5f28-49f4-c7b9-a45fea5ab2af"
      },
      "source": [
        "get_df_info(grp)"
      ],
      "execution_count": 451,
      "outputs": [
        {
          "output_type": "stream",
          "text": [
            "Index                                   1224\n",
            "Chartmetric_ID                          1224\n",
            "followers value                         1224\n",
            "popularity value.1                      1224\n",
            "listeners value.2                       1224\n",
            "followers_to_listeners_ratio value.3    1224\n",
            "dtype: int64 \n",
            "\n",
            "                         Chartmetric_ID  followers value  popularity value.1  listeners value.2  followers_to_listeners_ratio value.3\n",
            "followers timestp                                                                                                                    \n",
            "2020-01-01T00:00:00.000Z       Lyrycyst            509.0                 3.0              190.0                                267.89\n",
            "2020-01-02T00:00:00.000Z     Sam & Dave         180028.0                61.0          1462956.0                                 12.31\n",
            "2020-01-03T00:00:00.000Z       Lyrycyst            509.0                 3.0              187.0                                272.19\n",
            "2020-01-04T00:00:00.000Z     Sam & Dave         180274.0                62.0          1477611.0                                 12.20\n",
            "2020-01-05T00:00:00.000Z       Lyrycyst            508.0                 3.0              193.0                                263.21 \n",
            "\n",
            "The columns are:\n",
            "Index(['Chartmetric_ID', 'followers value', 'popularity value.1', 'listeners value.2', 'followers_to_listeners_ratio value.3'], dtype='object') \n",
            "\n",
            "<class 'pandas.core.frame.DataFrame'>\n",
            "Index: 153 entries, 2020-01-01T00:00:00.000Z to 2020-06-01T00:00:00.000Z\n",
            "Data columns (total 5 columns):\n",
            " #   Column                                Non-Null Count  Dtype  \n",
            "---  ------                                --------------  -----  \n",
            " 0   Chartmetric_ID                        153 non-null    object \n",
            " 1   followers value                       153 non-null    float64\n",
            " 2   popularity value.1                    153 non-null    float64\n",
            " 3   listeners value.2                     153 non-null    float64\n",
            " 4   followers_to_listeners_ratio value.3  153 non-null    float64\n",
            "dtypes: float64(4), object(1)\n",
            "memory usage: 7.2+ KB\n",
            "None \n",
            "\n",
            "Do we have any nulls?\n",
            "Looks like we have 0 nulls\n",
            "\n"
          ],
          "name": "stdout"
        },
        {
          "output_type": "execute_result",
          "data": {
            "text/html": [
              "<div>\n",
              "<style scoped>\n",
              "    .dataframe tbody tr th:only-of-type {\n",
              "        vertical-align: middle;\n",
              "    }\n",
              "\n",
              "    .dataframe tbody tr th {\n",
              "        vertical-align: top;\n",
              "    }\n",
              "\n",
              "    .dataframe thead th {\n",
              "        text-align: right;\n",
              "    }\n",
              "</style>\n",
              "<table border=\"1\" class=\"dataframe\">\n",
              "  <thead>\n",
              "    <tr style=\"text-align: right;\">\n",
              "      <th></th>\n",
              "      <th>min</th>\n",
              "      <th>max</th>\n",
              "      <th>median</th>\n",
              "      <th>mean</th>\n",
              "      <th>skew</th>\n",
              "    </tr>\n",
              "  </thead>\n",
              "  <tbody>\n",
              "    <tr>\n",
              "      <th>followers value</th>\n",
              "      <td>334.00</td>\n",
              "      <td>295738.00</td>\n",
              "      <td>191204.00</td>\n",
              "      <td>1.632436e+05</td>\n",
              "      <td>-0.900501</td>\n",
              "    </tr>\n",
              "    <tr>\n",
              "      <th>popularity value.1</th>\n",
              "      <td>2.00</td>\n",
              "      <td>67.00</td>\n",
              "      <td>59.00</td>\n",
              "      <td>4.983007e+01</td>\n",
              "      <td>-1.562816</td>\n",
              "    </tr>\n",
              "    <tr>\n",
              "      <th>listeners value.2</th>\n",
              "      <td>162.00</td>\n",
              "      <td>2127363.00</td>\n",
              "      <td>1577972.00</td>\n",
              "      <td>1.325069e+06</td>\n",
              "      <td>-1.254605</td>\n",
              "    </tr>\n",
              "    <tr>\n",
              "      <th>followers_to_listeners_ratio value.3</th>\n",
              "      <td>7.65</td>\n",
              "      <td>273.66</td>\n",
              "      <td>12.04</td>\n",
              "      <td>4.616562e+01</td>\n",
              "      <td>2.072831</td>\n",
              "    </tr>\n",
              "  </tbody>\n",
              "</table>\n",
              "</div>"
            ],
            "text/plain": [
              "                                         min         max      median          mean      skew\n",
              "followers value                       334.00   295738.00   191204.00  1.632436e+05 -0.900501\n",
              "popularity value.1                      2.00       67.00       59.00  4.983007e+01 -1.562816\n",
              "listeners value.2                     162.00  2127363.00  1577972.00  1.325069e+06 -1.254605\n",
              "followers_to_listeners_ratio value.3    7.65      273.66       12.04  4.616562e+01  2.072831"
            ]
          },
          "metadata": {
            "tags": []
          },
          "execution_count": 451
        }
      ]
    },
    {
      "cell_type": "markdown",
      "metadata": {
        "id": "nP59UZJ9JhlO"
      },
      "source": [
        "#### initial target is grouped by Chartmetric ID and Timeseries"
      ]
    },
    {
      "cell_type": "code",
      "metadata": {
        "id": "Hl59n0xiAmtE",
        "colab": {
          "base_uri": "https://localhost:8080/",
          "height": 0
        },
        "outputId": "ed5c24ab-e961-42a4-9c76-c7624e67128b"
      },
      "source": [
        "plot_heatmap(grp)"
      ],
      "execution_count": 452,
      "outputs": [
        {
          "output_type": "display_data",
          "data": {
            "image/png": "[encoded data removed]",
            "text/plain": [
              "<Figure size 1152x432 with 2 Axes>"
            ]
          },
          "metadata": {
            "tags": [],
            "needs_background": "light"
          }
        }
      ]
    },
    {
      "cell_type": "markdown",
      "metadata": {
        "id": "yIYjBrsPYICm"
      },
      "source": [
        "#### Find Highly correlated metrics to list and dataframe"
      ]
    },
    {
      "cell_type": "code",
      "metadata": {
        "id": "_DoS36CIAdzc",
        "colab": {
          "base_uri": "https://localhost:8080/"
        },
        "outputId": "17777e8b-1108-402a-d270-5d1a3db58f16"
      },
      "source": [
        "# Find Highly correlated metrics to list and dataframe\n",
        "corr_list,corr_data = calc_correlations(grp)\n",
        "corr_list"
      ],
      "execution_count": 453,
      "outputs": [
        {
          "output_type": "execute_result",
          "data": {
            "text/plain": [
              "followers_to_listeners_ratio value.3  followers_to_listeners_ratio value.3         NaN\n",
              "listeners value.2                     listeners value.2                            NaN\n",
              "popularity value.1                    popularity value.1                           NaN\n",
              "followers value                       followers value                              NaN\n",
              "listeners value.2                     followers value                         0.986171\n",
              "followers value                       listeners value.2                       0.986171\n",
              "listeners value.2                     popularity value.1                      0.961009\n",
              "popularity value.1                    listeners value.2                       0.961009\n",
              "                                      followers value                         0.933103\n",
              "followers value                       popularity value.1                      0.933103\n",
              "followers_to_listeners_ratio value.3  followers value                        -0.784836\n",
              "followers value                       followers_to_listeners_ratio value.3   -0.784836\n",
              "followers_to_listeners_ratio value.3  listeners value.2                      -0.824031\n",
              "listeners value.2                     followers_to_listeners_ratio value.3   -0.824031\n",
              "followers_to_listeners_ratio value.3  popularity value.1                     -0.924755\n",
              "popularity value.1                    followers_to_listeners_ratio value.3   -0.924755\n",
              "dtype: float64"
            ]
          },
          "metadata": {
            "tags": []
          },
          "execution_count": 453
        }
      ]
    },
    {
      "cell_type": "code",
      "metadata": {
        "colab": {
          "base_uri": "https://localhost:8080/",
          "height": 0
        },
        "id": "bqzKTJODYyju",
        "outputId": "b293bf1f-79f6-4dc9-86ec-b98058eca1af"
      },
      "source": [
        "corr_data"
      ],
      "execution_count": 454,
      "outputs": [
        {
          "output_type": "execute_result",
          "data": {
            "text/html": [
              "<div>\n",
              "<style scoped>\n",
              "    .dataframe tbody tr th:only-of-type {\n",
              "        vertical-align: middle;\n",
              "    }\n",
              "\n",
              "    .dataframe tbody tr th {\n",
              "        vertical-align: top;\n",
              "    }\n",
              "\n",
              "    .dataframe thead th {\n",
              "        text-align: right;\n",
              "    }\n",
              "</style>\n",
              "<table border=\"1\" class=\"dataframe\">\n",
              "  <thead>\n",
              "    <tr style=\"text-align: right;\">\n",
              "      <th></th>\n",
              "      <th>followers value</th>\n",
              "      <th>popularity value.1</th>\n",
              "      <th>listeners value.2</th>\n",
              "      <th>followers_to_listeners_ratio value.3</th>\n",
              "    </tr>\n",
              "  </thead>\n",
              "  <tbody>\n",
              "    <tr>\n",
              "      <th>followers value</th>\n",
              "      <td>1.000000</td>\n",
              "      <td>0.933103</td>\n",
              "      <td>0.986171</td>\n",
              "      <td>NaN</td>\n",
              "    </tr>\n",
              "    <tr>\n",
              "      <th>popularity value.1</th>\n",
              "      <td>0.933103</td>\n",
              "      <td>1.000000</td>\n",
              "      <td>0.961009</td>\n",
              "      <td>NaN</td>\n",
              "    </tr>\n",
              "    <tr>\n",
              "      <th>listeners value.2</th>\n",
              "      <td>0.986171</td>\n",
              "      <td>0.961009</td>\n",
              "      <td>1.000000</td>\n",
              "      <td>NaN</td>\n",
              "    </tr>\n",
              "    <tr>\n",
              "      <th>followers_to_listeners_ratio value.3</th>\n",
              "      <td>NaN</td>\n",
              "      <td>NaN</td>\n",
              "      <td>NaN</td>\n",
              "      <td>1.0</td>\n",
              "    </tr>\n",
              "  </tbody>\n",
              "</table>\n",
              "</div>"
            ],
            "text/plain": [
              "                                      followers value  popularity value.1  listeners value.2  followers_to_listeners_ratio value.3\n",
              "followers value                              1.000000            0.933103           0.986171                                   NaN\n",
              "popularity value.1                           0.933103            1.000000           0.961009                                   NaN\n",
              "listeners value.2                            0.986171            0.961009           1.000000                                   NaN\n",
              "followers_to_listeners_ratio value.3              NaN                 NaN                NaN                                   1.0"
            ]
          },
          "metadata": {
            "tags": []
          },
          "execution_count": 454
        }
      ]
    },
    {
      "cell_type": "markdown",
      "metadata": {
        "id": "C43rGGwoLw0k"
      },
      "source": [
        "##### Pair Regression Exploration"
      ]
    },
    {
      "cell_type": "markdown",
      "metadata": {
        "id": "usJDmV3PYOF5"
      },
      "source": [
        "#### Plot pair relationship of correlated metrics greater than 0.5"
      ]
    },
    {
      "cell_type": "code",
      "metadata": {
        "colab": {
          "base_uri": "https://localhost:8080/",
          "height": 0
        },
        "id": "Lm-E07zWYPZI",
        "outputId": "ccdf7a7b-1d55-4aa3-d401-530838990509"
      },
      "source": [
        "# index corr_list by correlation greater than 0.5\n",
        "plot_index = corr_list[corr_list > 0.5].index\n",
        "# plot their pair x y relationship\n",
        "for plot in plot_index:\n",
        "  scatter_plot(grp,plot[0],plot[1])"
      ],
      "execution_count": 455,
      "outputs": [
        {
          "output_type": "display_data",
          "data": {
            "image/png": "[encoded data removed]",
            "text/plain": [
              "<Figure size 432x288 with 1 Axes>"
            ]
          },
          "metadata": {
            "tags": [],
            "needs_background": "light"
          }
        },
        {
          "output_type": "display_data",
          "data": {
            "image/png": "[encoded data removed]",
            "text/plain": [
              "<Figure size 432x288 with 1 Axes>"
            ]
          },
          "metadata": {
            "tags": [],
            "needs_background": "light"
          }
        },
        {
          "output_type": "display_data",
          "data": {
            "image/png": "[encoded data removed]",
            "text/plain": [
              "<Figure size 432x288 with 1 Axes>"
            ]
          },
          "metadata": {
            "tags": [],
            "needs_background": "light"
          }
        },
        {
          "output_type": "display_data",
          "data": {
            "image/png": "[encoded data removed]",
            "text/plain": [
              "<Figure size 432x288 with 1 Axes>"
            ]
          },
          "metadata": {
            "tags": [],
            "needs_background": "light"
          }
        },
        {
          "output_type": "display_data",
          "data": {
            "image/png": "[encoded data removed]",
            "text/plain": [
              "<Figure size 432x288 with 1 Axes>"
            ]
          },
          "metadata": {
            "tags": [],
            "needs_background": "light"
          }
        },
        {
          "output_type": "display_data",
          "data": {
            "image/png": "[encoded data removed]",
            "text/plain": [
              "<Figure size 432x288 with 1 Axes>"
            ]
          },
          "metadata": {
            "tags": [],
            "needs_background": "light"
          }
        }
      ]
    },
    {
      "cell_type": "markdown",
      "metadata": {
        "id": "OA-hmghxL8gH"
      },
      "source": [
        "#### Pair init Regression \n"
      ]
    },
    {
      "cell_type": "code",
      "metadata": {
        "colab": {
          "base_uri": "https://localhost:8080/"
        },
        "id": "pjflGWkGK85N",
        "outputId": "fa9d92f0-2fed-4186-8b62-7093a8cbb603"
      },
      "source": [
        "len([plot_index[0][0]])"
      ],
      "execution_count": 456,
      "outputs": [
        {
          "output_type": "execute_result",
          "data": {
            "text/plain": [
              "1"
            ]
          },
          "metadata": {
            "tags": []
          },
          "execution_count": 456
        }
      ]
    },
    {
      "cell_type": "code",
      "metadata": {
        "colab": {
          "base_uri": "https://localhost:8080/",
          "height": 1000
        },
        "id": "jgUiDF46MBr9",
        "outputId": "386339b1-db08-47fe-a385-7e82eae8c8a5"
      },
      "source": [
        "for plot in plot_index:\n",
        "    linear_regression_initial(grp,[plot[0]],plot[1])"
      ],
      "execution_count": 457,
      "outputs": [
        {
          "output_type": "stream",
          "text": [
            "1\n",
            "                            OLS Regression Results                            \n",
            "==============================================================================\n",
            "Dep. Variable:        followers value   R-squared:                       0.973\n",
            "Model:                            OLS   Adj. R-squared:                  0.973\n",
            "Method:                 Least Squares   F-statistic:                     4321.\n",
            "Date:                Tue, 22 Dec 2020   Prob (F-statistic):           5.91e-96\n",
            "Time:                        11:19:58   Log-Likelihood:                -1346.5\n",
            "No. Observations:                 122   AIC:                             2697.\n",
            "Df Residuals:                     120   BIC:                             2703.\n",
            "Df Model:                           1                                         \n",
            "Covariance Type:            nonrobust                                         \n",
            "=====================================================================================\n",
            "                        coef    std err          t      P>|t|      [0.025      0.975]\n",
            "-------------------------------------------------------------------------------------\n",
            "const             -4972.0040   2880.516     -1.726      0.087   -1.07e+04     731.217\n",
            "listeners value.2     0.1272      0.002     65.731      0.000       0.123       0.131\n",
            "==============================================================================\n",
            "Omnibus:                       55.283   Durbin-Watson:                   2.186\n",
            "Prob(Omnibus):                  0.000   Jarque-Bera (JB):              129.267\n",
            "Skew:                           1.892   Prob(JB):                     8.51e-29\n",
            "Kurtosis:                       6.333   Cond. No.                     3.13e+06\n",
            "==============================================================================\n",
            "\n",
            "Warnings:\n",
            "[1] Standard Errors assume that the covariance matrix of the errors is correctly specified.\n",
            "[2] The condition number is large, 3.13e+06. This might indicate that there are\n",
            "strong multicollinearity or other numerical problems.\n"
          ],
          "name": "stdout"
        },
        {
          "output_type": "display_data",
          "data": {
            "image/png": "[encoded data removed]",
            "text/plain": [
              "<Figure size 576x360 with 1 Axes>"
            ]
          },
          "metadata": {
            "tags": [],
            "needs_background": "light"
          }
        },
        {
          "output_type": "display_data",
          "data": {
            "image/png": "[encoded data removed]",
            "text/plain": [
              "<Figure size 432x288 with 1 Axes>"
            ]
          },
          "metadata": {
            "tags": [],
            "needs_background": "light"
          }
        },
        {
          "output_type": "stream",
          "text": [
            "*c* argument looks like a single numeric RGB or RGBA sequence, which should be avoided as value-mapping will have precedence in case its length matches with *x* & *y*.  Please use the *color* keyword-argument or provide a 2-D array with a single row if you intend to specify the same RGB or RGBA value for all points.\n"
          ],
          "name": "stderr"
        },
        {
          "output_type": "display_data",
          "data": {
            "image/png": "[encoded data removed]",
            "text/plain": [
              "<Figure size 432x288 with 1 Axes>"
            ]
          },
          "metadata": {
            "tags": [],
            "needs_background": "light"
          }
        },
        {
          "output_type": "stream",
          "text": [
            "1\n",
            "                            OLS Regression Results                            \n",
            "==============================================================================\n",
            "Dep. Variable:      listeners value.2   R-squared:                       0.980\n",
            "Model:                            OLS   Adj. R-squared:                  0.980\n",
            "Method:                 Least Squares   F-statistic:                     5936.\n",
            "Date:                Tue, 22 Dec 2020   Prob (F-statistic):          4.85e-104\n",
            "Time:                        11:19:59   Log-Likelihood:                -1579.7\n",
            "No. Observations:                 122   AIC:                             3163.\n",
            "Df Residuals:                     120   BIC:                             3169.\n",
            "Df Model:                           1                                         \n",
            "Covariance Type:            nonrobust                                         \n",
            "===================================================================================\n",
            "                      coef    std err          t      P>|t|      [0.025      0.975]\n",
            "-----------------------------------------------------------------------------------\n",
            "const            5.618e+04   1.83e+04      3.062      0.003    1.99e+04    9.25e+04\n",
            "followers value     7.8080      0.101     77.044      0.000       7.607       8.009\n",
            "==============================================================================\n",
            "Omnibus:                       54.122   Durbin-Watson:                   2.107\n",
            "Prob(Omnibus):                  0.000   Jarque-Bera (JB):              133.416\n",
            "Skew:                          -1.798   Prob(JB):                     1.07e-29\n",
            "Kurtosis:                       6.649   Cond. No.                     3.58e+05\n",
            "==============================================================================\n",
            "\n",
            "Warnings:\n",
            "[1] Standard Errors assume that the covariance matrix of the errors is correctly specified.\n",
            "[2] The condition number is large, 3.58e+05. This might indicate that there are\n",
            "strong multicollinearity or other numerical problems.\n"
          ],
          "name": "stdout"
        },
        {
          "output_type": "display_data",
          "data": {
            "image/png": "[encoded data removed]",
            "text/plain": [
              "<Figure size 576x360 with 1 Axes>"
            ]
          },
          "metadata": {
            "tags": [],
            "needs_background": "light"
          }
        },
        {
          "output_type": "display_data",
          "data": {
            "image/png": "[encoded data removed]",
            "text/plain": [
              "<Figure size 432x288 with 1 Axes>"
            ]
          },
          "metadata": {
            "tags": [],
            "needs_background": "light"
          }
        },
        {
          "output_type": "stream",
          "text": [
            "*c* argument looks like a single numeric RGB or RGBA sequence, which should be avoided as value-mapping will have precedence in case its length matches with *x* & *y*.  Please use the *color* keyword-argument or provide a 2-D array with a single row if you intend to specify the same RGB or RGBA value for all points.\n"
          ],
          "name": "stderr"
        },
        {
          "output_type": "display_data",
          "data": {
            "image/png": "[encoded data removed]",
            "text/plain": [
              "<Figure size 432x288 with 1 Axes>"
            ]
          },
          "metadata": {
            "tags": [],
            "needs_background": "light"
          }
        },
        {
          "output_type": "stream",
          "text": [
            "1\n",
            "                            OLS Regression Results                            \n",
            "==============================================================================\n",
            "Dep. Variable:     popularity value.1   R-squared:                       0.917\n",
            "Model:                            OLS   Adj. R-squared:                  0.916\n",
            "Method:                 Least Squares   F-statistic:                     1327.\n",
            "Date:                Tue, 22 Dec 2020   Prob (F-statistic):           1.00e-66\n",
            "Time:                        11:19:59   Log-Likelihood:                -400.93\n",
            "No. Observations:                 122   AIC:                             805.9\n",
            "Df Residuals:                     120   BIC:                             811.5\n",
            "Df Model:                           1                                         \n",
            "Covariance Type:            nonrobust                                         \n",
            "=====================================================================================\n",
            "                        coef    std err          t      P>|t|      [0.025      0.975]\n",
            "-------------------------------------------------------------------------------------\n",
            "const                10.1039      1.219      8.285      0.000       7.689      12.518\n",
            "listeners value.2  2.998e-05   8.23e-07     36.429      0.000    2.83e-05    3.16e-05\n",
            "==============================================================================\n",
            "Omnibus:                       67.664   Durbin-Watson:                   1.690\n",
            "Prob(Omnibus):                  0.000   Jarque-Bera (JB):              265.409\n",
            "Skew:                           2.016   Prob(JB):                     2.33e-58\n",
            "Kurtosis:                       8.996   Cond. No.                     3.06e+06\n",
            "==============================================================================\n",
            "\n",
            "Warnings:\n",
            "[1] Standard Errors assume that the covariance matrix of the errors is correctly specified.\n",
            "[2] The condition number is large, 3.06e+06. This might indicate that there are\n",
            "strong multicollinearity or other numerical problems.\n"
          ],
          "name": "stdout"
        },
        {
          "output_type": "display_data",
          "data": {
            "image/png": "[encoded data removed]",
            "text/plain": [
              "<Figure size 576x360 with 1 Axes>"
            ]
          },
          "metadata": {
            "tags": [],
            "needs_background": "light"
          }
        },
        {
          "output_type": "display_data",
          "data": {
            "image/png": "[encoded data removed]",
            "text/plain": [
              "<Figure size 432x288 with 1 Axes>"
            ]
          },
          "metadata": {
            "tags": [],
            "needs_background": "light"
          }
        },
        {
          "output_type": "stream",
          "text": [
            "*c* argument looks like a single numeric RGB or RGBA sequence, which should be avoided as value-mapping will have precedence in case its length matches with *x* & *y*.  Please use the *color* keyword-argument or provide a 2-D array with a single row if you intend to specify the same RGB or RGBA value for all points.\n"
          ],
          "name": "stderr"
        },
        {
          "output_type": "display_data",
          "data": {
            "image/png": "[encoded data removed]",
            "text/plain": [
              "<Figure size 432x288 with 1 Axes>"
            ]
          },
          "metadata": {
            "tags": [],
            "needs_background": "light"
          }
        },
        {
          "output_type": "stream",
          "text": [
            "1\n",
            "                            OLS Regression Results                            \n",
            "==============================================================================\n",
            "Dep. Variable:      listeners value.2   R-squared:                       0.946\n",
            "Model:                            OLS   Adj. R-squared:                  0.946\n",
            "Method:                 Least Squares   F-statistic:                     2122.\n",
            "Date:                Tue, 22 Dec 2020   Prob (F-statistic):           3.87e-78\n",
            "Time:                        11:20:00   Log-Likelihood:                -1633.9\n",
            "No. Observations:                 122   AIC:                             3272.\n",
            "Df Residuals:                     120   BIC:                             3278.\n",
            "Df Model:                           1                                         \n",
            "Covariance Type:            nonrobust                                         \n",
            "======================================================================================\n",
            "                         coef    std err          t      P>|t|      [0.025      0.975]\n",
            "--------------------------------------------------------------------------------------\n",
            "const              -1.472e+05   3.56e+04     -4.129      0.000   -2.18e+05   -7.66e+04\n",
            "popularity value.1      3e+04    651.335     46.063      0.000    2.87e+04    3.13e+04\n",
            "==============================================================================\n",
            "Omnibus:                      105.002   Durbin-Watson:                   1.903\n",
            "Prob(Omnibus):                  0.000   Jarque-Bera (JB):             1338.088\n",
            "Skew:                          -2.826   Prob(JB):                    2.74e-291\n",
            "Kurtosis:                      18.208   Cond. No.                         135.\n",
            "==============================================================================\n",
            "\n",
            "Warnings:\n",
            "[1] Standard Errors assume that the covariance matrix of the errors is correctly specified.\n"
          ],
          "name": "stdout"
        },
        {
          "output_type": "display_data",
          "data": {
            "image/png": "[encoded data removed]",
            "text/plain": [
              "<Figure size 576x360 with 1 Axes>"
            ]
          },
          "metadata": {
            "tags": [],
            "needs_background": "light"
          }
        },
        {
          "output_type": "display_data",
          "data": {
            "image/png": "[encoded data removed]",
            "text/plain": [
              "<Figure size 432x288 with 1 Axes>"
            ]
          },
          "metadata": {
            "tags": [],
            "needs_background": "light"
          }
        },
        {
          "output_type": "stream",
          "text": [
            "*c* argument looks like a single numeric RGB or RGBA sequence, which should be avoided as value-mapping will have precedence in case its length matches with *x* & *y*.  Please use the *color* keyword-argument or provide a 2-D array with a single row if you intend to specify the same RGB or RGBA value for all points.\n"
          ],
          "name": "stderr"
        },
        {
          "output_type": "display_data",
          "data": {
            "image/png": "[encoded data removed]",
            "text/plain": [
              "<Figure size 432x288 with 1 Axes>"
            ]
          },
          "metadata": {
            "tags": [],
            "needs_background": "light"
          }
        },
        {
          "output_type": "stream",
          "text": [
            "1\n",
            "                            OLS Regression Results                            \n",
            "==============================================================================\n",
            "Dep. Variable:        followers value   R-squared:                       0.855\n",
            "Model:                            OLS   Adj. R-squared:                  0.854\n",
            "Method:                 Least Squares   F-statistic:                     709.8\n",
            "Date:                Tue, 22 Dec 2020   Prob (F-statistic):           3.20e-52\n",
            "Time:                        11:20:00   Log-Likelihood:                -1444.7\n",
            "No. Observations:                 122   AIC:                             2893.\n",
            "Df Residuals:                     120   BIC:                             2899.\n",
            "Df Model:                           1                                         \n",
            "Covariance Type:            nonrobust                                         \n",
            "======================================================================================\n",
            "                         coef    std err          t      P>|t|      [0.025      0.975]\n",
            "--------------------------------------------------------------------------------------\n",
            "const              -2.971e+04   7887.331     -3.767      0.000   -4.53e+04   -1.41e+04\n",
            "popularity value.1  3846.3668    144.367     26.643      0.000    3560.530    4132.204\n",
            "==============================================================================\n",
            "Omnibus:                       17.087   Durbin-Watson:                   1.720\n",
            "Prob(Omnibus):                  0.000   Jarque-Bera (JB):               45.915\n",
            "Skew:                          -0.433   Prob(JB):                     1.07e-10\n",
            "Kurtosis:                       5.878   Cond. No.                         140.\n",
            "==============================================================================\n",
            "\n",
            "Warnings:\n",
            "[1] Standard Errors assume that the covariance matrix of the errors is correctly specified.\n"
          ],
          "name": "stdout"
        },
        {
          "output_type": "display_data",
          "data": {
            "image/png": "[encoded data removed]",
            "text/plain": [
              "<Figure size 576x360 with 1 Axes>"
            ]
          },
          "metadata": {
            "tags": [],
            "needs_background": "light"
          }
        },
        {
          "output_type": "display_data",
          "data": {
            "image/png": "[encoded data removed]",
            "text/plain": [
              "<Figure size 432x288 with 1 Axes>"
            ]
          },
          "metadata": {
            "tags": [],
            "needs_background": "light"
          }
        },
        {
          "output_type": "stream",
          "text": [
            "*c* argument looks like a single numeric RGB or RGBA sequence, which should be avoided as value-mapping will have precedence in case its length matches with *x* & *y*.  Please use the *color* keyword-argument or provide a 2-D array with a single row if you intend to specify the same RGB or RGBA value for all points.\n"
          ],
          "name": "stderr"
        },
        {
          "output_type": "display_data",
          "data": {
            "image/png": "[encoded data removed]",
            "text/plain": [
              "<Figure size 432x288 with 1 Axes>"
            ]
          },
          "metadata": {
            "tags": [],
            "needs_background": "light"
          }
        },
        {
          "output_type": "stream",
          "text": [
            "1\n",
            "                            OLS Regression Results                            \n",
            "==============================================================================\n",
            "Dep. Variable:     popularity value.1   R-squared:                       0.866\n",
            "Model:                            OLS   Adj. R-squared:                  0.864\n",
            "Method:                 Least Squares   F-statistic:                     772.3\n",
            "Date:                Tue, 22 Dec 2020   Prob (F-statistic):           4.11e-54\n",
            "Time:                        11:20:01   Log-Likelihood:                -425.59\n",
            "No. Observations:                 122   AIC:                             855.2\n",
            "Df Residuals:                     120   BIC:                             860.8\n",
            "Df Model:                           1                                         \n",
            "Covariance Type:            nonrobust                                         \n",
            "===================================================================================\n",
            "                      coef    std err          t      P>|t|      [0.025      0.975]\n",
            "-----------------------------------------------------------------------------------\n",
            "const              13.1885      1.500      8.790      0.000      10.218      16.159\n",
            "followers value     0.0002   8.13e-06     27.790      0.000       0.000       0.000\n",
            "==============================================================================\n",
            "Omnibus:                        4.275   Durbin-Watson:                   1.813\n",
            "Prob(Omnibus):                  0.118   Jarque-Bera (JB):                4.230\n",
            "Skew:                           0.252   Prob(JB):                        0.121\n",
            "Kurtosis:                       3.760   Cond. No.                     3.83e+05\n",
            "==============================================================================\n",
            "\n",
            "Warnings:\n",
            "[1] Standard Errors assume that the covariance matrix of the errors is correctly specified.\n",
            "[2] The condition number is large, 3.83e+05. This might indicate that there are\n",
            "strong multicollinearity or other numerical problems.\n"
          ],
          "name": "stdout"
        },
        {
          "output_type": "display_data",
          "data": {
            "image/png": "[encoded data removed]",
            "text/plain": [
              "<Figure size 576x360 with 1 Axes>"
            ]
          },
          "metadata": {
            "tags": [],
            "needs_background": "light"
          }
        },
        {
          "output_type": "display_data",
          "data": {
            "image/png": "[encoded data removed]",
            "text/plain": [
              "<Figure size 432x288 with 1 Axes>"
            ]
          },
          "metadata": {
            "tags": [],
            "needs_background": "light"
          }
        },
        {
          "output_type": "stream",
          "text": [
            "*c* argument looks like a single numeric RGB or RGBA sequence, which should be avoided as value-mapping will have precedence in case its length matches with *x* & *y*.  Please use the *color* keyword-argument or provide a 2-D array with a single row if you intend to specify the same RGB or RGBA value for all points.\n"
          ],
          "name": "stderr"
        },
        {
          "output_type": "display_data",
          "data": {
            "image/png": "[encoded data removed]",
            "text/plain": [
              "<Figure size 432x288 with 1 Axes>"
            ]
          },
          "metadata": {
            "tags": [],
            "needs_background": "light"
          }
        }
      ]
    },
    {
      "cell_type": "markdown",
      "metadata": {
        "id": "LcfEJce0YbPf"
      },
      "source": [
        "### Describe groupby Chartmetric ID and timeseries"
      ]
    },
    {
      "cell_type": "code",
      "metadata": {
        "id": "xEoaDDTEAiAS",
        "colab": {
          "base_uri": "https://localhost:8080/",
          "height": 0
        },
        "outputId": "2a4f1216-d133-4e56-f79e-1ce815fd6837"
      },
      "source": [
        "describe_cols(grp,40)"
      ],
      "execution_count": 458,
      "outputs": [
        {
          "output_type": "execute_result",
          "data": {
            "text/html": [
              "<div>\n",
              "<style scoped>\n",
              "    .dataframe tbody tr th:only-of-type {\n",
              "        vertical-align: middle;\n",
              "    }\n",
              "\n",
              "    .dataframe tbody tr th {\n",
              "        vertical-align: top;\n",
              "    }\n",
              "\n",
              "    .dataframe thead th {\n",
              "        text-align: right;\n",
              "    }\n",
              "</style>\n",
              "<table border=\"1\" class=\"dataframe\">\n",
              "  <thead>\n",
              "    <tr style=\"text-align: right;\">\n",
              "      <th></th>\n",
              "      <th>followers value</th>\n",
              "      <th>popularity value.1</th>\n",
              "      <th>listeners value.2</th>\n",
              "      <th>followers_to_listeners_ratio value.3</th>\n",
              "    </tr>\n",
              "  </thead>\n",
              "  <tbody>\n",
              "    <tr>\n",
              "      <th>count</th>\n",
              "      <td>153.000000</td>\n",
              "      <td>153.000000</td>\n",
              "      <td>1.530000e+02</td>\n",
              "      <td>153.000000</td>\n",
              "    </tr>\n",
              "    <tr>\n",
              "      <th>mean</th>\n",
              "      <td>163243.607843</td>\n",
              "      <td>49.830065</td>\n",
              "      <td>1.325069e+06</td>\n",
              "      <td>46.165621</td>\n",
              "    </tr>\n",
              "    <tr>\n",
              "      <th>std</th>\n",
              "      <td>89502.847784</td>\n",
              "      <td>21.880294</td>\n",
              "      <td>6.953453e+05</td>\n",
              "      <td>78.786436</td>\n",
              "    </tr>\n",
              "    <tr>\n",
              "      <th>min</th>\n",
              "      <td>334.000000</td>\n",
              "      <td>2.000000</td>\n",
              "      <td>1.620000e+02</td>\n",
              "      <td>7.650000</td>\n",
              "    </tr>\n",
              "    <tr>\n",
              "      <th>25%</th>\n",
              "      <td>182059.000000</td>\n",
              "      <td>58.000000</td>\n",
              "      <td>1.533155e+06</td>\n",
              "      <td>11.770000</td>\n",
              "    </tr>\n",
              "    <tr>\n",
              "      <th>50%</th>\n",
              "      <td>191204.000000</td>\n",
              "      <td>59.000000</td>\n",
              "      <td>1.577972e+06</td>\n",
              "      <td>12.040000</td>\n",
              "    </tr>\n",
              "    <tr>\n",
              "      <th>75%</th>\n",
              "      <td>194541.000000</td>\n",
              "      <td>61.000000</td>\n",
              "      <td>1.652460e+06</td>\n",
              "      <td>13.790000</td>\n",
              "    </tr>\n",
              "    <tr>\n",
              "      <th>max</th>\n",
              "      <td>295738.000000</td>\n",
              "      <td>67.000000</td>\n",
              "      <td>2.127363e+06</td>\n",
              "      <td>273.660000</td>\n",
              "    </tr>\n",
              "  </tbody>\n",
              "</table>\n",
              "</div>"
            ],
            "text/plain": [
              "       followers value  popularity value.1  listeners value.2  followers_to_listeners_ratio value.3\n",
              "count       153.000000          153.000000       1.530000e+02                            153.000000\n",
              "mean     163243.607843           49.830065       1.325069e+06                             46.165621\n",
              "std       89502.847784           21.880294       6.953453e+05                             78.786436\n",
              "min         334.000000            2.000000       1.620000e+02                              7.650000\n",
              "25%      182059.000000           58.000000       1.533155e+06                             11.770000\n",
              "50%      191204.000000           59.000000       1.577972e+06                             12.040000\n",
              "75%      194541.000000           61.000000       1.652460e+06                             13.790000\n",
              "max      295738.000000           67.000000       2.127363e+06                            273.660000"
            ]
          },
          "metadata": {
            "tags": []
          },
          "execution_count": 458
        }
      ]
    },
    {
      "cell_type": "markdown",
      "metadata": {
        "id": "S8WZUQlWIV2y"
      },
      "source": [
        "### Plot Polularity Scores Distribution"
      ]
    },
    {
      "cell_type": "code",
      "metadata": {
        "id": "kukcTPIEIbPr",
        "colab": {
          "base_uri": "https://localhost:8080/",
          "height": 0
        },
        "outputId": "328945a9-c43a-4a71-c863-dbbccbaf8edf"
      },
      "source": [
        "plot_pop_dist(grp)"
      ],
      "execution_count": 459,
      "outputs": [
        {
          "output_type": "stream",
          "text": [
            "/usr/local/lib/python3.6/dist-packages/seaborn/distributions.py:2551: FutureWarning: `distplot` is a deprecated function and will be removed in a future version. Please adapt your code to use either `displot` (a figure-level function with similar flexibility) or `histplot` (an axes-level function for histograms).\n",
            "  warnings.warn(msg, FutureWarning)\n"
          ],
          "name": "stderr"
        },
        {
          "output_type": "display_data",
          "data": {
            "image/png": "[encoded data removed]",
            "text/plain": [
              "<Figure size 576x360 with 1 Axes>"
            ]
          },
          "metadata": {
            "tags": [],
            "needs_background": "light"
          }
        }
      ]
    },
    {
      "cell_type": "markdown",
      "metadata": {
        "id": "L__lIVK3Idi7"
      },
      "source": [
        "### Plot Undersampling Methodology"
      ]
    },
    {
      "cell_type": "code",
      "metadata": {
        "id": "ERNBhsfMAqbe",
        "colab": {
          "base_uri": "https://localhost:8080/",
          "height": 0
        },
        "outputId": "a0aee0a5-da7a-47eb-edaf-971860993abe"
      },
      "source": [
        "undersample_plot(grp)"
      ],
      "execution_count": 460,
      "outputs": [
        {
          "output_type": "stream",
          "text": [
            "/usr/local/lib/python3.6/dist-packages/seaborn/distributions.py:2551: FutureWarning: `distplot` is a deprecated function and will be removed in a future version. Please adapt your code to use either `displot` (a figure-level function with similar flexibility) or `histplot` (an axes-level function for histograms).\n",
            "  warnings.warn(msg, FutureWarning)\n"
          ],
          "name": "stderr"
        },
        {
          "output_type": "display_data",
          "data": {
            "image/png": "[encoded data removed]",
            "text/plain": [
              "<Figure size 576x360 with 1 Axes>"
            ]
          },
          "metadata": {
            "tags": [],
            "needs_background": "light"
          }
        }
      ]
    },
    {
      "cell_type": "markdown",
      "metadata": {
        "id": "2H2mWbsLIz2k"
      },
      "source": [
        "### Plot Univariate Dists for several Independant variables"
      ]
    },
    {
      "cell_type": "code",
      "metadata": {
        "id": "KkQaXqXyIxXZ",
        "colab": {
          "base_uri": "https://localhost:8080/",
          "height": 0
        },
        "outputId": "ab02f4c2-472e-472f-d9a6-d59277ee5c30"
      },
      "source": [
        "plot_univ_dists(grp, 70)"
      ],
      "execution_count": 461,
      "outputs": [
        {
          "output_type": "stream",
          "text": [
            "Mean value for followers feature for Popular artists: nan\n",
            "Mean value for followers feature for Unpopular artists: 163243.60784313726\n",
            "Mean value for listeners feature for Popular artists: nan\n",
            "Mean value for listeners feature for Unpopular artists: 1325068.888888889\n"
          ],
          "name": "stdout"
        },
        {
          "output_type": "stream",
          "text": [
            "/usr/local/lib/python3.6/dist-packages/seaborn/distributions.py:2551: FutureWarning: `distplot` is a deprecated function and will be removed in a future version. Please adapt your code to use either `displot` (a figure-level function with similar flexibility) or `histplot` (an axes-level function for histograms).\n",
            "  warnings.warn(msg, FutureWarning)\n",
            "/usr/local/lib/python3.6/dist-packages/seaborn/distributions.py:2551: FutureWarning: `distplot` is a deprecated function and will be removed in a future version. Please adapt your code to use either `displot` (a figure-level function with similar flexibility) or `histplot` (an axes-level function for histograms).\n",
            "  warnings.warn(msg, FutureWarning)\n",
            "/usr/local/lib/python3.6/dist-packages/seaborn/distributions.py:2589: RuntimeWarning: Mean of empty slice.\n",
            "  line, = ax.plot(a.mean(), 0)\n",
            "/usr/local/lib/python3.6/dist-packages/numpy/core/_methods.py:170: RuntimeWarning: invalid value encountered in double_scalars\n",
            "  ret = ret.dtype.type(ret / rcount)\n",
            "/usr/local/lib/python3.6/dist-packages/numpy/lib/histograms.py:905: RuntimeWarning: invalid value encountered in true_divide\n",
            "  return n/db/n.sum(), bin_edges\n"
          ],
          "name": "stderr"
        },
        {
          "output_type": "display_data",
          "data": {
            "image/png": "[encoded data removed]",
            "text/plain": [
              "<Figure size 576x360 with 1 Axes>"
            ]
          },
          "metadata": {
            "tags": [],
            "needs_background": "light"
          }
        },
        {
          "output_type": "stream",
          "text": [
            "/usr/local/lib/python3.6/dist-packages/seaborn/distributions.py:2551: FutureWarning: `distplot` is a deprecated function and will be removed in a future version. Please adapt your code to use either `displot` (a figure-level function with similar flexibility) or `histplot` (an axes-level function for histograms).\n",
            "  warnings.warn(msg, FutureWarning)\n",
            "/usr/local/lib/python3.6/dist-packages/seaborn/distributions.py:2551: FutureWarning: `distplot` is a deprecated function and will be removed in a future version. Please adapt your code to use either `displot` (a figure-level function with similar flexibility) or `histplot` (an axes-level function for histograms).\n",
            "  warnings.warn(msg, FutureWarning)\n",
            "/usr/local/lib/python3.6/dist-packages/seaborn/distributions.py:2589: RuntimeWarning: Mean of empty slice.\n",
            "  line, = ax.plot(a.mean(), 0)\n",
            "/usr/local/lib/python3.6/dist-packages/numpy/core/_methods.py:170: RuntimeWarning: invalid value encountered in double_scalars\n",
            "  ret = ret.dtype.type(ret / rcount)\n",
            "/usr/local/lib/python3.6/dist-packages/numpy/lib/histograms.py:905: RuntimeWarning: invalid value encountered in true_divide\n",
            "  return n/db/n.sum(), bin_edges\n"
          ],
          "name": "stderr"
        },
        {
          "output_type": "display_data",
          "data": {
            "image/png": "[encoded data removed]",
            "text/plain": [
              "<Figure size 576x360 with 1 Axes>"
            ]
          },
          "metadata": {
            "tags": [],
            "needs_background": "light"
          }
        }
      ]
    },
    {
      "cell_type": "markdown",
      "metadata": {
        "id": "2vz-D4kxZCOb"
      },
      "source": [
        "### Data prep"
      ]
    },
    {
      "cell_type": "code",
      "metadata": {
        "id": "tIVyS1Wv0B6y",
        "colab": {
          "base_uri": "https://localhost:8080/",
          "height": 0
        },
        "outputId": "d66cfd43-8651-486d-a0c8-9d81755214e7"
      },
      "source": [
        "au_corr = get_top_abs_correlations(grp, 25)\n",
        "# get unique columns from top abs correlations\n",
        "train_cols = np.unique((np.asarray([(index[0],index[1]) for index in au_corr.index])).flatten())\n",
        "# index grouby Chartmetric ID and timeseries with the unique top abs correlations\n",
        "dtrain = grp[train_cols]\n",
        "# plot newly abs correlated heatmap\n",
        "plot_heatmap(dtrain)"
      ],
      "execution_count": 462,
      "outputs": [
        {
          "output_type": "stream",
          "text": [
            "The top absolute correlations are:\n",
            "followers value     listeners value.2                       0.986171\n",
            "popularity value.1  listeners value.2                       0.961009\n",
            "followers value     popularity value.1                      0.933103\n",
            "popularity value.1  followers_to_listeners_ratio value.3    0.924755\n",
            "listeners value.2   followers_to_listeners_ratio value.3    0.824031\n",
            "followers value     followers_to_listeners_ratio value.3    0.784836\n",
            "dtype: float64\n"
          ],
          "name": "stdout"
        },
        {
          "output_type": "display_data",
          "data": {
            "image/png": "[encoded data removed]",
            "text/plain": [
              "<Figure size 1152x432 with 2 Axes>"
            ]
          },
          "metadata": {
            "tags": [],
            "needs_background": "light"
          }
        }
      ]
    },
    {
      "cell_type": "markdown",
      "metadata": {
        "id": "22JKiCxQZfZS"
      },
      "source": [
        "### Simple Linear Regression on Popularity"
      ]
    },
    {
      "cell_type": "code",
      "metadata": {
        "id": "_7cCYDaTJelH",
        "colab": {
          "base_uri": "https://localhost:8080/",
          "height": 1000
        },
        "outputId": "4b50aedf-1581-4f75-c162-09745ea5572d"
      },
      "source": [
        "fitted_pop = linear_regression_initial(dtrain,dtrain.columns.drop('popularity value.1'),Y='popularity value.1')"
      ],
      "execution_count": 463,
      "outputs": [
        {
          "output_type": "stream",
          "text": [
            "3\n",
            "                            OLS Regression Results                            \n",
            "==============================================================================\n",
            "Dep. Variable:     popularity value.1   R-squared:                       0.978\n",
            "Model:                            OLS   Adj. R-squared:                  0.978\n",
            "Method:                 Least Squares   F-statistic:                     1782.\n",
            "Date:                Tue, 22 Dec 2020   Prob (F-statistic):           4.64e-98\n",
            "Time:                        11:20:03   Log-Likelihood:                -312.34\n",
            "No. Observations:                 122   AIC:                             632.7\n",
            "Df Residuals:                     118   BIC:                             643.9\n",
            "Df Model:                           3                                         \n",
            "Covariance Type:            nonrobust                                         \n",
            "========================================================================================================\n",
            "                                           coef    std err          t      P>|t|      [0.025      0.975]\n",
            "--------------------------------------------------------------------------------------------------------\n",
            "const                                   27.3922      1.474     18.583      0.000      24.473      30.311\n",
            "followers value                      -3.477e-05   2.03e-05     -1.712      0.090    -7.5e-05    5.46e-06\n",
            "followers_to_listeners_ratio value.3    -0.1066      0.007    -14.462      0.000      -0.121      -0.092\n",
            "listeners value.2                     2.495e-05   2.93e-06      8.527      0.000    1.92e-05    3.07e-05\n",
            "==============================================================================\n",
            "Omnibus:                        1.989   Durbin-Watson:                   1.783\n",
            "Prob(Omnibus):                  0.370   Jarque-Bera (JB):                1.542\n",
            "Skew:                           0.124   Prob(JB):                        0.462\n",
            "Kurtosis:                       3.491   Cond. No.                     7.82e+06\n",
            "==============================================================================\n",
            "\n",
            "Warnings:\n",
            "[1] Standard Errors assume that the covariance matrix of the errors is correctly specified.\n",
            "[2] The condition number is large, 7.82e+06. This might indicate that there are\n",
            "strong multicollinearity or other numerical problems.\n"
          ],
          "name": "stdout"
        },
        {
          "output_type": "display_data",
          "data": {
            "image/png": "[encoded data removed]",
            "text/plain": [
              "<Figure size 576x360 with 1 Axes>"
            ]
          },
          "metadata": {
            "tags": [],
            "needs_background": "light"
          }
        },
        {
          "output_type": "display_data",
          "data": {
            "image/png": "[encoded data removed]",
            "text/plain": [
              "<Figure size 432x288 with 1 Axes>"
            ]
          },
          "metadata": {
            "tags": [],
            "needs_background": "light"
          }
        },
        {
          "output_type": "stream",
          "text": [
            "*c* argument looks like a single numeric RGB or RGBA sequence, which should be avoided as value-mapping will have precedence in case its length matches with *x* & *y*.  Please use the *color* keyword-argument or provide a 2-D array with a single row if you intend to specify the same RGB or RGBA value for all points.\n"
          ],
          "name": "stderr"
        },
        {
          "output_type": "display_data",
          "data": {
            "image/png": "[encoded data removed]",
            "text/plain": [
              "<Figure size 432x288 with 1 Axes>"
            ]
          },
          "metadata": {
            "tags": [],
            "needs_background": "light"
          }
        }
      ]
    },
    {
      "cell_type": "markdown",
      "metadata": {
        "id": "U1asEy2sZtrT"
      },
      "source": [
        "#### Standardize Regression and call it the new artist scores"
      ]
    },
    {
      "cell_type": "code",
      "metadata": {
        "colab": {
          "base_uri": "https://localhost:8080/"
        },
        "id": "IZpsC2SIZnBI",
        "outputId": "03fb69d3-a269-4062-b288-c160b021b615"
      },
      "source": [
        "artist_scores = stats.zscore(fitted_pop['fitted_vals'])\n",
        "artist_scores"
      ],
      "execution_count": 464,
      "outputs": [
        {
          "output_type": "execute_result",
          "data": {
            "text/plain": [
              "array([-1.44385785,  0.37041665,  0.36613624,  0.46459244, -1.94423541,\n",
              "       -1.09016884,  0.47345981,  0.34841911,  0.44479896,  0.29960399,\n",
              "        0.34970401,  0.40902448,  0.48783424,  0.85755044,  0.48783424,\n",
              "       -1.09138772,  0.44235398,  0.40812611,  0.38229756,  0.45854615,\n",
              "        0.82940852, -1.44645558,  0.37858959,  0.76041354,  0.44235398,\n",
              "        0.45889272,  0.837056  ,  0.45081499,  0.46459244, -2.48056135,\n",
              "        0.36295206,  0.37721487, -2.0203192 , -2.498013  ,  0.34726906,\n",
              "       -1.93219552, -1.98070955,  0.83120392,  0.58615876,  0.33932736,\n",
              "       -2.49057761,  0.36116727,  0.44803013,  0.45786997,  0.37612534,\n",
              "        0.60596479,  0.52134294,  0.44479896,  0.45081499,  0.36513793,\n",
              "        0.46459244,  0.45956433,  0.70811477, -2.45041732,  0.46106333,\n",
              "        0.45410825,  0.52134294,  0.46106333, -1.09213245,  0.3834517 ,\n",
              "        0.42897929, -1.95243058,  0.44975269,  0.44479896,  0.46456894,\n",
              "        0.37084542,  0.34246309,  0.85376134, -1.93614139,  0.44479896,\n",
              "        0.8546343 ,  0.37342818,  0.46106333,  0.44479896,  0.37193029,\n",
              "        0.36109995,  0.45757366,  0.31521059,  0.3496131 , -2.43670971,\n",
              "        0.33469144,  0.35654382,  0.48783424,  0.47775819,  0.34014783,\n",
              "       -2.44515445,  0.27704809,  0.39198587,  0.72414299,  0.36616825,\n",
              "        0.35836324,  0.48783424,  0.33955933, -2.41010367,  0.47345981,\n",
              "        0.84535753,  0.41883184,  0.60174424,  0.44951638,  0.85842192,\n",
              "        0.39273641,  0.40374743,  0.47046605,  0.48783424,  0.36698466,\n",
              "        0.46459244,  0.62353782,  0.52134294, -2.49254783, -2.46882774,\n",
              "       -2.03675634,  0.35361801,  0.44235398,  0.38995309,  0.38836625,\n",
              "        0.4591951 , -2.00807655,  0.35236307,  0.62794222,  0.25954439,\n",
              "       -2.16893463,  0.47190624])"
            ]
          },
          "metadata": {
            "tags": []
          },
          "execution_count": 464
        }
      ]
    },
    {
      "cell_type": "markdown",
      "metadata": {
        "id": "ya_neBx4Z38W"
      },
      "source": [
        "#### Explore Regression Results"
      ]
    },
    {
      "cell_type": "code",
      "metadata": {
        "id": "Iw2d5_1mXtJm",
        "colab": {
          "base_uri": "https://localhost:8080/",
          "height": 0
        },
        "outputId": "2f2148ae-dd51-4c29-bb62-cec2b7030546"
      },
      "source": [
        "get_df_info(fitted_pop)"
      ],
      "execution_count": 465,
      "outputs": [
        {
          "output_type": "stream",
          "text": [
            "Index          976\n",
            "residuals      976\n",
            "fitted_vals    976\n",
            "stu_resid      976\n",
            "dtype: int64 \n",
            "\n",
            "                          residuals  fitted_vals  stu_resid\n",
            "followers timestp                                          \n",
            "2020-02-25T00:00:00.000Z  -7.429697    20.429697  -2.334044\n",
            "2020-03-27T00:00:00.000Z  -0.657312    58.657312  -0.206495\n",
            "2020-03-12T00:00:00.000Z   0.432879    58.567121   0.135989\n",
            "2020-05-08T00:00:00.000Z  -0.641640    60.641640  -0.201572\n",
            "2020-02-11T00:00:00.000Z  -6.886507     9.886507  -2.163401 \n",
            "\n",
            "The columns are:\n",
            "Index(['residuals', 'fitted_vals', 'stu_resid'], dtype='object') \n",
            "\n",
            "<class 'pandas.core.frame.DataFrame'>\n",
            "Index: 122 entries, 2020-02-25T00:00:00.000Z to 2020-04-29T00:00:00.000Z\n",
            "Data columns (total 3 columns):\n",
            " #   Column       Non-Null Count  Dtype  \n",
            "---  ------       --------------  -----  \n",
            " 0   residuals    122 non-null    float64\n",
            " 1   fitted_vals  122 non-null    float64\n",
            " 2   stu_resid    122 non-null    float64\n",
            "dtypes: float64(3)\n",
            "memory usage: 3.8+ KB\n",
            "None \n",
            "\n",
            "Do we have any nulls?\n",
            "Looks like we have 0 nulls\n",
            "\n"
          ],
          "name": "stdout"
        },
        {
          "output_type": "execute_result",
          "data": {
            "text/html": [
              "<div>\n",
              "<style scoped>\n",
              "    .dataframe tbody tr th:only-of-type {\n",
              "        vertical-align: middle;\n",
              "    }\n",
              "\n",
              "    .dataframe tbody tr th {\n",
              "        vertical-align: top;\n",
              "    }\n",
              "\n",
              "    .dataframe thead th {\n",
              "        text-align: right;\n",
              "    }\n",
              "</style>\n",
              "<table border=\"1\" class=\"dataframe\">\n",
              "  <thead>\n",
              "    <tr style=\"text-align: right;\">\n",
              "      <th></th>\n",
              "      <th>min</th>\n",
              "      <th>max</th>\n",
              "      <th>median</th>\n",
              "      <th>mean</th>\n",
              "      <th>skew</th>\n",
              "    </tr>\n",
              "  </thead>\n",
              "  <tbody>\n",
              "    <tr>\n",
              "      <th>fitted_vals</th>\n",
              "      <td>-1.781846</td>\n",
              "      <td>68.939811</td>\n",
              "      <td>59.405737</td>\n",
              "      <td>5.085246e+01</td>\n",
              "      <td>-1.686686</td>\n",
              "    </tr>\n",
              "    <tr>\n",
              "      <th>stu_resid</th>\n",
              "      <td>-2.334044</td>\n",
              "      <td>2.864398</td>\n",
              "      <td>-0.242367</td>\n",
              "      <td>-1.067998e-14</td>\n",
              "      <td>0.125976</td>\n",
              "    </tr>\n",
              "  </tbody>\n",
              "</table>\n",
              "</div>"
            ],
            "text/plain": [
              "                  min        max     median          mean      skew\n",
              "fitted_vals -1.781846  68.939811  59.405737  5.085246e+01 -1.686686\n",
              "stu_resid   -2.334044   2.864398  -0.242367 -1.067998e-14  0.125976"
            ]
          },
          "metadata": {
            "tags": []
          },
          "execution_count": 465
        }
      ]
    },
    {
      "cell_type": "markdown",
      "metadata": {
        "id": "6BSx274_aAnf"
      },
      "source": [
        "### Generate Multivariable Matrix shifted by 100 of one previous time step"
      ]
    },
    {
      "cell_type": "code",
      "metadata": {
        "id": "RepvtfgqX5KC",
        "colab": {
          "base_uri": "https://localhost:8080/",
          "height": 0
        },
        "outputId": "224ada88-b506-4849-9e84-bf1b23aa0648"
      },
      "source": [
        "MM = Multivariable_Matrix(pd.DataFrame(stats.zscore(fitted_pop),columns=fitted_pop.columns),fitted_pop,'fitted_vals')\n",
        "MM"
      ],
      "execution_count": 466,
      "outputs": [
        {
          "output_type": "execute_result",
          "data": {
            "text/html": [
              "<div>\n",
              "<style scoped>\n",
              "    .dataframe tbody tr th:only-of-type {\n",
              "        vertical-align: middle;\n",
              "    }\n",
              "\n",
              "    .dataframe tbody tr th {\n",
              "        vertical-align: top;\n",
              "    }\n",
              "\n",
              "    .dataframe thead th {\n",
              "        text-align: right;\n",
              "    }\n",
              "</style>\n",
              "<table border=\"1\" class=\"dataframe\">\n",
              "  <thead>\n",
              "    <tr style=\"text-align: right;\">\n",
              "      <th></th>\n",
              "      <th>shift 0</th>\n",
              "      <th>shift 1</th>\n",
              "      <th>shift 2</th>\n",
              "      <th>shift 3</th>\n",
              "      <th>shift 4</th>\n",
              "      <th>shift 5</th>\n",
              "      <th>shift 6</th>\n",
              "      <th>shift 7</th>\n",
              "      <th>shift 8</th>\n",
              "      <th>shift 9</th>\n",
              "      <th>shift 10</th>\n",
              "      <th>shift 11</th>\n",
              "      <th>shift 12</th>\n",
              "      <th>shift 13</th>\n",
              "      <th>shift 14</th>\n",
              "      <th>shift 15</th>\n",
              "      <th>shift 16</th>\n",
              "      <th>shift 17</th>\n",
              "      <th>shift 18</th>\n",
              "      <th>shift 19</th>\n",
              "      <th>shift 20</th>\n",
              "      <th>shift 21</th>\n",
              "      <th>shift 22</th>\n",
              "      <th>shift 23</th>\n",
              "      <th>shift 24</th>\n",
              "      <th>...</th>\n",
              "      <th>shift 97</th>\n",
              "      <th>shift 98</th>\n",
              "      <th>shift 99</th>\n",
              "      <th>shift 100</th>\n",
              "      <th>shift 101</th>\n",
              "      <th>shift 102</th>\n",
              "      <th>shift 103</th>\n",
              "      <th>shift 104</th>\n",
              "      <th>shift 105</th>\n",
              "      <th>shift 106</th>\n",
              "      <th>shift 107</th>\n",
              "      <th>shift 108</th>\n",
              "      <th>shift 109</th>\n",
              "      <th>shift 110</th>\n",
              "      <th>shift 111</th>\n",
              "      <th>shift 112</th>\n",
              "      <th>shift 113</th>\n",
              "      <th>shift 114</th>\n",
              "      <th>shift 115</th>\n",
              "      <th>shift 116</th>\n",
              "      <th>shift 117</th>\n",
              "      <th>shift 118</th>\n",
              "      <th>shift 119</th>\n",
              "      <th>shift 120</th>\n",
              "      <th>shift 121</th>\n",
              "    </tr>\n",
              "    <tr>\n",
              "      <th>followers timestp</th>\n",
              "      <th></th>\n",
              "      <th></th>\n",
              "      <th></th>\n",
              "      <th></th>\n",
              "      <th></th>\n",
              "      <th></th>\n",
              "      <th></th>\n",
              "      <th></th>\n",
              "      <th></th>\n",
              "      <th></th>\n",
              "      <th></th>\n",
              "      <th></th>\n",
              "      <th></th>\n",
              "      <th></th>\n",
              "      <th></th>\n",
              "      <th></th>\n",
              "      <th></th>\n",
              "      <th></th>\n",
              "      <th></th>\n",
              "      <th></th>\n",
              "      <th></th>\n",
              "      <th></th>\n",
              "      <th></th>\n",
              "      <th></th>\n",
              "      <th></th>\n",
              "      <th></th>\n",
              "      <th></th>\n",
              "      <th></th>\n",
              "      <th></th>\n",
              "      <th></th>\n",
              "      <th></th>\n",
              "      <th></th>\n",
              "      <th></th>\n",
              "      <th></th>\n",
              "      <th></th>\n",
              "      <th></th>\n",
              "      <th></th>\n",
              "      <th></th>\n",
              "      <th></th>\n",
              "      <th></th>\n",
              "      <th></th>\n",
              "      <th></th>\n",
              "      <th></th>\n",
              "      <th></th>\n",
              "      <th></th>\n",
              "      <th></th>\n",
              "      <th></th>\n",
              "      <th></th>\n",
              "      <th></th>\n",
              "      <th></th>\n",
              "      <th></th>\n",
              "    </tr>\n",
              "  </thead>\n",
              "  <tbody>\n",
              "    <tr>\n",
              "      <th>2020-02-25T00:00:00.000Z</th>\n",
              "      <td>-1.443858</td>\n",
              "      <td>0.370417</td>\n",
              "      <td>0.366136</td>\n",
              "      <td>0.464592</td>\n",
              "      <td>-1.944235</td>\n",
              "      <td>-1.090169</td>\n",
              "      <td>0.473460</td>\n",
              "      <td>0.348419</td>\n",
              "      <td>0.444799</td>\n",
              "      <td>0.299604</td>\n",
              "      <td>0.349704</td>\n",
              "      <td>0.409024</td>\n",
              "      <td>0.487834</td>\n",
              "      <td>0.857550</td>\n",
              "      <td>0.487834</td>\n",
              "      <td>-1.091388</td>\n",
              "      <td>0.442354</td>\n",
              "      <td>0.408126</td>\n",
              "      <td>0.382298</td>\n",
              "      <td>0.458546</td>\n",
              "      <td>0.829409</td>\n",
              "      <td>-1.446456</td>\n",
              "      <td>0.378590</td>\n",
              "      <td>0.760414</td>\n",
              "      <td>0.442354</td>\n",
              "      <td>...</td>\n",
              "      <td>0.601744</td>\n",
              "      <td>0.449516</td>\n",
              "      <td>0.858422</td>\n",
              "      <td>0.392736</td>\n",
              "      <td>0.403747</td>\n",
              "      <td>0.470466</td>\n",
              "      <td>0.487834</td>\n",
              "      <td>0.366985</td>\n",
              "      <td>0.464592</td>\n",
              "      <td>0.623538</td>\n",
              "      <td>0.521343</td>\n",
              "      <td>-2.492548</td>\n",
              "      <td>-2.468828</td>\n",
              "      <td>-2.036756</td>\n",
              "      <td>0.353618</td>\n",
              "      <td>0.442354</td>\n",
              "      <td>0.389953</td>\n",
              "      <td>0.388366</td>\n",
              "      <td>0.459195</td>\n",
              "      <td>-2.008077</td>\n",
              "      <td>0.352363</td>\n",
              "      <td>0.627942</td>\n",
              "      <td>0.259544</td>\n",
              "      <td>-2.168935</td>\n",
              "      <td>0.471906</td>\n",
              "    </tr>\n",
              "    <tr>\n",
              "      <th>2020-03-27T00:00:00.000Z</th>\n",
              "      <td>0.370417</td>\n",
              "      <td>0.366136</td>\n",
              "      <td>0.464592</td>\n",
              "      <td>-1.944235</td>\n",
              "      <td>-1.090169</td>\n",
              "      <td>0.473460</td>\n",
              "      <td>0.348419</td>\n",
              "      <td>0.444799</td>\n",
              "      <td>0.299604</td>\n",
              "      <td>0.349704</td>\n",
              "      <td>0.409024</td>\n",
              "      <td>0.487834</td>\n",
              "      <td>0.857550</td>\n",
              "      <td>0.487834</td>\n",
              "      <td>-1.091388</td>\n",
              "      <td>0.442354</td>\n",
              "      <td>0.408126</td>\n",
              "      <td>0.382298</td>\n",
              "      <td>0.458546</td>\n",
              "      <td>0.829409</td>\n",
              "      <td>-1.446456</td>\n",
              "      <td>0.378590</td>\n",
              "      <td>0.760414</td>\n",
              "      <td>0.442354</td>\n",
              "      <td>0.458893</td>\n",
              "      <td>...</td>\n",
              "      <td>0.449516</td>\n",
              "      <td>0.858422</td>\n",
              "      <td>0.392736</td>\n",
              "      <td>0.403747</td>\n",
              "      <td>0.470466</td>\n",
              "      <td>0.487834</td>\n",
              "      <td>0.366985</td>\n",
              "      <td>0.464592</td>\n",
              "      <td>0.623538</td>\n",
              "      <td>0.521343</td>\n",
              "      <td>-2.492548</td>\n",
              "      <td>-2.468828</td>\n",
              "      <td>-2.036756</td>\n",
              "      <td>0.353618</td>\n",
              "      <td>0.442354</td>\n",
              "      <td>0.389953</td>\n",
              "      <td>0.388366</td>\n",
              "      <td>0.459195</td>\n",
              "      <td>-2.008077</td>\n",
              "      <td>0.352363</td>\n",
              "      <td>0.627942</td>\n",
              "      <td>0.259544</td>\n",
              "      <td>-2.168935</td>\n",
              "      <td>0.471906</td>\n",
              "      <td>NaN</td>\n",
              "    </tr>\n",
              "    <tr>\n",
              "      <th>2020-03-12T00:00:00.000Z</th>\n",
              "      <td>0.366136</td>\n",
              "      <td>0.464592</td>\n",
              "      <td>-1.944235</td>\n",
              "      <td>-1.090169</td>\n",
              "      <td>0.473460</td>\n",
              "      <td>0.348419</td>\n",
              "      <td>0.444799</td>\n",
              "      <td>0.299604</td>\n",
              "      <td>0.349704</td>\n",
              "      <td>0.409024</td>\n",
              "      <td>0.487834</td>\n",
              "      <td>0.857550</td>\n",
              "      <td>0.487834</td>\n",
              "      <td>-1.091388</td>\n",
              "      <td>0.442354</td>\n",
              "      <td>0.408126</td>\n",
              "      <td>0.382298</td>\n",
              "      <td>0.458546</td>\n",
              "      <td>0.829409</td>\n",
              "      <td>-1.446456</td>\n",
              "      <td>0.378590</td>\n",
              "      <td>0.760414</td>\n",
              "      <td>0.442354</td>\n",
              "      <td>0.458893</td>\n",
              "      <td>0.837056</td>\n",
              "      <td>...</td>\n",
              "      <td>0.858422</td>\n",
              "      <td>0.392736</td>\n",
              "      <td>0.403747</td>\n",
              "      <td>0.470466</td>\n",
              "      <td>0.487834</td>\n",
              "      <td>0.366985</td>\n",
              "      <td>0.464592</td>\n",
              "      <td>0.623538</td>\n",
              "      <td>0.521343</td>\n",
              "      <td>-2.492548</td>\n",
              "      <td>-2.468828</td>\n",
              "      <td>-2.036756</td>\n",
              "      <td>0.353618</td>\n",
              "      <td>0.442354</td>\n",
              "      <td>0.389953</td>\n",
              "      <td>0.388366</td>\n",
              "      <td>0.459195</td>\n",
              "      <td>-2.008077</td>\n",
              "      <td>0.352363</td>\n",
              "      <td>0.627942</td>\n",
              "      <td>0.259544</td>\n",
              "      <td>-2.168935</td>\n",
              "      <td>0.471906</td>\n",
              "      <td>NaN</td>\n",
              "      <td>NaN</td>\n",
              "    </tr>\n",
              "    <tr>\n",
              "      <th>2020-05-08T00:00:00.000Z</th>\n",
              "      <td>0.464592</td>\n",
              "      <td>-1.944235</td>\n",
              "      <td>-1.090169</td>\n",
              "      <td>0.473460</td>\n",
              "      <td>0.348419</td>\n",
              "      <td>0.444799</td>\n",
              "      <td>0.299604</td>\n",
              "      <td>0.349704</td>\n",
              "      <td>0.409024</td>\n",
              "      <td>0.487834</td>\n",
              "      <td>0.857550</td>\n",
              "      <td>0.487834</td>\n",
              "      <td>-1.091388</td>\n",
              "      <td>0.442354</td>\n",
              "      <td>0.408126</td>\n",
              "      <td>0.382298</td>\n",
              "      <td>0.458546</td>\n",
              "      <td>0.829409</td>\n",
              "      <td>-1.446456</td>\n",
              "      <td>0.378590</td>\n",
              "      <td>0.760414</td>\n",
              "      <td>0.442354</td>\n",
              "      <td>0.458893</td>\n",
              "      <td>0.837056</td>\n",
              "      <td>0.450815</td>\n",
              "      <td>...</td>\n",
              "      <td>0.392736</td>\n",
              "      <td>0.403747</td>\n",
              "      <td>0.470466</td>\n",
              "      <td>0.487834</td>\n",
              "      <td>0.366985</td>\n",
              "      <td>0.464592</td>\n",
              "      <td>0.623538</td>\n",
              "      <td>0.521343</td>\n",
              "      <td>-2.492548</td>\n",
              "      <td>-2.468828</td>\n",
              "      <td>-2.036756</td>\n",
              "      <td>0.353618</td>\n",
              "      <td>0.442354</td>\n",
              "      <td>0.389953</td>\n",
              "      <td>0.388366</td>\n",
              "      <td>0.459195</td>\n",
              "      <td>-2.008077</td>\n",
              "      <td>0.352363</td>\n",
              "      <td>0.627942</td>\n",
              "      <td>0.259544</td>\n",
              "      <td>-2.168935</td>\n",
              "      <td>0.471906</td>\n",
              "      <td>NaN</td>\n",
              "      <td>NaN</td>\n",
              "      <td>NaN</td>\n",
              "    </tr>\n",
              "    <tr>\n",
              "      <th>2020-02-11T00:00:00.000Z</th>\n",
              "      <td>-1.944235</td>\n",
              "      <td>-1.090169</td>\n",
              "      <td>0.473460</td>\n",
              "      <td>0.348419</td>\n",
              "      <td>0.444799</td>\n",
              "      <td>0.299604</td>\n",
              "      <td>0.349704</td>\n",
              "      <td>0.409024</td>\n",
              "      <td>0.487834</td>\n",
              "      <td>0.857550</td>\n",
              "      <td>0.487834</td>\n",
              "      <td>-1.091388</td>\n",
              "      <td>0.442354</td>\n",
              "      <td>0.408126</td>\n",
              "      <td>0.382298</td>\n",
              "      <td>0.458546</td>\n",
              "      <td>0.829409</td>\n",
              "      <td>-1.446456</td>\n",
              "      <td>0.378590</td>\n",
              "      <td>0.760414</td>\n",
              "      <td>0.442354</td>\n",
              "      <td>0.458893</td>\n",
              "      <td>0.837056</td>\n",
              "      <td>0.450815</td>\n",
              "      <td>0.464592</td>\n",
              "      <td>...</td>\n",
              "      <td>0.403747</td>\n",
              "      <td>0.470466</td>\n",
              "      <td>0.487834</td>\n",
              "      <td>0.366985</td>\n",
              "      <td>0.464592</td>\n",
              "      <td>0.623538</td>\n",
              "      <td>0.521343</td>\n",
              "      <td>-2.492548</td>\n",
              "      <td>-2.468828</td>\n",
              "      <td>-2.036756</td>\n",
              "      <td>0.353618</td>\n",
              "      <td>0.442354</td>\n",
              "      <td>0.389953</td>\n",
              "      <td>0.388366</td>\n",
              "      <td>0.459195</td>\n",
              "      <td>-2.008077</td>\n",
              "      <td>0.352363</td>\n",
              "      <td>0.627942</td>\n",
              "      <td>0.259544</td>\n",
              "      <td>-2.168935</td>\n",
              "      <td>0.471906</td>\n",
              "      <td>NaN</td>\n",
              "      <td>NaN</td>\n",
              "      <td>NaN</td>\n",
              "      <td>NaN</td>\n",
              "    </tr>\n",
              "    <tr>\n",
              "      <th>...</th>\n",
              "      <td>...</td>\n",
              "      <td>...</td>\n",
              "      <td>...</td>\n",
              "      <td>...</td>\n",
              "      <td>...</td>\n",
              "      <td>...</td>\n",
              "      <td>...</td>\n",
              "      <td>...</td>\n",
              "      <td>...</td>\n",
              "      <td>...</td>\n",
              "      <td>...</td>\n",
              "      <td>...</td>\n",
              "      <td>...</td>\n",
              "      <td>...</td>\n",
              "      <td>...</td>\n",
              "      <td>...</td>\n",
              "      <td>...</td>\n",
              "      <td>...</td>\n",
              "      <td>...</td>\n",
              "      <td>...</td>\n",
              "      <td>...</td>\n",
              "      <td>...</td>\n",
              "      <td>...</td>\n",
              "      <td>...</td>\n",
              "      <td>...</td>\n",
              "      <td>...</td>\n",
              "      <td>...</td>\n",
              "      <td>...</td>\n",
              "      <td>...</td>\n",
              "      <td>...</td>\n",
              "      <td>...</td>\n",
              "      <td>...</td>\n",
              "      <td>...</td>\n",
              "      <td>...</td>\n",
              "      <td>...</td>\n",
              "      <td>...</td>\n",
              "      <td>...</td>\n",
              "      <td>...</td>\n",
              "      <td>...</td>\n",
              "      <td>...</td>\n",
              "      <td>...</td>\n",
              "      <td>...</td>\n",
              "      <td>...</td>\n",
              "      <td>...</td>\n",
              "      <td>...</td>\n",
              "      <td>...</td>\n",
              "      <td>...</td>\n",
              "      <td>...</td>\n",
              "      <td>...</td>\n",
              "      <td>...</td>\n",
              "      <td>...</td>\n",
              "    </tr>\n",
              "    <tr>\n",
              "      <th>2020-01-05T00:00:00.000Z</th>\n",
              "      <td>-2.445154</td>\n",
              "      <td>0.277048</td>\n",
              "      <td>0.391986</td>\n",
              "      <td>0.724143</td>\n",
              "      <td>0.366168</td>\n",
              "      <td>0.358363</td>\n",
              "      <td>0.487834</td>\n",
              "      <td>0.339559</td>\n",
              "      <td>-2.410104</td>\n",
              "      <td>0.473460</td>\n",
              "      <td>0.845358</td>\n",
              "      <td>0.418832</td>\n",
              "      <td>0.601744</td>\n",
              "      <td>0.449516</td>\n",
              "      <td>0.858422</td>\n",
              "      <td>0.392736</td>\n",
              "      <td>0.403747</td>\n",
              "      <td>0.470466</td>\n",
              "      <td>0.487834</td>\n",
              "      <td>0.366985</td>\n",
              "      <td>0.464592</td>\n",
              "      <td>0.623538</td>\n",
              "      <td>0.521343</td>\n",
              "      <td>-2.492548</td>\n",
              "      <td>-2.468828</td>\n",
              "      <td>...</td>\n",
              "      <td>NaN</td>\n",
              "      <td>NaN</td>\n",
              "      <td>NaN</td>\n",
              "      <td>NaN</td>\n",
              "      <td>NaN</td>\n",
              "      <td>NaN</td>\n",
              "      <td>NaN</td>\n",
              "      <td>NaN</td>\n",
              "      <td>NaN</td>\n",
              "      <td>NaN</td>\n",
              "      <td>NaN</td>\n",
              "      <td>NaN</td>\n",
              "      <td>NaN</td>\n",
              "      <td>NaN</td>\n",
              "      <td>NaN</td>\n",
              "      <td>NaN</td>\n",
              "      <td>NaN</td>\n",
              "      <td>NaN</td>\n",
              "      <td>NaN</td>\n",
              "      <td>NaN</td>\n",
              "      <td>NaN</td>\n",
              "      <td>NaN</td>\n",
              "      <td>NaN</td>\n",
              "      <td>NaN</td>\n",
              "      <td>NaN</td>\n",
              "    </tr>\n",
              "    <tr>\n",
              "      <th>2020-01-04T00:00:00.000Z</th>\n",
              "      <td>0.277048</td>\n",
              "      <td>0.391986</td>\n",
              "      <td>0.724143</td>\n",
              "      <td>0.366168</td>\n",
              "      <td>0.358363</td>\n",
              "      <td>0.487834</td>\n",
              "      <td>0.339559</td>\n",
              "      <td>-2.410104</td>\n",
              "      <td>0.473460</td>\n",
              "      <td>0.845358</td>\n",
              "      <td>0.418832</td>\n",
              "      <td>0.601744</td>\n",
              "      <td>0.449516</td>\n",
              "      <td>0.858422</td>\n",
              "      <td>0.392736</td>\n",
              "      <td>0.403747</td>\n",
              "      <td>0.470466</td>\n",
              "      <td>0.487834</td>\n",
              "      <td>0.366985</td>\n",
              "      <td>0.464592</td>\n",
              "      <td>0.623538</td>\n",
              "      <td>0.521343</td>\n",
              "      <td>-2.492548</td>\n",
              "      <td>-2.468828</td>\n",
              "      <td>-2.036756</td>\n",
              "      <td>...</td>\n",
              "      <td>NaN</td>\n",
              "      <td>NaN</td>\n",
              "      <td>NaN</td>\n",
              "      <td>NaN</td>\n",
              "      <td>NaN</td>\n",
              "      <td>NaN</td>\n",
              "      <td>NaN</td>\n",
              "      <td>NaN</td>\n",
              "      <td>NaN</td>\n",
              "      <td>NaN</td>\n",
              "      <td>NaN</td>\n",
              "      <td>NaN</td>\n",
              "      <td>NaN</td>\n",
              "      <td>NaN</td>\n",
              "      <td>NaN</td>\n",
              "      <td>NaN</td>\n",
              "      <td>NaN</td>\n",
              "      <td>NaN</td>\n",
              "      <td>NaN</td>\n",
              "      <td>NaN</td>\n",
              "      <td>NaN</td>\n",
              "      <td>NaN</td>\n",
              "      <td>NaN</td>\n",
              "      <td>NaN</td>\n",
              "      <td>NaN</td>\n",
              "    </tr>\n",
              "    <tr>\n",
              "      <th>2020-04-06T00:00:00.000Z</th>\n",
              "      <td>0.391986</td>\n",
              "      <td>0.724143</td>\n",
              "      <td>0.366168</td>\n",
              "      <td>0.358363</td>\n",
              "      <td>0.487834</td>\n",
              "      <td>0.339559</td>\n",
              "      <td>-2.410104</td>\n",
              "      <td>0.473460</td>\n",
              "      <td>0.845358</td>\n",
              "      <td>0.418832</td>\n",
              "      <td>0.601744</td>\n",
              "      <td>0.449516</td>\n",
              "      <td>0.858422</td>\n",
              "      <td>0.392736</td>\n",
              "      <td>0.403747</td>\n",
              "      <td>0.470466</td>\n",
              "      <td>0.487834</td>\n",
              "      <td>0.366985</td>\n",
              "      <td>0.464592</td>\n",
              "      <td>0.623538</td>\n",
              "      <td>0.521343</td>\n",
              "      <td>-2.492548</td>\n",
              "      <td>-2.468828</td>\n",
              "      <td>-2.036756</td>\n",
              "      <td>0.353618</td>\n",
              "      <td>...</td>\n",
              "      <td>NaN</td>\n",
              "      <td>NaN</td>\n",
              "      <td>NaN</td>\n",
              "      <td>NaN</td>\n",
              "      <td>NaN</td>\n",
              "      <td>NaN</td>\n",
              "      <td>NaN</td>\n",
              "      <td>NaN</td>\n",
              "      <td>NaN</td>\n",
              "      <td>NaN</td>\n",
              "      <td>NaN</td>\n",
              "      <td>NaN</td>\n",
              "      <td>NaN</td>\n",
              "      <td>NaN</td>\n",
              "      <td>NaN</td>\n",
              "      <td>NaN</td>\n",
              "      <td>NaN</td>\n",
              "      <td>NaN</td>\n",
              "      <td>NaN</td>\n",
              "      <td>NaN</td>\n",
              "      <td>NaN</td>\n",
              "      <td>NaN</td>\n",
              "      <td>NaN</td>\n",
              "      <td>NaN</td>\n",
              "      <td>NaN</td>\n",
              "    </tr>\n",
              "    <tr>\n",
              "      <th>2020-03-09T00:00:00.000Z</th>\n",
              "      <td>0.724143</td>\n",
              "      <td>0.366168</td>\n",
              "      <td>0.358363</td>\n",
              "      <td>0.487834</td>\n",
              "      <td>0.339559</td>\n",
              "      <td>-2.410104</td>\n",
              "      <td>0.473460</td>\n",
              "      <td>0.845358</td>\n",
              "      <td>0.418832</td>\n",
              "      <td>0.601744</td>\n",
              "      <td>0.449516</td>\n",
              "      <td>0.858422</td>\n",
              "      <td>0.392736</td>\n",
              "      <td>0.403747</td>\n",
              "      <td>0.470466</td>\n",
              "      <td>0.487834</td>\n",
              "      <td>0.366985</td>\n",
              "      <td>0.464592</td>\n",
              "      <td>0.623538</td>\n",
              "      <td>0.521343</td>\n",
              "      <td>-2.492548</td>\n",
              "      <td>-2.468828</td>\n",
              "      <td>-2.036756</td>\n",
              "      <td>0.353618</td>\n",
              "      <td>0.442354</td>\n",
              "      <td>...</td>\n",
              "      <td>NaN</td>\n",
              "      <td>NaN</td>\n",
              "      <td>NaN</td>\n",
              "      <td>NaN</td>\n",
              "      <td>NaN</td>\n",
              "      <td>NaN</td>\n",
              "      <td>NaN</td>\n",
              "      <td>NaN</td>\n",
              "      <td>NaN</td>\n",
              "      <td>NaN</td>\n",
              "      <td>NaN</td>\n",
              "      <td>NaN</td>\n",
              "      <td>NaN</td>\n",
              "      <td>NaN</td>\n",
              "      <td>NaN</td>\n",
              "      <td>NaN</td>\n",
              "      <td>NaN</td>\n",
              "      <td>NaN</td>\n",
              "      <td>NaN</td>\n",
              "      <td>NaN</td>\n",
              "      <td>NaN</td>\n",
              "      <td>NaN</td>\n",
              "      <td>NaN</td>\n",
              "      <td>NaN</td>\n",
              "      <td>NaN</td>\n",
              "    </tr>\n",
              "    <tr>\n",
              "      <th>2020-03-13T00:00:00.000Z</th>\n",
              "      <td>0.366168</td>\n",
              "      <td>0.358363</td>\n",
              "      <td>0.487834</td>\n",
              "      <td>0.339559</td>\n",
              "      <td>-2.410104</td>\n",
              "      <td>0.473460</td>\n",
              "      <td>0.845358</td>\n",
              "      <td>0.418832</td>\n",
              "      <td>0.601744</td>\n",
              "      <td>0.449516</td>\n",
              "      <td>0.858422</td>\n",
              "      <td>0.392736</td>\n",
              "      <td>0.403747</td>\n",
              "      <td>0.470466</td>\n",
              "      <td>0.487834</td>\n",
              "      <td>0.366985</td>\n",
              "      <td>0.464592</td>\n",
              "      <td>0.623538</td>\n",
              "      <td>0.521343</td>\n",
              "      <td>-2.492548</td>\n",
              "      <td>-2.468828</td>\n",
              "      <td>-2.036756</td>\n",
              "      <td>0.353618</td>\n",
              "      <td>0.442354</td>\n",
              "      <td>0.389953</td>\n",
              "      <td>...</td>\n",
              "      <td>NaN</td>\n",
              "      <td>NaN</td>\n",
              "      <td>NaN</td>\n",
              "      <td>NaN</td>\n",
              "      <td>NaN</td>\n",
              "      <td>NaN</td>\n",
              "      <td>NaN</td>\n",
              "      <td>NaN</td>\n",
              "      <td>NaN</td>\n",
              "      <td>NaN</td>\n",
              "      <td>NaN</td>\n",
              "      <td>NaN</td>\n",
              "      <td>NaN</td>\n",
              "      <td>NaN</td>\n",
              "      <td>NaN</td>\n",
              "      <td>NaN</td>\n",
              "      <td>NaN</td>\n",
              "      <td>NaN</td>\n",
              "      <td>NaN</td>\n",
              "      <td>NaN</td>\n",
              "      <td>NaN</td>\n",
              "      <td>NaN</td>\n",
              "      <td>NaN</td>\n",
              "      <td>NaN</td>\n",
              "      <td>NaN</td>\n",
              "    </tr>\n",
              "  </tbody>\n",
              "</table>\n",
              "<p>90 rows × 122 columns</p>\n",
              "</div>"
            ],
            "text/plain": [
              "                           shift 0   shift 1   shift 2   shift 3   shift 4   shift 5   shift 6   shift 7   shift 8   shift 9  shift 10  shift 11  shift 12  shift 13  shift 14  shift 15  shift 16  shift 17  shift 18  shift 19  shift 20  shift 21  \\\n",
              "followers timestp                                                                                                                                                                                                                                      \n",
              "2020-02-25T00:00:00.000Z -1.443858  0.370417  0.366136  0.464592 -1.944235 -1.090169  0.473460  0.348419  0.444799  0.299604  0.349704  0.409024  0.487834  0.857550  0.487834 -1.091388  0.442354  0.408126  0.382298  0.458546  0.829409 -1.446456   \n",
              "2020-03-27T00:00:00.000Z  0.370417  0.366136  0.464592 -1.944235 -1.090169  0.473460  0.348419  0.444799  0.299604  0.349704  0.409024  0.487834  0.857550  0.487834 -1.091388  0.442354  0.408126  0.382298  0.458546  0.829409 -1.446456  0.378590   \n",
              "2020-03-12T00:00:00.000Z  0.366136  0.464592 -1.944235 -1.090169  0.473460  0.348419  0.444799  0.299604  0.349704  0.409024  0.487834  0.857550  0.487834 -1.091388  0.442354  0.408126  0.382298  0.458546  0.829409 -1.446456  0.378590  0.760414   \n",
              "2020-05-08T00:00:00.000Z  0.464592 -1.944235 -1.090169  0.473460  0.348419  0.444799  0.299604  0.349704  0.409024  0.487834  0.857550  0.487834 -1.091388  0.442354  0.408126  0.382298  0.458546  0.829409 -1.446456  0.378590  0.760414  0.442354   \n",
              "2020-02-11T00:00:00.000Z -1.944235 -1.090169  0.473460  0.348419  0.444799  0.299604  0.349704  0.409024  0.487834  0.857550  0.487834 -1.091388  0.442354  0.408126  0.382298  0.458546  0.829409 -1.446456  0.378590  0.760414  0.442354  0.458893   \n",
              "...                            ...       ...       ...       ...       ...       ...       ...       ...       ...       ...       ...       ...       ...       ...       ...       ...       ...       ...       ...       ...       ...       ...   \n",
              "2020-01-05T00:00:00.000Z -2.445154  0.277048  0.391986  0.724143  0.366168  0.358363  0.487834  0.339559 -2.410104  0.473460  0.845358  0.418832  0.601744  0.449516  0.858422  0.392736  0.403747  0.470466  0.487834  0.366985  0.464592  0.623538   \n",
              "2020-01-04T00:00:00.000Z  0.277048  0.391986  0.724143  0.366168  0.358363  0.487834  0.339559 -2.410104  0.473460  0.845358  0.418832  0.601744  0.449516  0.858422  0.392736  0.403747  0.470466  0.487834  0.366985  0.464592  0.623538  0.521343   \n",
              "2020-04-06T00:00:00.000Z  0.391986  0.724143  0.366168  0.358363  0.487834  0.339559 -2.410104  0.473460  0.845358  0.418832  0.601744  0.449516  0.858422  0.392736  0.403747  0.470466  0.487834  0.366985  0.464592  0.623538  0.521343 -2.492548   \n",
              "2020-03-09T00:00:00.000Z  0.724143  0.366168  0.358363  0.487834  0.339559 -2.410104  0.473460  0.845358  0.418832  0.601744  0.449516  0.858422  0.392736  0.403747  0.470466  0.487834  0.366985  0.464592  0.623538  0.521343 -2.492548 -2.468828   \n",
              "2020-03-13T00:00:00.000Z  0.366168  0.358363  0.487834  0.339559 -2.410104  0.473460  0.845358  0.418832  0.601744  0.449516  0.858422  0.392736  0.403747  0.470466  0.487834  0.366985  0.464592  0.623538  0.521343 -2.492548 -2.468828 -2.036756   \n",
              "\n",
              "                          shift 22  shift 23  shift 24  ...  shift 97  shift 98  shift 99  shift 100  shift 101  shift 102  shift 103  shift 104  shift 105  shift 106  shift 107  shift 108  shift 109  shift 110  shift 111  shift 112  shift 113  \\\n",
              "followers timestp                                       ...                                                                                                                                                                                           \n",
              "2020-02-25T00:00:00.000Z  0.378590  0.760414  0.442354  ...  0.601744  0.449516  0.858422   0.392736   0.403747   0.470466   0.487834   0.366985   0.464592   0.623538   0.521343  -2.492548  -2.468828  -2.036756   0.353618   0.442354   0.389953   \n",
              "2020-03-27T00:00:00.000Z  0.760414  0.442354  0.458893  ...  0.449516  0.858422  0.392736   0.403747   0.470466   0.487834   0.366985   0.464592   0.623538   0.521343  -2.492548  -2.468828  -2.036756   0.353618   0.442354   0.389953   0.388366   \n",
              "2020-03-12T00:00:00.000Z  0.442354  0.458893  0.837056  ...  0.858422  0.392736  0.403747   0.470466   0.487834   0.366985   0.464592   0.623538   0.521343  -2.492548  -2.468828  -2.036756   0.353618   0.442354   0.389953   0.388366   0.459195   \n",
              "2020-05-08T00:00:00.000Z  0.458893  0.837056  0.450815  ...  0.392736  0.403747  0.470466   0.487834   0.366985   0.464592   0.623538   0.521343  -2.492548  -2.468828  -2.036756   0.353618   0.442354   0.389953   0.388366   0.459195  -2.008077   \n",
              "2020-02-11T00:00:00.000Z  0.837056  0.450815  0.464592  ...  0.403747  0.470466  0.487834   0.366985   0.464592   0.623538   0.521343  -2.492548  -2.468828  -2.036756   0.353618   0.442354   0.389953   0.388366   0.459195  -2.008077   0.352363   \n",
              "...                            ...       ...       ...  ...       ...       ...       ...        ...        ...        ...        ...        ...        ...        ...        ...        ...        ...        ...        ...        ...        ...   \n",
              "2020-01-05T00:00:00.000Z  0.521343 -2.492548 -2.468828  ...       NaN       NaN       NaN        NaN        NaN        NaN        NaN        NaN        NaN        NaN        NaN        NaN        NaN        NaN        NaN        NaN        NaN   \n",
              "2020-01-04T00:00:00.000Z -2.492548 -2.468828 -2.036756  ...       NaN       NaN       NaN        NaN        NaN        NaN        NaN        NaN        NaN        NaN        NaN        NaN        NaN        NaN        NaN        NaN        NaN   \n",
              "2020-04-06T00:00:00.000Z -2.468828 -2.036756  0.353618  ...       NaN       NaN       NaN        NaN        NaN        NaN        NaN        NaN        NaN        NaN        NaN        NaN        NaN        NaN        NaN        NaN        NaN   \n",
              "2020-03-09T00:00:00.000Z -2.036756  0.353618  0.442354  ...       NaN       NaN       NaN        NaN        NaN        NaN        NaN        NaN        NaN        NaN        NaN        NaN        NaN        NaN        NaN        NaN        NaN   \n",
              "2020-03-13T00:00:00.000Z  0.353618  0.442354  0.389953  ...       NaN       NaN       NaN        NaN        NaN        NaN        NaN        NaN        NaN        NaN        NaN        NaN        NaN        NaN        NaN        NaN        NaN   \n",
              "\n",
              "                          shift 114  shift 115  shift 116  shift 117  shift 118  shift 119  shift 120  shift 121  \n",
              "followers timestp                                                                                                 \n",
              "2020-02-25T00:00:00.000Z   0.388366   0.459195  -2.008077   0.352363   0.627942   0.259544  -2.168935   0.471906  \n",
              "2020-03-27T00:00:00.000Z   0.459195  -2.008077   0.352363   0.627942   0.259544  -2.168935   0.471906        NaN  \n",
              "2020-03-12T00:00:00.000Z  -2.008077   0.352363   0.627942   0.259544  -2.168935   0.471906        NaN        NaN  \n",
              "2020-05-08T00:00:00.000Z   0.352363   0.627942   0.259544  -2.168935   0.471906        NaN        NaN        NaN  \n",
              "2020-02-11T00:00:00.000Z   0.627942   0.259544  -2.168935   0.471906        NaN        NaN        NaN        NaN  \n",
              "...                             ...        ...        ...        ...        ...        ...        ...        ...  \n",
              "2020-01-05T00:00:00.000Z        NaN        NaN        NaN        NaN        NaN        NaN        NaN        NaN  \n",
              "2020-01-04T00:00:00.000Z        NaN        NaN        NaN        NaN        NaN        NaN        NaN        NaN  \n",
              "2020-04-06T00:00:00.000Z        NaN        NaN        NaN        NaN        NaN        NaN        NaN        NaN  \n",
              "2020-03-09T00:00:00.000Z        NaN        NaN        NaN        NaN        NaN        NaN        NaN        NaN  \n",
              "2020-03-13T00:00:00.000Z        NaN        NaN        NaN        NaN        NaN        NaN        NaN        NaN  \n",
              "\n",
              "[90 rows x 122 columns]"
            ]
          },
          "metadata": {
            "tags": []
          },
          "execution_count": 466
        }
      ]
    },
    {
      "cell_type": "markdown",
      "metadata": {
        "id": "M_EsaRmZaOxg"
      },
      "source": [
        "#### XGBOOST tree leaf nodes"
      ]
    },
    {
      "cell_type": "code",
      "metadata": {
        "id": "DLiqJCd6b5dW",
        "colab": {
          "base_uri": "https://localhost:8080/"
        },
        "outputId": "12bbabc1-e260-4c3d-cc69-2974d23fedf4"
      },
      "source": [
        "pred_over90 = lin_reg_forcast(MM,Y='shift 0')"
      ],
      "execution_count": 467,
      "outputs": [
        {
          "output_type": "stream",
          "text": [
            "[[13 11 13 14  8 13 13 15 10 14]\n",
            " [13 11  3 13  7 16 13 16  9 14]\n",
            " [11  4 15  3  3 11 14 11 13 11]\n",
            " [ 6  7 13  7  3 11 11 14 14  8]\n",
            " [14  4 14  7 15 10 11 11 14  8]\n",
            " [13  4 13  3  7 13 12 11  6  2]\n",
            " [10  6  9 10  3  4 12 14  1  2]\n",
            " [12 12 16 14 10 16 14  4  9 11]\n",
            " [ 6  6 10 10 12 12  3  2  9  2]\n",
            " [ 9 12  3 11 10 12 14 16 13 12]\n",
            " [10  7 16 14 15 11  5 16 14 14]\n",
            " [ 1 11 10 10 12  6 13  2  4  2]\n",
            " [ 1 11  6 12  7  4  3 13  9  6]\n",
            " [ 9 11 16 12 16 13  7 15 12 14]\n",
            " [ 9 11  9 14  9 10  5 15 10  4]\n",
            " [ 1  6 10  7 10  3  3  6  6  4]\n",
            " [ 1  6 10  9 12 11  8  4  1  2]\n",
            " [12  7 15 14 10 12 11 16 14 11]\n",
            " [13  7 13 14  8  6 12 15 14 13]\n",
            " [ 1  7 16  7  7  4 11 14 14  4]\n",
            " [13 12  3  3 10 13  3  4  1  4]\n",
            " [12 12 12 14 16 13 13 16  1 12]\n",
            " [ 1  5  6 11  3  3  3 14 14  8]\n",
            " [12 12  3 13  8  6 14 15  9 13]\n",
            " [ 6  5 10  9 12  6  8 12  4  2]\n",
            " [ 1  6  9 10 10  6  5 13  4  6]\n",
            " [12 11 12 10 15 10  7 13  9  6]\n",
            " [11 12 15 12 16  4  3 16 13 12]\n",
            " [14  5  6  3 10 11 12 14 13 14]\n",
            " [14 11  6 11  7 11  5  6 13 12]\n",
            " [10 12  3 12  3 12 12 13  6  2]\n",
            " [11 12 10  7 15 11  7 13 12  8]\n",
            " [ 9 12 10 10  9 10  5 13 13  8]\n",
            " [12  4 15 14  8 15 13 12 10 14]\n",
            " [10 11 16 12 16 15 14  4 12 12]\n",
            " [11  5  6 11 16  4  8 13  4  8]\n",
            " [ 1  5  6 11  3  3 11  6  1  8]\n",
            " [ 1 10 13  9 12 12  3 14 13  2]\n",
            " [10  5  6  3  7 11  3 11 14 13]\n",
            " [11 11 12 11 14 12  5 15  6  4]\n",
            " [12  4 16  9  7 16 14 11 10 14]\n",
            " [14  7  6  7  3  4 14 14 13  4]\n",
            " [ 1  6 10 10 10  3 12 15  6  8]\n",
            " [12  4 16 12  3 13  7 12 10 14]\n",
            " [11 12 12 13 14 16  8 15  9 14]\n",
            " [11 12 12  3 12 15  7 16 10  2]\n",
            " [14 10 14  3  3 12  7 16 14  4]\n",
            " [12 12 15 14  8 13 13 15 10 14]\n",
            " [ 6  4 13  3 10  3  3 11  1  4]\n",
            " [13 10 14 13  9 16 14  4  9 11]\n",
            " [ 1  5  6 11 16 15 12  6 12 12]\n",
            " [11 12 15  3 14 13  5  4  6 12]\n",
            " [14  7 14  7 15 11  3 14 14  8]\n",
            " [13 10 13 13  9 15  5 15  9 14]\n",
            " [ 1  4 10 10 10  3  3  2 14  6]\n",
            " [12 11 15  3  8 11  3 13  9  4]\n",
            " [ 6 10 14  7  3  4 11  2 10 13]\n",
            " [13 10 13  9 14 13  8  6 12  6]\n",
            " [12 12 15  3 14 15  8  4  9 14]\n",
            " [ 6  4  3 12 14  6  3  6  4 12]\n",
            " [12 12 15 13 14 13 13  4  9 12]\n",
            " [ 1  6  9 10  9 12  5 12 14  6]\n",
            " [10  7 14  3 16 11  7 15 10  4]\n",
            " [10  7  6 11 16 11  5 13  1  8]\n",
            " [ 9  7 16 12  3  3 12 16 12 11]\n",
            " [14  4 13  9 16 16  7 12  9  4]\n",
            " [12  7 15 10  7 10 14 13 10  4]\n",
            " [13  4 13 14  8 13 13 12  1 13]\n",
            " [ 9 12 15  3 10 10  3  6 14  4]\n",
            " [ 1 12 15 10 15 12 12 14 14  8]\n",
            " [11 12  3  9 14  4  5  2 13  6]\n",
            " [ 1  5  9  7  9  6 12 14  4 14]]\n"
          ],
          "name": "stdout"
        }
      ]
    },
    {
      "cell_type": "markdown",
      "metadata": {
        "id": "m-Fk2QwiaUH9"
      },
      "source": [
        "### Artist Scores for next 90 time series step based from group by Chartmetric ID and Time series data\n"
      ]
    },
    {
      "cell_type": "code",
      "metadata": {
        "id": "Rm-7BTKHc_ht",
        "colab": {
          "base_uri": "https://localhost:8080/"
        },
        "outputId": "b7ad8f43-dc07-4d5c-9d15-7ffeecae5af9"
      },
      "source": [
        "pred_over90"
      ],
      "execution_count": 468,
      "outputs": [
        {
          "output_type": "execute_result",
          "data": {
            "text/plain": [
              "array([ 0.45900354,  0.43506414,  0.45065108,  0.53901315,  0.6348068 ,\n",
              "        0.27740836, -0.0713748 ,  0.254942  , -0.5259682 ,  0.2833577 ,\n",
              "        0.53414446, -0.42625898,  0.16433996,  0.45266688,  0.3113198 ,\n",
              "       -0.5496302 , -0.47412282,  0.4166885 ,  0.47171208,  0.39338216,\n",
              "       -0.17997578,  0.3737683 ,  0.16968949,  0.34893414, -0.29818055,\n",
              "       -0.43021822,  0.35043216,  0.33552313,  0.3248351 ,  0.47997287,\n",
              "        0.31354702,  0.3935697 ,  0.15376496,  0.36686796,  0.4051324 ,\n",
              "        0.38324586,  0.1342548 ,  0.04184639,  0.35450807,  0.36916634,\n",
              "        0.38919812,  0.5547666 , -0.48027262,  0.3793509 ,  0.41582236,\n",
              "        0.25751215,  0.52011013,  0.4344616 , -0.31333685,  0.4870446 ,\n",
              "        0.3029284 ,  0.2649164 ,  0.5569561 ,  0.46546787, -0.5881051 ,\n",
              "        0.25672776,  0.35774133,  0.28890485,  0.26861694, -0.10107079,\n",
              "        0.37174746, -0.12408066,  0.43284598,  0.43391725,  0.39533472,\n",
              "        0.33533922,  0.30531973,  0.2903142 ,  0.05467305,  0.29339874,\n",
              "        0.1551322 ,  0.15876211], dtype=float32)"
            ]
          },
          "metadata": {
            "tags": []
          },
          "execution_count": 468
        }
      ]
    },
    {
      "cell_type": "markdown",
      "metadata": {
        "id": "RdzspVXubSuD"
      },
      "source": [
        "### Preliminary Logistic Regression <- FIX ME"
      ]
    },
    {
      "cell_type": "code",
      "metadata": {
        "id": "bT7xVwWJD1ll",
        "colab": {
          "base_uri": "https://localhost:8080/",
          "height": 611
        },
        "outputId": "9d0283ec-fe5f-42b0-c418-a31d40095530"
      },
      "source": [
        "basic_logistic_regression(pd.DataFrame(stats.zscore(dtrain),columns=dtrain.columns),cutoff=np.mean(stats.zscore(dtrain))*2)"
      ],
      "execution_count": 469,
      "outputs": [
        {
          "output_type": "error",
          "ename": "KeyError",
          "evalue": "ignored",
          "traceback": [
            "\u001b[0;31m---------------------------------------------------------------------------\u001b[0m",
            "\u001b[0;31mKeyError\u001b[0m                                  Traceback (most recent call last)",
            "\u001b[0;32m/usr/local/lib/python3.6/dist-packages/pandas/core/indexes/base.py\u001b[0m in \u001b[0;36mget_loc\u001b[0;34m(self, key, method, tolerance)\u001b[0m\n\u001b[1;32m   2897\u001b[0m             \u001b[0;32mtry\u001b[0m\u001b[0;34m:\u001b[0m\u001b[0;34m\u001b[0m\u001b[0;34m\u001b[0m\u001b[0m\n\u001b[0;32m-> 2898\u001b[0;31m                 \u001b[0;32mreturn\u001b[0m \u001b[0mself\u001b[0m\u001b[0;34m.\u001b[0m\u001b[0m_engine\u001b[0m\u001b[0;34m.\u001b[0m\u001b[0mget_loc\u001b[0m\u001b[0;34m(\u001b[0m\u001b[0mcasted_key\u001b[0m\u001b[0;34m)\u001b[0m\u001b[0;34m\u001b[0m\u001b[0;34m\u001b[0m\u001b[0m\n\u001b[0m\u001b[1;32m   2899\u001b[0m             \u001b[0;32mexcept\u001b[0m \u001b[0mKeyError\u001b[0m \u001b[0;32mas\u001b[0m \u001b[0merr\u001b[0m\u001b[0;34m:\u001b[0m\u001b[0;34m\u001b[0m\u001b[0;34m\u001b[0m\u001b[0m\n",
            "\u001b[0;32mpandas/_libs/index.pyx\u001b[0m in \u001b[0;36mpandas._libs.index.IndexEngine.get_loc\u001b[0;34m()\u001b[0m\n",
            "\u001b[0;32mpandas/_libs/index.pyx\u001b[0m in \u001b[0;36mpandas._libs.index.IndexEngine.get_loc\u001b[0;34m()\u001b[0m\n",
            "\u001b[0;32mpandas/_libs/hashtable_class_helper.pxi\u001b[0m in \u001b[0;36mpandas._libs.hashtable.PyObjectHashTable.get_item\u001b[0;34m()\u001b[0m\n",
            "\u001b[0;32mpandas/_libs/hashtable_class_helper.pxi\u001b[0m in \u001b[0;36mpandas._libs.hashtable.PyObjectHashTable.get_item\u001b[0;34m()\u001b[0m\n",
            "\u001b[0;31mKeyError\u001b[0m: 'pop_bin'",
            "\nThe above exception was the direct cause of the following exception:\n",
            "\u001b[0;31mKeyError\u001b[0m                                  Traceback (most recent call last)",
            "\u001b[0;32m<ipython-input-469-8dad22bb302c>\u001b[0m in \u001b[0;36m<module>\u001b[0;34m()\u001b[0m\n\u001b[0;32m----> 1\u001b[0;31m \u001b[0mbasic_logistic_regression\u001b[0m\u001b[0;34m(\u001b[0m\u001b[0mpd\u001b[0m\u001b[0;34m.\u001b[0m\u001b[0mDataFrame\u001b[0m\u001b[0;34m(\u001b[0m\u001b[0mstats\u001b[0m\u001b[0;34m.\u001b[0m\u001b[0mzscore\u001b[0m\u001b[0;34m(\u001b[0m\u001b[0mdtrain\u001b[0m\u001b[0;34m)\u001b[0m\u001b[0;34m,\u001b[0m\u001b[0mcolumns\u001b[0m\u001b[0;34m=\u001b[0m\u001b[0mdtrain\u001b[0m\u001b[0;34m.\u001b[0m\u001b[0mcolumns\u001b[0m\u001b[0;34m)\u001b[0m\u001b[0;34m,\u001b[0m\u001b[0mcutoff\u001b[0m\u001b[0;34m=\u001b[0m\u001b[0mnp\u001b[0m\u001b[0;34m.\u001b[0m\u001b[0mmean\u001b[0m\u001b[0;34m(\u001b[0m\u001b[0mstats\u001b[0m\u001b[0;34m.\u001b[0m\u001b[0mzscore\u001b[0m\u001b[0;34m(\u001b[0m\u001b[0mdtrain\u001b[0m\u001b[0;34m)\u001b[0m\u001b[0;34m)\u001b[0m\u001b[0;34m*\u001b[0m\u001b[0;36m2\u001b[0m\u001b[0;34m)\u001b[0m\u001b[0;34m\u001b[0m\u001b[0;34m\u001b[0m\u001b[0m\n\u001b[0m",
            "\u001b[0;32m<ipython-input-441-b0ee72a746a1>\u001b[0m in \u001b[0;36mbasic_logistic_regression\u001b[0;34m(df, cutoff, col, rand, sig_only)\u001b[0m\n\u001b[1;32m    465\u001b[0m \u001b[0;32mdef\u001b[0m \u001b[0mbasic_logistic_regression\u001b[0m\u001b[0;34m(\u001b[0m\u001b[0mdf\u001b[0m\u001b[0;34m,\u001b[0m \u001b[0mcutoff\u001b[0m\u001b[0;34m,\u001b[0m\u001b[0mcol\u001b[0m\u001b[0;34m=\u001b[0m\u001b[0;34m'pop_bin'\u001b[0m\u001b[0;34m,\u001b[0m \u001b[0mrand\u001b[0m\u001b[0;34m=\u001b[0m\u001b[0;36m0\u001b[0m\u001b[0;34m,\u001b[0m \u001b[0msig_only\u001b[0m\u001b[0;34m=\u001b[0m\u001b[0;32mFalse\u001b[0m\u001b[0;34m)\u001b[0m\u001b[0;34m:\u001b[0m\u001b[0;34m\u001b[0m\u001b[0;34m\u001b[0m\u001b[0m\n\u001b[1;32m    466\u001b[0m     \u001b[0mdf\u001b[0m \u001b[0;34m=\u001b[0m \u001b[0mdf\u001b[0m\u001b[0;34m.\u001b[0m\u001b[0mcopy\u001b[0m\u001b[0;34m(\u001b[0m\u001b[0;34m)\u001b[0m\u001b[0;34m\u001b[0m\u001b[0;34m\u001b[0m\u001b[0m\n\u001b[0;32m--> 467\u001b[0;31m     \u001b[0mX\u001b[0m\u001b[0;34m,\u001b[0m \u001b[0my\u001b[0m \u001b[0;34m=\u001b[0m \u001b[0mreturn_X_y_logistic\u001b[0m\u001b[0;34m(\u001b[0m\u001b[0msplit_sample_combine\u001b[0m\u001b[0;34m(\u001b[0m\u001b[0mdf\u001b[0m\u001b[0;34m,\u001b[0m \u001b[0mcutoff\u001b[0m\u001b[0;34m,\u001b[0m\u001b[0mcol\u001b[0m\u001b[0;34m,\u001b[0m \u001b[0mrand\u001b[0m\u001b[0;34m=\u001b[0m\u001b[0mrand\u001b[0m\u001b[0;34m)\u001b[0m\u001b[0;34m)\u001b[0m\u001b[0;34m\u001b[0m\u001b[0;34m\u001b[0m\u001b[0m\n\u001b[0m\u001b[1;32m    468\u001b[0m     \u001b[0mX\u001b[0m \u001b[0;34m=\u001b[0m \u001b[0mstandardize_X\u001b[0m\u001b[0;34m(\u001b[0m\u001b[0mX\u001b[0m\u001b[0;34m)\u001b[0m\u001b[0;34m\u001b[0m\u001b[0;34m\u001b[0m\u001b[0m\n\u001b[1;32m    469\u001b[0m     \u001b[0mX_const\u001b[0m \u001b[0;34m=\u001b[0m \u001b[0madd_constant\u001b[0m\u001b[0;34m(\u001b[0m\u001b[0mX\u001b[0m\u001b[0;34m,\u001b[0m \u001b[0mprepend\u001b[0m\u001b[0;34m=\u001b[0m\u001b[0;32mTrue\u001b[0m\u001b[0;34m)\u001b[0m\u001b[0;34m\u001b[0m\u001b[0;34m\u001b[0m\u001b[0m\n",
            "\u001b[0;32m<ipython-input-441-b0ee72a746a1>\u001b[0m in \u001b[0;36msplit_sample_combine\u001b[0;34m(df, cutoff, col, rand)\u001b[0m\n\u001b[1;32m    362\u001b[0m \u001b[0;32mdef\u001b[0m \u001b[0msplit_sample_combine\u001b[0m\u001b[0;34m(\u001b[0m\u001b[0mdf\u001b[0m\u001b[0;34m,\u001b[0m \u001b[0mcutoff\u001b[0m\u001b[0;34m,\u001b[0m \u001b[0mcol\u001b[0m\u001b[0;34m=\u001b[0m\u001b[0;34m'fx popularity'\u001b[0m\u001b[0;34m,\u001b[0m \u001b[0mrand\u001b[0m\u001b[0;34m=\u001b[0m\u001b[0;32mNone\u001b[0m\u001b[0;34m)\u001b[0m\u001b[0;34m:\u001b[0m\u001b[0;34m\u001b[0m\u001b[0;34m\u001b[0m\u001b[0m\n\u001b[1;32m    363\u001b[0m     \u001b[0;31m# split out popular rows above the popularity cutoff\u001b[0m\u001b[0;34m\u001b[0m\u001b[0;34m\u001b[0m\u001b[0;34m\u001b[0m\u001b[0m\n\u001b[0;32m--> 364\u001b[0;31m     \u001b[0msplit_pop_df\u001b[0m \u001b[0;34m=\u001b[0m \u001b[0mdf\u001b[0m\u001b[0;34m[\u001b[0m\u001b[0mdf\u001b[0m\u001b[0;34m[\u001b[0m\u001b[0mcol\u001b[0m\u001b[0;34m]\u001b[0m \u001b[0;34m>=\u001b[0m \u001b[0mcutoff\u001b[0m\u001b[0;34m]\u001b[0m\u001b[0;34m.\u001b[0m\u001b[0mcopy\u001b[0m\u001b[0;34m(\u001b[0m\u001b[0;34m)\u001b[0m\u001b[0;34m\u001b[0m\u001b[0;34m\u001b[0m\u001b[0m\n\u001b[0m\u001b[1;32m    365\u001b[0m \u001b[0;34m\u001b[0m\u001b[0m\n\u001b[1;32m    366\u001b[0m     \u001b[0;31m# get the leftover rows, the 'unpopular' songs\u001b[0m\u001b[0;34m\u001b[0m\u001b[0;34m\u001b[0m\u001b[0;34m\u001b[0m\u001b[0m\n",
            "\u001b[0;32m/usr/local/lib/python3.6/dist-packages/pandas/core/frame.py\u001b[0m in \u001b[0;36m__getitem__\u001b[0;34m(self, key)\u001b[0m\n\u001b[1;32m   2904\u001b[0m             \u001b[0;32mif\u001b[0m \u001b[0mself\u001b[0m\u001b[0;34m.\u001b[0m\u001b[0mcolumns\u001b[0m\u001b[0;34m.\u001b[0m\u001b[0mnlevels\u001b[0m \u001b[0;34m>\u001b[0m \u001b[0;36m1\u001b[0m\u001b[0;34m:\u001b[0m\u001b[0;34m\u001b[0m\u001b[0;34m\u001b[0m\u001b[0m\n\u001b[1;32m   2905\u001b[0m                 \u001b[0;32mreturn\u001b[0m \u001b[0mself\u001b[0m\u001b[0;34m.\u001b[0m\u001b[0m_getitem_multilevel\u001b[0m\u001b[0;34m(\u001b[0m\u001b[0mkey\u001b[0m\u001b[0;34m)\u001b[0m\u001b[0;34m\u001b[0m\u001b[0;34m\u001b[0m\u001b[0m\n\u001b[0;32m-> 2906\u001b[0;31m             \u001b[0mindexer\u001b[0m \u001b[0;34m=\u001b[0m \u001b[0mself\u001b[0m\u001b[0;34m.\u001b[0m\u001b[0mcolumns\u001b[0m\u001b[0;34m.\u001b[0m\u001b[0mget_loc\u001b[0m\u001b[0;34m(\u001b[0m\u001b[0mkey\u001b[0m\u001b[0;34m)\u001b[0m\u001b[0;34m\u001b[0m\u001b[0;34m\u001b[0m\u001b[0m\n\u001b[0m\u001b[1;32m   2907\u001b[0m             \u001b[0;32mif\u001b[0m \u001b[0mis_integer\u001b[0m\u001b[0;34m(\u001b[0m\u001b[0mindexer\u001b[0m\u001b[0;34m)\u001b[0m\u001b[0;34m:\u001b[0m\u001b[0;34m\u001b[0m\u001b[0;34m\u001b[0m\u001b[0m\n\u001b[1;32m   2908\u001b[0m                 \u001b[0mindexer\u001b[0m \u001b[0;34m=\u001b[0m \u001b[0;34m[\u001b[0m\u001b[0mindexer\u001b[0m\u001b[0;34m]\u001b[0m\u001b[0;34m\u001b[0m\u001b[0;34m\u001b[0m\u001b[0m\n",
            "\u001b[0;32m/usr/local/lib/python3.6/dist-packages/pandas/core/indexes/base.py\u001b[0m in \u001b[0;36mget_loc\u001b[0;34m(self, key, method, tolerance)\u001b[0m\n\u001b[1;32m   2898\u001b[0m                 \u001b[0;32mreturn\u001b[0m \u001b[0mself\u001b[0m\u001b[0;34m.\u001b[0m\u001b[0m_engine\u001b[0m\u001b[0;34m.\u001b[0m\u001b[0mget_loc\u001b[0m\u001b[0;34m(\u001b[0m\u001b[0mcasted_key\u001b[0m\u001b[0;34m)\u001b[0m\u001b[0;34m\u001b[0m\u001b[0;34m\u001b[0m\u001b[0m\n\u001b[1;32m   2899\u001b[0m             \u001b[0;32mexcept\u001b[0m \u001b[0mKeyError\u001b[0m \u001b[0;32mas\u001b[0m \u001b[0merr\u001b[0m\u001b[0;34m:\u001b[0m\u001b[0;34m\u001b[0m\u001b[0;34m\u001b[0m\u001b[0m\n\u001b[0;32m-> 2900\u001b[0;31m                 \u001b[0;32mraise\u001b[0m \u001b[0mKeyError\u001b[0m\u001b[0;34m(\u001b[0m\u001b[0mkey\u001b[0m\u001b[0;34m)\u001b[0m \u001b[0;32mfrom\u001b[0m \u001b[0merr\u001b[0m\u001b[0;34m\u001b[0m\u001b[0;34m\u001b[0m\u001b[0m\n\u001b[0m\u001b[1;32m   2901\u001b[0m \u001b[0;34m\u001b[0m\u001b[0m\n\u001b[1;32m   2902\u001b[0m         \u001b[0;32mif\u001b[0m \u001b[0mtolerance\u001b[0m \u001b[0;32mis\u001b[0m \u001b[0;32mnot\u001b[0m \u001b[0;32mNone\u001b[0m\u001b[0;34m:\u001b[0m\u001b[0;34m\u001b[0m\u001b[0;34m\u001b[0m\u001b[0m\n",
            "\u001b[0;31mKeyError\u001b[0m: 'pop_bin'"
          ]
        }
      ]
    },
    {
      "cell_type": "markdown",
      "metadata": {
        "id": "KY0AYjf1baAX"
      },
      "source": [
        "### Google API services integrations"
      ]
    },
    {
      "cell_type": "code",
      "metadata": {
        "id": "EA3kKXNm1hQi"
      },
      "source": [
        "import gspread\n",
        "from oauth2client.service_account import ServiceAccountCredentials\n",
        "scope = ['https://spreadsheets.google.com/feeds',\n",
        "         'https://www.googleapis.com/auth/drive']\n",
        "credentials = ServiceAccountCredentials.from_json_keyfile_name('chartmetric_cred.json', scope)\n",
        "gc = gspread.authorize(credentials)"
      ],
      "execution_count": null,
      "outputs": []
    },
    {
      "cell_type": "code",
      "metadata": {
        "id": "bGe1JDhVFfwJ"
      },
      "source": [
        "wb = gc.open_by_url('https://docs.google.com/spreadsheets/d/1zr1gp_O1xlfGaPxE8bPVUXtSsiNRbzeS53-axQrOY5s/edit#gid=289689074')"
      ],
      "execution_count": null,
      "outputs": []
    },
    {
      "cell_type": "code",
      "metadata": {
        "id": "Vl7kC8rzFuH7"
      },
      "source": [
        "sheet = wb.worksheet('grouped')"
      ],
      "execution_count": null,
      "outputs": []
    },
    {
      "cell_type": "code",
      "metadata": {
        "id": "FCeUJvzmjWxG"
      },
      "source": [
        "import os \n",
        "import psutil\n",
        "\n",
        "process = psutil.Process(os.getpid())\n",
        "process.memory_info()\n"
      ],
      "execution_count": null,
      "outputs": []
    },
    {
      "cell_type": "code",
      "metadata": {
        "id": "EOSVAwiokQ_q"
      },
      "source": [
        "import resource\n",
        "resource.getrusage(resource.RUSAGE_SELF).ru_maxrss"
      ],
      "execution_count": null,
      "outputs": []
    }
  ]
}