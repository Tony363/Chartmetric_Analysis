{
  "nbformat": 4,
  "nbformat_minor": 0,
  "metadata": {
    "colab": {
      "name": "Chartmetric_DataConsolidation.ipynb",
      "provenance": [],
      "collapsed_sections": [
        "ZybxhQZHBxma",
        "na_clS3ZD5U0",
        "24p6q_9iECyT",
        "0bYJxl0oJAqf",
        "MIX6fsXPJJyB",
        "ZjctZT3uJPUV",
        "B-0apiGTJTsz",
        "X0n2hhpmJYK1",
        "nP59UZJ9JhlO",
        "yIYjBrsPYICm",
        "usJDmV3PYOF5",
        "LcfEJce0YbPf",
        "S8WZUQlWIV2y",
        "2H2mWbsLIz2k",
        "2vz-D4kxZCOb",
        "22JKiCxQZfZS",
        "6BSx274_aAnf",
        "m-Fk2QwiaUH9",
        "RdzspVXubSuD",
        "KY0AYjf1baAX"
      ],
      "include_colab_link": true
    },
    "kernelspec": {
      "display_name": "Python 3",
      "name": "python3"
    }
  },
  "cells": [
    {
      "cell_type": "markdown",
      "metadata": {
        "id": "view-in-github",
        "colab_type": "text"
      },
      "source": [
        "<a href=\"https://colab.research.google.com/github/Tony363/Chartmetric_Analysis/blob/master/Chartmetric_DataConsolidation.ipynb\" target=\"_parent\"><img src=\"https://colab.research.google.com/assets/colab-badge.svg\" alt=\"Open In Colab\"/></a>"
      ]
    },
    {
      "cell_type": "markdown",
      "metadata": {
        "id": "8fDJFa0oA070"
      },
      "source": [
        "## Custom Functions"
      ]
    },
    {
      "cell_type": "code",
      "metadata": {
        "id": "I4HijaK2SGUM"
      },
      "source": [
        "import pandas as pd\n",
        "import numpy as np \n",
        "import matplotlib.pyplot as plt\n",
        "import statsmodels.api as sm\n",
        "import seaborn as sns\n",
        "import xgboost as xgb\n",
        "import random\n",
        "\n",
        "from pandas.plotting import scatter_matrix\n",
        "from sklearn.linear_model import LinearRegression\n",
        "from sklearn.model_selection import train_test_split,KFold\n",
        "from sklearn.preprocessing import MaxAbsScaler,MinMaxScaler,StandardScaler,RobustScaler\n",
        "from scipy import stats  \n",
        "from statsmodels.discrete.discrete_model import Logit\n",
        "from statsmodels.tools import add_constant\n",
        "from sklearn.linear_model import LogisticRegression\n",
        "from sklearn.metrics import accuracy_score, precision_score, recall_score\n",
        "from sklearn.metrics import confusion_matrix\n",
        "from sklearn import metrics\n",
        "import itertools\n",
        "\n",
        "# load in main database of songs and attributes\n",
        "def load_data():\n",
        "    df = pd.read_csv(\"Chartmetric_Sample_Data.csv\")\n",
        "    df.drop('Unnamed: 0',axis=1,inplace=True)\n",
        "    df.set_index(\"Chartmetric_ID\",inplace=True)\n",
        "    return df\n",
        "\n",
        "# set some display options so easier to view all columns at once\n",
        "def set_view_options(max_cols=50, max_rows=50, max_colwidth=9, dis_width=250):\n",
        "    pd.options.display.max_columns = max_cols\n",
        "    pd.options.display.max_rows = max_rows\n",
        "    pd.set_option('max_colwidth', max_colwidth)\n",
        "    pd.options.display.width = dis_width\n",
        "    pd.option_context('mode.use_inf_as_na', True)\n",
        "    \n",
        "def rename_columns(df):\n",
        "    subidx = [df.columns.get_loc(col) for col in df.columns if \"Subject\" in col] \n",
        "    subjects = df.columns[[subidx]]\n",
        "    df.rename(columns={df.columns[subidx[idx]]:df.iloc[0,subidx[idx]] for idx,sub in enumerate(subidx)},inplace=True)\n",
        "    for subject,idx in enumerate(range(0,len(df.columns),7)):\n",
        "        df.rename(columns={sub:df.columns[subidx[subject]]+\" \"+sub for idx,sub in enumerate(df.columns[idx+1:idx+7])},inplace=True)\n",
        "    return df\n",
        "\n",
        "def get_df_info(df):\n",
        "    # print memory usage\n",
        "    print(df.memory_usage(),'\\n')\n",
        "    # take an initial look at our data\n",
        "    print(df.head(),'\\n')\n",
        "\n",
        "    # take a look at the columns in our data set\n",
        "    print(\"The columns are:\")\n",
        "    print(df.columns,'\\n')\n",
        "\n",
        "    # look at data types for each\n",
        "    info = df.info()\n",
        "    print(info,'\\n')\n",
        "\n",
        "    # take a look at data types, and it looks like we have a pretty clean data set!\n",
        "    # However, I think the 0 popularity scores might throw the model(s) off a bit.\n",
        "    print(\"Do we have any nulls?\")\n",
        "    print(f\"Looks like we have {df.isnull().sum().sum()} nulls\\n\")\n",
        "    \n",
        "    subject_col = []\n",
        "    statsdf = []\n",
        "    # look at basic metric mapping\n",
        "    for idx,col in enumerate(df.columns):\n",
        "        if idx % 7 != 0:\n",
        "            try:\n",
        "                stats = df.agg({col:['min','max','median','mean','skew']})\n",
        "                subject_col.append(col)\n",
        "                statsdf.append(stats.transpose())\n",
        "            except Exception as e:\n",
        "                # print(e)\n",
        "                continue\n",
        "    statsdf = pd.concat(statsdf,axis=0,ignore_index=True)\n",
        "    statsdf.set_index([pd.Index(subject_col)],inplace=True)\n",
        "    return statsdf\n",
        "\n",
        "# calculate and print more stats from the df\n",
        "def get_stats(df):\n",
        "    df.reset_index(inplace=True)\n",
        "    # print stats for various metrics\n",
        "    print()\n",
        "    print(f\"There are {df.shape[0]} rows\")\n",
        "    print(f\"There are {df['Chartmetric_ID'].unique().shape} unique artists\")\n",
        "    print(f\"There are {df['popularity value.1'].unique().shape} unique popularity scores\")\n",
        "    print(f\"The mean popularity score is {df['popularity value.1'].mean()}\")\n",
        "    print(f\"There are {df[df['popularity value.1'] > 55]['popularity value.1'].count()} songs with a popularity score > 55\")\n",
        "    print(f\"There are {df[df['popularity value.1'] > 75]['popularity value.1'].count()} songs with a popularity score > 75\")\n",
        "    print(f\"Only {(df[df['popularity value.1'] > 80]['popularity value.1'].count() / df.shape[0])*100:.2f} % of artists have a popularity score > 80\")\n",
        "\n",
        "def scale_grp(df,pct,time):\n",
        "    pct.replace([np.inf, -np.inf], np.nan,inplace=True)\n",
        "    df_std = pd.DataFrame(StandardScaler().fit_transform(pct),columns=['fx followers','fx popularity','fx listeners','fx ratio'])\n",
        "    df_std['time series'] = time\n",
        "    df_std.set_index('time series',inplace=True)\n",
        "    df_norm = pd.DataFrame(MinMaxScaler().fit_transform(pct),columns=['fx followers','fx popularity','fx listeners','fx ratio'])\n",
        "    df_norm['time series'] = time\n",
        "    df_norm.set_index('time series',inplace=True)\n",
        "    df_std_norm = pd.DataFrame(MinMaxScaler().fit_transform(df_std),columns=['fx followers','fx popularity','fx listeners','fx ratio'])\n",
        "    return df.drop(['fx followers','fx popularity','fx listeners','fx ratio'],axis=1),df.drop(['followers value','popularity value.1','listeners value.2','followers_to_listeners_ratio value.3'],axis=1),df_std,df_norm,df_std_norm\n",
        "\n",
        "def group_time(df):\n",
        "    timeidx = [df.columns.get_loc(col) for col in df.columns if \"timestp\" in col] \n",
        "    time = df.iloc[:,timeidx]\n",
        "    time = time.reset_index().drop('Chartmetric_ID',axis=1).loc[:,'followers timestp']\n",
        "    df = df.drop(df.columns[timeidx[1:]],axis=1)\n",
        "    df.reset_index(inplace=True)\n",
        "    df.fillna(method=\"ffill\",inplace=True)\n",
        "    df = df.groupby(['followers timestp'])[['Chartmetric_ID','followers value','popularity value.1','listeners value.2','followers_to_listeners_ratio value.3']].first()\n",
        "    df['fx followers'] = df['followers value'].pct_change()\n",
        "    df['fx popularity'] = df['popularity value.1'].pct_change()\n",
        "    df['fx listeners'] = df['listeners value.2'].pct_change()\n",
        "    df['fx ratio'] = df['followers_to_listeners_ratio value.3'].pct_change()\n",
        "    pct = df.fillna(method=\"ffill\").drop(['Chartmetric_ID','followers value','popularity value.1','listeners value.2','followers_to_listeners_ratio value.3'],axis=1)\n",
        "    return scale_grp(df,pct,time)\n",
        "   \n",
        "\n",
        "def artist_diff_metric(df):\n",
        "    timeidx = [df.columns.get_loc(col) for col in df.columns if \"timestp\" in col] \n",
        "    valueidx = [df.columns.get_loc(col) for col in df.columns if \"value\" in col] \n",
        "    df.drop(df.columns[timeidx+valueidx],axis=1,inplace=True)\n",
        "    df.reset_index(inplace=True)\n",
        "    artist_unique_row = [df.groupby('Chartmetric_ID').groups[artist][0] for artist in df.groupby('Chartmetric_ID').groups]\n",
        "    df = df.loc[artist_unique_row,:].drop(['followers','popularity','listeners'],axis=1).set_index('Chartmetric_ID')\n",
        "    return df\n",
        "\n",
        "def Multivariable_Matrix(df,original,col):\n",
        "    cmatrix = []\n",
        "    for shift,time in zip(range(df.shape[0]),df.index):\n",
        "        cseries = df.loc[:,col].shift(-shift)\n",
        "        smatrix = pd.DataFrame({f'shift {shift}':cseries.values})\n",
        "        cmatrix.append(smatrix)\n",
        "    cmatrix = pd.concat(cmatrix,axis=1)\n",
        "    cmatrix.drop(cmatrix.index[90:], inplace=True)\n",
        "    cmatrix.index = original.index[:cmatrix.shape[0]]\n",
        "    return cmatrix\n",
        "    \n",
        "def calc_correlations(df, cutoff=0.5):\n",
        "    corr = df.corr()\n",
        "    corr_data = corr[corr > cutoff]\n",
        "    corr_list = df.corr().unstack().sort_values(kind=\"quicksort\",ascending=False)\n",
        "    return corr_list,corr_data\n",
        "\n",
        "# nice way to truncate the column names to display easier\n",
        "# can be used with various metrics\n",
        "def describe_cols(df, L=10):\n",
        "    '''Limit ENTIRE column width (including header)'''\n",
        "    # get the max col width\n",
        "    O = pd.get_option(\"display.max_colwidth\")\n",
        "    # set max col width to be L\n",
        "    pd.set_option(\"display.max_colwidth\", L)\n",
        "    describe = df.rename(columns=lambda x: x[:L - 2] + '...' if len(x) > L else x).describe()\n",
        "    pd.set_option(\"display.max_colwidth\", O) \n",
        "    return describe\n",
        "\n",
        "# get redundant pairs from DataFrame\n",
        "def get_redundant_pairs(df):\n",
        "    '''Get diagonal pairs of correlation matrix and all pairs we'll remove \n",
        "    (since pair each is doubled in corr matrix)'''\n",
        "    pairs_to_drop = set()\n",
        "    cols = df.columns\n",
        "    for i in range(0, df.shape[1]):\n",
        "        for j in range(0, i+1):\n",
        "            if df[cols[i]].dtype != 'object' and df[cols[j]].dtype != 'object':\n",
        "                # print(\"THIS IS NOT AN OBJECT, YO, so you CAN take a corr of it, smarty!\")\n",
        "                pairs_to_drop.add((cols[i], cols[j]))\n",
        "    return pairs_to_drop\n",
        "\n",
        "def get_top_abs_correlations(df, n=10):\n",
        "    au_corr = df.corr().abs().unstack()\n",
        "    labels_to_drop = get_redundant_pairs(df)\n",
        "    au_corr = au_corr.drop(labels=labels_to_drop).sort_values(ascending=False)\n",
        "    \n",
        "    print(\"The top absolute correlations are:\")\n",
        "    print(au_corr[0:n])\n",
        "    return au_corr[0:n]\n",
        "    \n",
        "# plot a scatter plot\n",
        "def scatter_plot(df, col_x, col_y):\n",
        "    plt.scatter(df[col_x], df[col_y], alpha=0.2)\n",
        "    plt.title(f\"{col_x} vs {col_y}\")\n",
        "    plt.xlabel(f\"{col_x}\")\n",
        "    plt.ylabel(f\"{col_y}\")\n",
        "    plt.show()\n",
        "\n",
        "def plot_scatter_matrix(df, num_rows):\n",
        "    scatter_matrix(df[:num_rows], alpha=0.2, figsize=(6, 6), diagonal='kde')\n",
        "    plt.show()\n",
        "\n",
        "# plot a heatmap of the correlations between features as well as dependent variable\n",
        "def plot_heatmap(df):\n",
        "    # note this looks better in jupyter as well\n",
        "    plt.figure(figsize = (16,6))\n",
        "    sns.heatmap(df.corr(), cmap=\"coolwarm\", annot=True, )\n",
        "    plt.show()\n",
        "  \n",
        "# plot a confusion matrix\n",
        "def plot_confusion_matrix(cm, ax, classes,\n",
        "                          normalize=False,\n",
        "                          title='Confusion matrix',\n",
        "                          cmap=plt.cm.Greens):\n",
        "    \"\"\"\n",
        "    This function prints and plots the confusion matrix.\n",
        "    \"\"\"\n",
        "    font_size = 24\n",
        "    p = ax.imshow(cm, interpolation='nearest', cmap=cmap)\n",
        "    ax.set_title(title,fontsize=font_size)\n",
        "    \n",
        "    tick_marks = np.arange(len(classes))\n",
        "    ax.set_xticks(tick_marks)\n",
        "    ax.set_xticklabels(classes, rotation=45, fontsize=16)\n",
        "    ax.set_yticks(tick_marks)\n",
        "    ax.set_yticklabels(classes, fontsize=16)\n",
        "   \n",
        "    if normalize:\n",
        "        cm = cm.astype('float') / cm.sum(axis=1)[:, np.newaxis]\n",
        "        print(\"Normalized confusion matrix\")\n",
        "    else:\n",
        "        print('Confusion matrix, without normalization')\n",
        "\n",
        "    print(cm)\n",
        "\n",
        "    thresh = cm.max() / 2.\n",
        "    for i, j in itertools.product(range(cm.shape[0]), range(cm.shape[1])):\n",
        "        if i == 1 and j == 1:\n",
        "            lbl = \"(True Positive)\"\n",
        "        elif i == 0 and j == 0:\n",
        "            lbl = \"(True Negative)\"\n",
        "        elif i == 1 and j == 0:\n",
        "            lbl = \"(False Negative)\"\n",
        "        elif i == 0 and j == 1:\n",
        "            lbl = \"(False Positive)\"\n",
        "        ax.text(j, i, \"{:0.2f} \\n{}\".format(cm[i, j], lbl),\n",
        "                 horizontalalignment=\"center\", size = font_size,\n",
        "                 color=\"white\" if cm[i, j] > thresh else \"black\")\n",
        "    plt.tight_layout()\n",
        "    ax.set_ylabel('True',fontsize=font_size)\n",
        "    ax.set_xlabel('Predicted',fontsize=font_size)\n",
        "    \n",
        "# plot polularity scores distribution\n",
        "def plot_pop_dist(df):\n",
        "    # set palette\n",
        "    sns.set_palette('muted')\n",
        "\n",
        "    # create initial figure\n",
        "    fig = plt.figure(figsize=(8,5))\n",
        "    ax = fig.add_subplot(111)\n",
        "    sns.distplot(df['popularity value.1']/100, color='g', label=\"Popularity\").set_title(\"Distribution of Popularity Scores - Entire Data Set\")\n",
        "\n",
        "    # create x and y axis labels\n",
        "    plt.xlabel(\"Popularity\")\n",
        "    plt.ylabel(\"Density\")\n",
        "\n",
        "    plt.show()\n",
        "\n",
        "# plot undersampling methodology\n",
        "def undersample_plot(df):\n",
        "    # set palette\n",
        "    sns.set_palette('muted')\n",
        "\n",
        "    # create initial figure\n",
        "    fig = plt.figure(figsize=(8,5))\n",
        "    ax = fig.add_subplot(111)\n",
        "    sns.distplot(df['popularity value.1']/100, color='g', label=\"Popularity\").set_title(\"Illustration of Undersampling from Data Set\")\n",
        "    \n",
        "    # create line to shade to the right of\n",
        "    line = ax.get_lines()[-1]\n",
        "    x_line, y_line = line.get_data()\n",
        "    mask = x_line > 0.55\n",
        "    x_line, y_line = x_line[mask], y_line[mask]\n",
        "    ax.fill_between(x_line, y1=y_line, alpha=0.5, facecolor='red')\n",
        "\n",
        "    # get values for and plot first label\n",
        "    label_x = 0.5\n",
        "    label_y = 4\n",
        "    arrow_x = 0.6\n",
        "    arrow_y = 0.2\n",
        "\n",
        "    arrow_properties = dict(\n",
        "        facecolor=\"black\", width=2,\n",
        "        headwidth=4,connectionstyle='arc3,rad=0')\n",
        "\n",
        "    plt.annotate(\n",
        "        \"First, sample all popularity value in this range.\\n Sample size is n. Cutoff is 0.5.\", xy=(arrow_x, arrow_y),\n",
        "        xytext=(label_x, label_y),\n",
        "        bbox=dict(boxstyle='round,pad=0.5', fc='red', alpha=0.5),\n",
        "        arrowprops=arrow_properties)\n",
        "\n",
        "    # Get values for and plot second label\n",
        "    label_x = 0.1\n",
        "    label_y = 3\n",
        "    arrow_x = 0.2\n",
        "    arrow_y = 0.2\n",
        "\n",
        "    arrow_properties = dict(\n",
        "        facecolor=\"black\", width=2,\n",
        "        headwidth=4,connectionstyle='arc3,rad=0')\n",
        "\n",
        "    plt.annotate(\n",
        "        \"Next, randomly sample \\n n popularity value in this range\", xy=(arrow_x, arrow_y),\n",
        "        xytext=(label_x, label_y),\n",
        "        bbox=dict(boxstyle='round,pad=0.5', fc='g', alpha=0.5),\n",
        "        arrowprops=arrow_properties)\n",
        "\n",
        "    # plot final word box\n",
        "    plt.annotate(\n",
        "        \"Therefore, end up with a 50/50 \\n split of Popular / Not Popular\\n artist\", xy=(0.6, 2),\n",
        "        xytext=(0.62, 2),\n",
        "        bbox=dict(boxstyle='round,pad=0.5', fc='b', alpha=0.5))\n",
        "\n",
        "    # create x and y axis labels\n",
        "    plt.xlabel(\"Popularity\")\n",
        "    plt.ylabel(\"Density\")\n",
        "\n",
        "    plt.show()\n",
        "\n",
        "# plot univariate dists for several independent variables\n",
        "def plot_univ_dists(df, cutoff):\n",
        "    popularity_cutoff = cutoff\n",
        "    print('Mean value for followers feature for Popular artists: {}'.format(df[df['popularity value.1'] > popularity_cutoff]['followers value'].mean()))\n",
        "    print('Mean value for followers feature for Unpopular artists: {}'.format(df[df['popularity value.1'] < popularity_cutoff]['followers value'].mean()))\n",
        "    print('Mean value for listeners feature for Popular artists: {}'.format(df[df['popularity value.1'] > popularity_cutoff]['listeners value.2'].mean()))\n",
        "    print('Mean value for listeners feature for Unpopular artists: {}'.format(df[df['popularity value.1'] < popularity_cutoff]['listeners value.2'].mean()))\n",
        "  \n",
        "    \n",
        "    fig, ax = plt.subplots(1, 1, figsize=(8,5))\n",
        "    fig.suptitle('Histograms and Univariate Distributions of Important Features')\n",
        "    sns.distplot(df[df['popularity value.1'] < popularity_cutoff]['followers value'])\n",
        "    sns.distplot(df[df['popularity value.1'] > popularity_cutoff]['followers value'])\n",
        "    plt.show()\n",
        "\n",
        "    fig, ax = plt.subplots(1, 1, figsize=(8,5))\n",
        "    sns.distplot(df[df['popularity value.1'] < popularity_cutoff]['listeners value.2'])\n",
        "    sns.distplot(df[df['popularity value.1'] > popularity_cutoff]['listeners value.2'])\n",
        "    plt.show()\n",
        "\n",
        "def validation_plot(y_test, pred_test):\n",
        "    \"\"\"\n",
        "    Parameters\n",
        "    ----------\n",
        "    y_test : validation set.\n",
        "    pred_test : prediction on test.\n",
        "\n",
        "    Returns\n",
        "    -------\n",
        "    None.\n",
        "\n",
        "    \"\"\"\n",
        "    fig, ax = plt.subplots()\n",
        "    ax.scatter(y_test, pred_test, color=\"b\")\n",
        "    # ax.plot([y_test.min(),y_test.max()],[y_test.min(),y_test.max()],'k--',lw=4)\n",
        "    ax.set_xlabel(\"preds\")\n",
        "    ax.set_ylabel(\"y_test\")\n",
        "    ax.set_title(\"validate on pred\")\n",
        "    plt.show()\n",
        "\n",
        "\n",
        "# choose cutoff, sample popular data, randomly sample unpopular data, and combine the dfs\n",
        "def split_sample_combine(df, cutoff, col='fx popularity', rand=None):\n",
        "    # split out popular rows above the popularity cutoff\n",
        "    split_pop_df = df[df[col] >= cutoff].copy()\n",
        "\n",
        "    # get the leftover rows, the 'unpopular' songs\n",
        "    df_leftover = df[df[col] < cutoff].copy()\n",
        "\n",
        "    # what % of the original data do we now have?\n",
        "    ratio = split_pop_df.shape[0] / df.shape[0]\n",
        "    \n",
        "    # what % of leftover rows do we need?\n",
        "    ratio_leftover = split_pop_df.shape[0] / df_leftover.shape[0]\n",
        "\n",
        "    # get the exact # of unpopular rows needed, using a random sampler\n",
        "    unpop_df_leftover, unpop_df_to_add = train_test_split(df_leftover, \\\n",
        "                                                          test_size=ratio_leftover, \\\n",
        "                                                          random_state = rand)\n",
        "    \n",
        "    # combine the dataframes to get total rows = split_pop_df * 2\n",
        "    # ssc stands for \"split_sample_combine\"\n",
        "    ssc_df = split_pop_df.append(unpop_df_to_add).reset_index(drop=True)\n",
        "\n",
        "    # shuffle the df\n",
        "    ssc_df = ssc_df.sample(frac=1, random_state=rand).reset_index(drop=True)\n",
        "    \n",
        "    # add columns relating to popularity\n",
        "    ssc_df['pop_frac'] = ssc_df[col] / 100\n",
        "    ssc_df['pop_cat'] = np.where(ssc_df[col] > cutoff, \"Popular\", \"Not_Popular\")\n",
        "    ssc_df['pop_bin'] = np.where(ssc_df[col] > cutoff, 1, 0)\n",
        "    return ssc_df\n",
        "\n",
        "# initial linear regression function, and plots\n",
        "def linear_regression_initial(df,Y):\n",
        "    df = df.copy()\n",
        "    X_cols = df.columns.drop(Y)\n",
        "\n",
        "    y_col = [Y]\n",
        "\n",
        "    X = df[X_cols]\n",
        "    y = df[y_col]\n",
        "\n",
        "    X_train, X_test, y_train, y_test = train_test_split(X, y, test_size=0.2)\n",
        "\n",
        "    X_train = sm.add_constant(X_train)\n",
        "    # Instantiate OLS model, fit, predict, get errors\n",
        "    model = sm.OLS(y_train, X_train)\n",
        "    results = model.fit()\n",
        "    fitted_vals_train = results.predict(X_train)\n",
        "    stu_resid = results.resid_pearson\n",
        "    residuals = results.resid\n",
        "    y_vals = pd.DataFrame({'residuals':residuals, 'fitted_vals':fitted_vals_train, \\\n",
        "                            'stu_resid': stu_resid})\n",
        "\n",
        "    # Print the results\n",
        "    print(results.summary())\n",
        "\n",
        "    # QQ Plot\n",
        "    fig, ax = plt.subplots(figsize=(8, 5))\n",
        "    plt.title(f\"QQ Plot-{Y} Initial Linear Regression\")\n",
        "    fig = sm.qqplot(stu_resid, line='45', fit=True, ax=ax)\n",
        "    plt.show()\n",
        "\n",
        "    # validate pred\n",
        "    validation_plot(y_train, fitted_vals_train)\n",
        "\n",
        "    # Residuals Plot\n",
        "    y_vals.plot(kind='scatter', x='fitted_vals', y='stu_resid')\n",
        "    plt.title(f\"{Y} regression\")\n",
        "    plt.show()\n",
        "    return y_vals\n",
        "\n",
        "def lin_reg_forcast(df,Y,PARAMETERS = {\n",
        "        'max_depth':20,\n",
        "        'min_child_weight': 5,\n",
        "        'eta':.1,\n",
        "        'subsample': .7,\n",
        "        'colsample_bytree': .7,\n",
        "        'nthread':-1,\n",
        "        'objective':'reg:squarederror',\n",
        "        'eval_metric':'rmse'\n",
        "    }):\n",
        "    df = df.copy()\n",
        "    X_cols = df.columns.drop(Y)\n",
        "\n",
        "    y_col = [Y]\n",
        "\n",
        "    X = df[X_cols]\n",
        "    y = df[y_col]\n",
        "\n",
        "    X_train, X_test, y_train, y_test = train_test_split(X, y, test_size=0.2)\n",
        "    \n",
        "    dtrain = xgb.DMatrix(X_train, y_train,nthread=-1)\n",
        "    dtest = xgb.DMatrix(X_test, y_test,nthread=-1)\n",
        "\n",
        "    bst = xgb.train(\n",
        "        params=PARAMETERS,\n",
        "        dtrain=dtrain,\n",
        "        # num_boost_round=999,\n",
        "        # evals=[(dtest,\"Test\")],\n",
        "        # early_stopping_rounds=10,\n",
        "        )\n",
        "    pred_test = bst.predict(dtrain)\n",
        "    pred_leaf = bst.predict(dtrain,pred_leaf=True)\n",
        "    print(pred_leaf)\n",
        "    return pred_test\n",
        "\n",
        "# Create a basic logistic regression\n",
        "def basic_logistic_regression(df, cutoff,col='pop_bin', rand=0, sig_only=False):\n",
        "    df = df.copy()\n",
        "    X, y = return_X_y_logistic(split_sample_combine(df, cutoff,col, rand=rand))\n",
        "    X = standardize_X(X)\n",
        "    X_const = add_constant(X, prepend=True)\n",
        "    print(\"X_const\\n\",X_const)\n",
        "    print(\"Y\\n\",y)\n",
        "    \n",
        "    logit_model = Logit(y, X_const).fit(solver='lbfgs',skip_hessian=True,max_iter=20000)\n",
        "    \n",
        "    print(logit_model.summary())\n",
        "\n",
        "    return logit_model\n",
        "\n",
        "def logistic_regression_with_kfold(df, cutoff=2.682048, rand=0, sig_only=False):\n",
        "    df = df.copy()\n",
        "    \n",
        "    if sig_only == True:\n",
        "        X, y = return_X_y_logistic_sig_only(split_sample_combine(df, cutoff=cutoff, rand=rand))\n",
        "        X = standardize_X_sig_only(X)\n",
        "\n",
        "    else:\n",
        "        X, y = return_X_y_logistic(split_sample_combine(df, cutoff=cutoff, rand=rand))\n",
        "        X = standardize_X(X)\n",
        "\n",
        "    X = X.values\n",
        "    y = y.values.ravel()\n",
        "\n",
        "    classifier = LogisticRegression()\n",
        "\n",
        "    # before kFold\n",
        "    y_predict = classifier.fit(X, y).predict(X)\n",
        "    y_true = y\n",
        "    accuracy_score(y_true, y_predict)\n",
        "    print(f\"accuracy: {accuracy_score(y_true, y_predict)}\")\n",
        "    print(f\"precision: {precision_score(y_true, y_predict)}\")\n",
        "    print(f\"recall: {recall_score(y_true, y_predict)}\")\n",
        "    print(f\"The coefs are: {classifier.fit(X,y).coef_}\")\n",
        "\n",
        "    # with kfold\n",
        "    kfold = KFold(len(y))\n",
        "\n",
        "    accuracies = []\n",
        "    precisions = []\n",
        "    recalls = []\n",
        "\n",
        "    for train_index, test_index in kfold:\n",
        "        model = LogisticRegression()\n",
        "        model.fit(X[train_index], y[train_index])\n",
        "\n",
        "        y_predict = model.predict(X[test_index])\n",
        "        y_true = y[test_index]\n",
        "\n",
        "        accuracies.append(accuracy_score(y_true, y_predict))\n",
        "        precisions.append(precision_score(y_true, y_predict))\n",
        "        recalls.append(recall_score(y_true, y_predict))\n",
        "\n",
        "    print(f\"accuracy: {np.average(accuracies)}\")\n",
        "    print(f\"precision: {np.average(precisions)}\")\n",
        "    print(f\"recall: {np.average(recalls)}\")\n",
        "\n",
        "# various data standardization and X/y split functions for logisitic reression\n",
        "# based on the columns you want to standardize and return\n",
        "def return_X_y_logistic(df):\n",
        "    df = df.copy()\n",
        "\n",
        "    # define columns to use for each\n",
        "    X_cols = ['fx followers','fx listeners','fx ratio','pop_frac']\n",
        "\n",
        "    # use 1's and 0's for logistic\n",
        "    y_col = 'pop_bin'\n",
        "\n",
        "    # split into X and y\n",
        "    X = df[X_cols]\n",
        "    y = df[y_col]\n",
        "\n",
        "    return X, y\n",
        "\n",
        "def standardize_X(X):  \n",
        "    X = X.copy()\n",
        "    \n",
        "    # standardize only columns not between 0 and 1\n",
        "    for col in ['fx followers','fx listeners','fx ratio','fx popularity','pop_frac']:\n",
        "        new_col_name = col + \"_std\"\n",
        "        X[new_col_name] = (X[col] - X[col].mean()) / X[col].std()\n",
        "        \n",
        "    X_cols = ['fx followers_std','fx popularity_std','fx listeners_std','fx ratio_std','pop_frac_std']\n",
        "\n",
        "    # return the std columns in a dataframe\n",
        "    X = X[X_cols]\n",
        "    \n",
        "    return X\n",
        "\n",
        "\n",
        "\n"
      ],
      "execution_count": 57,
      "outputs": []
    },
    {
      "cell_type": "markdown",
      "metadata": {
        "id": "M2-RF9Iy8kti"
      },
      "source": [
        "# Chartmetric Data Exploratory Analysis\n",
        "\n",
        "### Metric Index\n",
        "\n",
        "[Followers](https://artists.spotify.com/faq/stats#who-are-followers)\n",
        "\n",
        "[Monthly Listeners](https://artists.spotify.com/faq/stats#who-are-monthly-listeners)\n",
        "\n",
        "**Popularity** --- The \"popularity\" of the artist. The value will be between 0 and 100, with 100 being the most popular. The metric is calculated by an algorithm, and is based on the number of listens/plays the artist receives and weighted by how recent those plays are.\n",
        "\n",
        "[Further Metric Explanation]( https://nnnehasingh15.medium.com/spotify-monthly-listeners-and-spotify-streams-explained-ba3752e9b872)\n",
        "\n",
        "### Objective\n",
        "Create new metric(artist score) off of popularity, followers, listeners <- these 3 variables for now\n",
        "Then deploy adhoc dashboard(UI)\n",
        "- with plot metrics\n",
        "- anything now is to be barebones for minimal viable product\n",
        "- proof of concept first <- small easy project, easy money\n",
        "\n",
        "### Methods to Explore\n",
        "- forcasting followers and listeners over 6 month regression\n",
        "    - *Optional Cutoff*\n",
        "        - followers lower than 10000\n",
        "        - listeners lower than 100000\n",
        "        - popularity cut off, below 40\n",
        "- Simple Logistic regression on relevant non relevant artists [(having issues to converge after 35 iteration)](https://stackoverflow.com/questions/52670012/convergencewarning-liblinear-failed-to-converge-increase-the-number-of-iterati)\n",
        "- heuristics weighted time series on axis of average and aggregate\n",
        "- aggregate difference of metrics divided by mean\n",
        "- Principle Component regression and clustering to see which artists are in relevant cluster and which arn't\n",
        "- rich regression\n",
        "- elastic net (try unsupervised techniques)\n",
        "\n",
        "\n"
      ]
    },
    {
      "cell_type": "markdown",
      "metadata": {
        "id": "ZybxhQZHBxma"
      },
      "source": [
        "### References\n",
        "- [Build predictive Business Intelligence with Google Colab, Google Data Studio and Google Sheets](https://towardsdatascience.com/build-predictive-business-intelligence-with-google-colab-google-data-studio-and-google-sheets-9a5c1559124f)\n",
        "- [How to Import and Export Datasets in Google Colab](https://towardsdatascience.com/google-colab-import-and-export-datasets-eccf801e2971)\n",
        "- [Colab and Google Sheets -- Surprisingly Powerful Combination for Data Science](https://medium.com/analytics-vidhya/colab-and-google-sheets-surprisingly-powerful-combination-for-data-science-part-1-bbbb11cbd8e)\n",
        "- [ MattD82 /\n",
        "Predicting-Spotify-Song-Popularity ](https://github.com/MattD82/Predicting-Spotify-Song-Popularity)\n",
        "    - [On Kaggle](https://www.kaggle.com/tomigelo/spotify-audio-features?select=SpotifyAudioFeaturesApril2019.csv)"
      ]
    },
    {
      "cell_type": "markdown",
      "metadata": {
        "id": "na_clS3ZD5U0"
      },
      "source": [
        "### Clean data"
      ]
    },
    {
      "cell_type": "code",
      "metadata": {
        "colab": {
          "base_uri": "https://localhost:8080/"
        },
        "id": "wJjHmECXKFJ9",
        "outputId": "bd6005d0-4687-4a98-9742-e2284b6f78fe"
      },
      "source": [
        "# data clean\n",
        "df = load_data()  \n",
        "set_view_options(max_cols=50, max_rows=50, max_colwidth=40, dis_width=250)\n",
        "duplicated = True in df.columns.duplicated()\n",
        "print(f\"duplicate columns: {duplicated}\\n\")\n",
        "df = rename_columns(df)\n",
        "grp,cr,cr_std,cr_norm,cr_stdnorm = group_time(df)\n",
        "grp.to_csv(\"grouped.csv\")\n",
        "cr.to_csv(\"change_rate.csv\")\n",
        "cr_std.to_csv(\"change_rate_standardized.csv\")\n",
        "cr_norm.to_csv(\"change_rate_normalized.csv\")\n",
        "cr_stdnorm.to_csv(\"change_rate_standardized.csv\")"
      ],
      "execution_count": 58,
      "outputs": [
        {
          "output_type": "stream",
          "text": [
            "duplicate columns: False\n",
            "\n"
          ],
          "name": "stdout"
        },
        {
          "output_type": "stream",
          "text": [
            "/usr/local/lib/python3.6/dist-packages/pandas/core/indexes/base.py:4114: FutureWarning: Using a non-tuple sequence for multidimensional indexing is deprecated; use `arr[tuple(seq)]` instead of `arr[seq]`. In the future this will be interpreted as an array index, `arr[np.array(seq)]`, which will result either in an error or a different result.\n",
            "  result = getitem(key)\n"
          ],
          "name": "stderr"
        }
      ]
    },
    {
      "cell_type": "markdown",
      "metadata": {
        "id": "24p6q_9iECyT"
      },
      "source": [
        "### Unique artist difference df"
      ]
    },
    {
      "cell_type": "code",
      "metadata": {
        "id": "7rINcx0omik0"
      },
      "source": [
        "artist_diff = artist_diff_metric(df)\n",
        "artist_diff.to_csv(\"artist_diff.csv\")\n",
        "artist_diff.head()"
      ],
      "execution_count": 59,
      "outputs": []
    },
    {
      "cell_type": "markdown",
      "metadata": {
        "id": "mrEapBJEER5X"
      },
      "source": [
        "### Prelim Insights"
      ]
    },
    {
      "cell_type": "markdown",
      "metadata": {
        "id": "0bYJxl0oJAqf"
      },
      "source": [
        "#### Artist Unique monthly, weekly differences"
      ]
    },
    {
      "cell_type": "code",
      "metadata": {
        "id": "erP_RlgaQqYQ",
        "colab": {
          "base_uri": "https://localhost:8080/",
          "height": 1000
        },
        "outputId": "896d7a16-c7dc-4276-aa1c-067e4419b1dd"
      },
      "source": [
        "get_df_info(artist_diff)# FIX FILLNA"
      ],
      "execution_count": 81,
      "outputs": [
        {
          "output_type": "stream",
          "text": [
            "Index                                                  12296\n",
            "followers weekly_diff                                   2056\n",
            "followers weekly_diff_percent                           2056\n",
            "followers monthly_diff                                  2056\n",
            "followers monthly_diff_percent                          2056\n",
            "popularity weekly_diff.1                                2056\n",
            "popularity weekly_diff_percent.1                        2056\n",
            "popularity monthly_diff.1                               2056\n",
            "popularity monthly_diff_percent.1                       2056\n",
            "listeners weekly_diff.2                                 2056\n",
            "listeners weekly_diff_percent.2                         2056\n",
            "listeners monthly_diff.2                                2056\n",
            "listeners monthly_diff_percent.2                        2056\n",
            "followers_to_listeners_ratio                            2056\n",
            "followers_to_listeners_ratio weekly_diff.3              2056\n",
            "followers_to_listeners_ratio weekly_diff_percent.3      2056\n",
            "followers_to_listeners_ratio monthly_diff.3             2056\n",
            "followers_to_listeners_ratio monthly_diff_percent.3     2056\n",
            "dtype: int64 \n",
            "\n",
            "                followers weekly_diff  followers weekly_diff_percent  followers monthly_diff  followers monthly_diff_percent  popularity weekly_diff.1  popularity weekly_diff_percent.1  popularity monthly_diff.1  popularity monthly_diff_percent.1  \\\n",
            "Chartmetric_ID                                                                                                                                                                                                                                           \n",
            "20syl                           229.0                         0.2300                   844.0                          0.8528                       0.0                               0.0                        0.0                              0.000   \n",
            "21 Savage                     21294.0                         0.2467                 60223.0                          0.7008                       0.0                               0.0                       -1.0                             -1.087   \n",
            "3 Um Só                         919.0                         0.4898                  3979.0                          2.1559                       0.0                               0.0                        0.0                              0.000   \n",
            "311                            2006.0                         0.3026                  8028.0                          1.2223                       0.0                               0.0                        0.0                              0.000   \n",
            "4Minute                        2497.0                         0.3009                 10040.0                          1.2208                       0.0                               0.0                        0.0                              0.000   \n",
            "\n",
            "                listeners weekly_diff.2  listeners weekly_diff_percent.2  listeners monthly_diff.2  listeners monthly_diff_percent.2  followers_to_listeners_ratio  followers_to_listeners_ratio weekly_diff.3  \\\n",
            "Chartmetric_ID                                                                                                                                                                                                   \n",
            "20syl                               2.0                           0.0005                  -10314.0                           -2.7009  followers_to_listeners_ratio                                 0.000614      \n",
            "21 Savage                    -1117492.0                          -5.0836                  755915.0                            3.7591  followers_to_listeners_ratio                                 0.022052      \n",
            "3 Um Só                          -877.0                          -1.4909                   -5141.0                           -8.1489  followers_to_listeners_ratio                                 0.064132      \n",
            "311                            -57382.0                          -2.6298                 -103150.0                           -4.6303  followers_to_listeners_ratio                                 0.009149      \n",
            "4Minute                         -4480.0                          -0.8333                  -20107.0                           -3.6342  followers_to_listeners_ratio                                 0.017655      \n",
            "\n",
            "                followers_to_listeners_ratio weekly_diff_percent.3  followers_to_listeners_ratio monthly_diff.3  followers_to_listeners_ratio monthly_diff_percent.3  \n",
            "Chartmetric_ID                                                                                                                                                        \n",
            "20syl                                          0.229106                                            0.009464                                     3.651967              \n",
            "21 Savage                                      5.615783                                           -0.012595                                    -2.947398              \n",
            "3 Um Só                                        2.010682                                            0.328212                                    11.219063              \n",
            "311                                            3.011749                                            0.018093                                     6.136694              \n",
            "4Minute                                        1.143680                                            0.074890                                     5.038124               \n",
            "\n",
            "The columns are:\n",
            "Index(['followers weekly_diff', 'followers weekly_diff_percent', 'followers monthly_diff', 'followers monthly_diff_percent', 'popularity weekly_diff.1', 'popularity weekly_diff_percent.1', 'popularity monthly_diff.1',\n",
            "       'popularity monthly_diff_percent.1', 'listeners weekly_diff.2', 'listeners weekly_diff_percent.2', 'listeners monthly_diff.2', 'listeners monthly_diff_percent.2', 'followers_to_listeners_ratio', 'followers_to_listeners_ratio weekly_diff.3',\n",
            "       'followers_to_listeners_ratio weekly_diff_percent.3', 'followers_to_listeners_ratio monthly_diff.3', 'followers_to_listeners_ratio monthly_diff_percent.3'],\n",
            "      dtype='object') \n",
            "\n",
            "<class 'pandas.core.frame.DataFrame'>\n",
            "Index: 257 entries, 20syl to mombasa\n",
            "Data columns (total 17 columns):\n",
            " #   Column                                               Non-Null Count  Dtype  \n",
            "---  ------                                               --------------  -----  \n",
            " 0   followers weekly_diff                                238 non-null    float64\n",
            " 1   followers weekly_diff_percent                        238 non-null    float64\n",
            " 2   followers monthly_diff                               238 non-null    float64\n",
            " 3   followers monthly_diff_percent                       238 non-null    float64\n",
            " 4   popularity weekly_diff.1                             238 non-null    float64\n",
            " 5   popularity weekly_diff_percent.1                     215 non-null    float64\n",
            " 6   popularity monthly_diff.1                            238 non-null    float64\n",
            " 7   popularity monthly_diff_percent.1                    216 non-null    float64\n",
            " 8   listeners weekly_diff.2                              230 non-null    float64\n",
            " 9   listeners weekly_diff_percent.2                      230 non-null    float64\n",
            " 10  listeners monthly_diff.2                             231 non-null    float64\n",
            " 11  listeners monthly_diff_percent.2                     231 non-null    float64\n",
            " 12  followers_to_listeners_ratio                         249 non-null    object \n",
            " 13  followers_to_listeners_ratio weekly_diff.3           234 non-null    float64\n",
            " 14  followers_to_listeners_ratio weekly_diff_percent.3   230 non-null    float64\n",
            " 15  followers_to_listeners_ratio monthly_diff.3          234 non-null    float64\n",
            " 16  followers_to_listeners_ratio monthly_diff_percent.3  231 non-null    float64\n",
            "dtypes: float64(16), object(1)\n",
            "memory usage: 46.1+ KB\n",
            "None \n",
            "\n",
            "Do we have any nulls?\n",
            "Looks like we have 410 nulls\n",
            "\n"
          ],
          "name": "stdout"
        },
        {
          "output_type": "execute_result",
          "data": {
            "text/html": [
              "<div>\n",
              "<style scoped>\n",
              "    .dataframe tbody tr th:only-of-type {\n",
              "        vertical-align: middle;\n",
              "    }\n",
              "\n",
              "    .dataframe tbody tr th {\n",
              "        vertical-align: top;\n",
              "    }\n",
              "\n",
              "    .dataframe thead th {\n",
              "        text-align: right;\n",
              "    }\n",
              "</style>\n",
              "<table border=\"1\" class=\"dataframe\">\n",
              "  <thead>\n",
              "    <tr style=\"text-align: right;\">\n",
              "      <th></th>\n",
              "      <th>min</th>\n",
              "      <th>max</th>\n",
              "      <th>median</th>\n",
              "      <th>mean</th>\n",
              "      <th>skew</th>\n",
              "    </tr>\n",
              "  </thead>\n",
              "  <tbody>\n",
              "    <tr>\n",
              "      <th>followers weekly_diff_percent</th>\n",
              "      <td>-4.220000e-02</td>\n",
              "      <td>2.525300e+00</td>\n",
              "      <td>0.257300</td>\n",
              "      <td>0.334889</td>\n",
              "      <td>2.663358</td>\n",
              "    </tr>\n",
              "    <tr>\n",
              "      <th>followers monthly_diff</th>\n",
              "      <td>-9.000000e+00</td>\n",
              "      <td>1.498370e+05</td>\n",
              "      <td>174.000000</td>\n",
              "      <td>5328.680672</td>\n",
              "      <td>5.443382</td>\n",
              "    </tr>\n",
              "    <tr>\n",
              "      <th>followers monthly_diff_percent</th>\n",
              "      <td>-5.555600e+00</td>\n",
              "      <td>1.578950e+01</td>\n",
              "      <td>1.136250</td>\n",
              "      <td>1.499845</td>\n",
              "      <td>3.475007</td>\n",
              "    </tr>\n",
              "    <tr>\n",
              "      <th>popularity weekly_diff.1</th>\n",
              "      <td>-2.000000e+00</td>\n",
              "      <td>1.000000e+00</td>\n",
              "      <td>0.000000</td>\n",
              "      <td>0.109244</td>\n",
              "      <td>0.999105</td>\n",
              "    </tr>\n",
              "    <tr>\n",
              "      <th>popularity weekly_diff_percent.1</th>\n",
              "      <td>-8.333300e+00</td>\n",
              "      <td>8.333300e+00</td>\n",
              "      <td>0.000000</td>\n",
              "      <td>0.238720</td>\n",
              "      <td>0.785081</td>\n",
              "    </tr>\n",
              "    <tr>\n",
              "      <th>popularity monthly_diff.1</th>\n",
              "      <td>-3.000000e+00</td>\n",
              "      <td>1.200000e+01</td>\n",
              "      <td>0.000000</td>\n",
              "      <td>0.319328</td>\n",
              "      <td>5.365167</td>\n",
              "    </tr>\n",
              "    <tr>\n",
              "      <th>listeners weekly_diff.2</th>\n",
              "      <td>-1.117492e+06</td>\n",
              "      <td>1.203116e+06</td>\n",
              "      <td>-41.000000</td>\n",
              "      <td>-9826.352174</td>\n",
              "      <td>0.717721</td>\n",
              "    </tr>\n",
              "    <tr>\n",
              "      <th>listeners weekly_diff_percent.2</th>\n",
              "      <td>-2.500000e+01</td>\n",
              "      <td>3.846150e+01</td>\n",
              "      <td>-0.701050</td>\n",
              "      <td>0.110351</td>\n",
              "      <td>2.808770</td>\n",
              "    </tr>\n",
              "    <tr>\n",
              "      <th>listeners monthly_diff.2</th>\n",
              "      <td>-2.026390e+06</td>\n",
              "      <td>2.611250e+06</td>\n",
              "      <td>-55.000000</td>\n",
              "      <td>7587.008658</td>\n",
              "      <td>2.873713</td>\n",
              "    </tr>\n",
              "    <tr>\n",
              "      <th>listeners monthly_diff_percent.2</th>\n",
              "      <td>-6.836100e+01</td>\n",
              "      <td>2.756009e+03</td>\n",
              "      <td>-2.443900</td>\n",
              "      <td>12.027115</td>\n",
              "      <td>14.902137</td>\n",
              "    </tr>\n",
              "    <tr>\n",
              "      <th>followers_to_listeners_ratio weekly_diff.3</th>\n",
              "      <td>-9.529624e+00</td>\n",
              "      <td>4.258333e+00</td>\n",
              "      <td>0.002321</td>\n",
              "      <td>-0.025369</td>\n",
              "      <td>-9.629965</td>\n",
              "    </tr>\n",
              "    <tr>\n",
              "      <th>followers_to_listeners_ratio monthly_diff.3</th>\n",
              "      <td>-1.100700e+01</td>\n",
              "      <td>1.537667e+01</td>\n",
              "      <td>0.006926</td>\n",
              "      <td>0.006407</td>\n",
              "      <td>4.498281</td>\n",
              "    </tr>\n",
              "    <tr>\n",
              "      <th>followers_to_listeners_ratio monthly_diff_percent.3</th>\n",
              "      <td>-9.020657e+01</td>\n",
              "      <td>2.183386e+02</td>\n",
              "      <td>3.732072</td>\n",
              "      <td>4.810084</td>\n",
              "      <td>4.160861</td>\n",
              "    </tr>\n",
              "  </tbody>\n",
              "</table>\n",
              "</div>"
            ],
            "text/plain": [
              "                                                   min           max      median         mean       skew\n",
              "followers weekly_diff_percent            -4.220000e-02  2.525300e+00    0.257300     0.334889   2.663358\n",
              "followers monthly_diff                   -9.000000e+00  1.498370e+05  174.000000  5328.680672   5.443382\n",
              "followers monthly_diff_percent           -5.555600e+00  1.578950e+01    1.136250     1.499845   3.475007\n",
              "popularity weekly_diff.1                 -2.000000e+00  1.000000e+00    0.000000     0.109244   0.999105\n",
              "popularity weekly_diff_percent.1         -8.333300e+00  8.333300e+00    0.000000     0.238720   0.785081\n",
              "popularity monthly_diff.1                -3.000000e+00  1.200000e+01    0.000000     0.319328   5.365167\n",
              "listeners weekly_diff.2                  -1.117492e+06  1.203116e+06  -41.000000 -9826.352174   0.717721\n",
              "listeners weekly_diff_percent.2          -2.500000e+01  3.846150e+01   -0.701050     0.110351   2.808770\n",
              "listeners monthly_diff.2                 -2.026390e+06  2.611250e+06  -55.000000  7587.008658   2.873713\n",
              "listeners monthly_diff_percent.2         -6.836100e+01  2.756009e+03   -2.443900    12.027115  14.902137\n",
              "followers_to_listeners_ratio weekly_d... -9.529624e+00  4.258333e+00    0.002321    -0.025369  -9.629965\n",
              "followers_to_listeners_ratio monthly_... -1.100700e+01  1.537667e+01    0.006926     0.006407   4.498281\n",
              "followers_to_listeners_ratio monthly_... -9.020657e+01  2.183386e+02    3.732072     4.810084   4.160861"
            ]
          },
          "metadata": {
            "tags": []
          },
          "execution_count": 81
        }
      ]
    },
    {
      "cell_type": "markdown",
      "metadata": {
        "id": "MIX6fsXPJJyB"
      },
      "source": [
        "#### Change Rate Standardized"
      ]
    },
    {
      "cell_type": "code",
      "metadata": {
        "id": "-TUtBnuO_8ZZ",
        "colab": {
          "base_uri": "https://localhost:8080/",
          "height": 776
        },
        "outputId": "8819073b-70e1-4de6-93be-b84a4ed418ce"
      },
      "source": [
        "get_df_info(cr_std) # FIX FILLNA"
      ],
      "execution_count": 82,
      "outputs": [
        {
          "output_type": "stream",
          "text": [
            "Index            6344\n",
            "fx followers     1224\n",
            "fx popularity    1224\n",
            "fx listeners     1224\n",
            "fx ratio         1224\n",
            "dtype: int64 \n",
            "\n",
            "                          fx followers  fx popularity  fx listeners  fx ratio\n",
            "time series                                                                  \n",
            "2020-01-02T00:00:00.000Z           NaN            NaN           NaN       NaN\n",
            "2020-01-04T00:00:00.000Z      1.281164       2.331276      2.098025 -0.513887\n",
            "2020-01-08T00:00:00.000Z     -0.369903      -0.508622     -0.379410  3.263469\n",
            "2020-01-10T00:00:00.000Z      1.283420       2.377945      2.162986 -0.514081\n",
            "2020-01-14T00:00:00.000Z     -0.369903      -0.508733     -0.379410  3.171591 \n",
            "\n",
            "The columns are:\n",
            "Index(['fx followers', 'fx popularity', 'fx listeners', 'fx ratio'], dtype='object') \n",
            "\n",
            "<class 'pandas.core.frame.DataFrame'>\n",
            "Index: 153 entries, 2020-01-02T00:00:00.000Z to 2020-01-19T00:00:00.000Z\n",
            "Data columns (total 4 columns):\n",
            " #   Column         Non-Null Count  Dtype  \n",
            "---  ------         --------------  -----  \n",
            " 0   fx followers   152 non-null    float64\n",
            " 1   fx popularity  152 non-null    float64\n",
            " 2   fx listeners   152 non-null    float64\n",
            " 3   fx ratio       152 non-null    float64\n",
            "dtypes: float64(4)\n",
            "memory usage: 11.0+ KB\n",
            "None \n",
            "\n",
            "Do we have any nulls?\n",
            "Looks like we have 4 nulls\n",
            "\n"
          ],
          "name": "stdout"
        },
        {
          "output_type": "execute_result",
          "data": {
            "text/html": [
              "<div>\n",
              "<style scoped>\n",
              "    .dataframe tbody tr th:only-of-type {\n",
              "        vertical-align: middle;\n",
              "    }\n",
              "\n",
              "    .dataframe tbody tr th {\n",
              "        vertical-align: top;\n",
              "    }\n",
              "\n",
              "    .dataframe thead th {\n",
              "        text-align: right;\n",
              "    }\n",
              "</style>\n",
              "<table border=\"1\" class=\"dataframe\">\n",
              "  <thead>\n",
              "    <tr style=\"text-align: right;\">\n",
              "      <th></th>\n",
              "      <th>min</th>\n",
              "      <th>max</th>\n",
              "      <th>median</th>\n",
              "      <th>mean</th>\n",
              "      <th>skew</th>\n",
              "    </tr>\n",
              "  </thead>\n",
              "  <tbody>\n",
              "    <tr>\n",
              "      <th>fx popularity</th>\n",
              "      <td>-0.511329</td>\n",
              "      <td>4.104682</td>\n",
              "      <td>-0.375502</td>\n",
              "      <td>1.234393e-16</td>\n",
              "      <td>2.279031</td>\n",
              "    </tr>\n",
              "    <tr>\n",
              "      <th>fx listeners</th>\n",
              "      <td>-0.379410</td>\n",
              "      <td>3.802911</td>\n",
              "      <td>-0.379088</td>\n",
              "      <td>-8.107550e-17</td>\n",
              "      <td>2.441516</td>\n",
              "    </tr>\n",
              "    <tr>\n",
              "      <th>fx ratio</th>\n",
              "      <td>-0.515257</td>\n",
              "      <td>3.382224</td>\n",
              "      <td>-0.350564</td>\n",
              "      <td>0.000000e+00</td>\n",
              "      <td>2.561216</td>\n",
              "    </tr>\n",
              "  </tbody>\n",
              "</table>\n",
              "</div>"
            ],
            "text/plain": [
              "                    min       max    median          mean      skew\n",
              "fx popularity -0.511329  4.104682 -0.375502  1.234393e-16  2.279031\n",
              "fx listeners  -0.379410  3.802911 -0.379088 -8.107550e-17  2.441516\n",
              "fx ratio      -0.515257  3.382224 -0.350564  0.000000e+00  2.561216"
            ]
          },
          "metadata": {
            "tags": []
          },
          "execution_count": 82
        }
      ]
    },
    {
      "cell_type": "markdown",
      "metadata": {
        "id": "ZjctZT3uJPUV"
      },
      "source": [
        "#### Change Rate Normalized"
      ]
    },
    {
      "cell_type": "code",
      "metadata": {
        "id": "yqaM_eqNAB1d",
        "colab": {
          "base_uri": "https://localhost:8080/",
          "height": 776
        },
        "outputId": "88b77ed5-eab0-4515-a133-339e0595bb8a"
      },
      "source": [
        "get_df_info(cr_norm) # FIX FILLNA"
      ],
      "execution_count": 83,
      "outputs": [
        {
          "output_type": "stream",
          "text": [
            "Index            6344\n",
            "fx followers     1224\n",
            "fx popularity    1224\n",
            "fx listeners     1224\n",
            "fx ratio         1224\n",
            "dtype: int64 \n",
            "\n",
            "                          fx followers  fx popularity  fx listeners  fx ratio\n",
            "time series                                                                  \n",
            "2020-01-02T00:00:00.000Z           NaN            NaN           NaN       NaN\n",
            "2020-01-04T00:00:00.000Z      0.410420       0.615814  5.923591e-01  0.000351\n",
            "2020-01-08T00:00:00.000Z      0.000002       0.000586  3.908557e-09  0.969530\n",
            "2020-01-10T00:00:00.000Z      0.410981       0.625924  6.078912e-01  0.000302\n",
            "2020-01-14T00:00:00.000Z      0.000002       0.000562  4.123417e-09  0.945957 \n",
            "\n",
            "The columns are:\n",
            "Index(['fx followers', 'fx popularity', 'fx listeners', 'fx ratio'], dtype='object') \n",
            "\n",
            "<class 'pandas.core.frame.DataFrame'>\n",
            "Index: 153 entries, 2020-01-02T00:00:00.000Z to 2020-01-19T00:00:00.000Z\n",
            "Data columns (total 4 columns):\n",
            " #   Column         Non-Null Count  Dtype  \n",
            "---  ------         --------------  -----  \n",
            " 0   fx followers   152 non-null    float64\n",
            " 1   fx popularity  152 non-null    float64\n",
            " 2   fx listeners   152 non-null    float64\n",
            " 3   fx ratio       152 non-null    float64\n",
            "dtypes: float64(4)\n",
            "memory usage: 11.0+ KB\n",
            "None \n",
            "\n",
            "Do we have any nulls?\n",
            "Looks like we have 4 nulls\n",
            "\n"
          ],
          "name": "stdout"
        },
        {
          "output_type": "execute_result",
          "data": {
            "text/html": [
              "<div>\n",
              "<style scoped>\n",
              "    .dataframe tbody tr th:only-of-type {\n",
              "        vertical-align: middle;\n",
              "    }\n",
              "\n",
              "    .dataframe tbody tr th {\n",
              "        vertical-align: top;\n",
              "    }\n",
              "\n",
              "    .dataframe thead th {\n",
              "        text-align: right;\n",
              "    }\n",
              "</style>\n",
              "<table border=\"1\" class=\"dataframe\">\n",
              "  <thead>\n",
              "    <tr style=\"text-align: right;\">\n",
              "      <th></th>\n",
              "      <th>min</th>\n",
              "      <th>max</th>\n",
              "      <th>median</th>\n",
              "      <th>mean</th>\n",
              "      <th>skew</th>\n",
              "    </tr>\n",
              "  </thead>\n",
              "  <tbody>\n",
              "    <tr>\n",
              "      <th>fx popularity</th>\n",
              "      <td>0.0</td>\n",
              "      <td>1.0</td>\n",
              "      <td>0.029425</td>\n",
              "      <td>0.110773</td>\n",
              "      <td>2.279031</td>\n",
              "    </tr>\n",
              "    <tr>\n",
              "      <th>fx listeners</th>\n",
              "      <td>0.0</td>\n",
              "      <td>1.0</td>\n",
              "      <td>0.000077</td>\n",
              "      <td>0.090718</td>\n",
              "      <td>2.441516</td>\n",
              "    </tr>\n",
              "    <tr>\n",
              "      <th>fx ratio</th>\n",
              "      <td>0.0</td>\n",
              "      <td>1.0</td>\n",
              "      <td>0.042256</td>\n",
              "      <td>0.132202</td>\n",
              "      <td>2.561216</td>\n",
              "    </tr>\n",
              "  </tbody>\n",
              "</table>\n",
              "</div>"
            ],
            "text/plain": [
              "               min  max    median      mean      skew\n",
              "fx popularity  0.0  1.0  0.029425  0.110773  2.279031\n",
              "fx listeners   0.0  1.0  0.000077  0.090718  2.441516\n",
              "fx ratio       0.0  1.0  0.042256  0.132202  2.561216"
            ]
          },
          "metadata": {
            "tags": []
          },
          "execution_count": 83
        }
      ]
    },
    {
      "cell_type": "markdown",
      "metadata": {
        "id": "B-0apiGTJTsz"
      },
      "source": [
        "#### Change Rate Standardized then Normalized because"
      ]
    },
    {
      "cell_type": "code",
      "metadata": {
        "id": "eJye8EdIAHwD",
        "colab": {
          "base_uri": "https://localhost:8080/",
          "height": 0
        },
        "outputId": "919aec89-f5dd-4027-cb12-44a07be0d835"
      },
      "source": [
        "\n",
        "get_df_info(cr_stdnorm)"
      ],
      "execution_count": 84,
      "outputs": [
        {
          "output_type": "stream",
          "text": [
            "Index             128\n",
            "fx followers     1224\n",
            "fx popularity    1224\n",
            "fx listeners     1224\n",
            "fx ratio         1224\n",
            "dtype: int64 \n",
            "\n",
            "   fx followers  fx popularity  fx listeners  fx ratio\n",
            "0           NaN            NaN           NaN       NaN\n",
            "1      0.410420       0.615814  5.923591e-01  0.000351\n",
            "2      0.000002       0.000586  3.908557e-09  0.969530\n",
            "3      0.410981       0.625924  6.078912e-01  0.000302\n",
            "4      0.000002       0.000562  4.123417e-09  0.945957 \n",
            "\n",
            "The columns are:\n",
            "Index(['fx followers', 'fx popularity', 'fx listeners', 'fx ratio'], dtype='object') \n",
            "\n",
            "<class 'pandas.core.frame.DataFrame'>\n",
            "RangeIndex: 153 entries, 0 to 152\n",
            "Data columns (total 4 columns):\n",
            " #   Column         Non-Null Count  Dtype  \n",
            "---  ------         --------------  -----  \n",
            " 0   fx followers   152 non-null    float64\n",
            " 1   fx popularity  152 non-null    float64\n",
            " 2   fx listeners   152 non-null    float64\n",
            " 3   fx ratio       152 non-null    float64\n",
            "dtypes: float64(4)\n",
            "memory usage: 4.9 KB\n",
            "None \n",
            "\n",
            "Do we have any nulls?\n",
            "Looks like we have 4 nulls\n",
            "\n"
          ],
          "name": "stdout"
        },
        {
          "output_type": "execute_result",
          "data": {
            "text/html": [
              "<div>\n",
              "<style scoped>\n",
              "    .dataframe tbody tr th:only-of-type {\n",
              "        vertical-align: middle;\n",
              "    }\n",
              "\n",
              "    .dataframe tbody tr th {\n",
              "        vertical-align: top;\n",
              "    }\n",
              "\n",
              "    .dataframe thead th {\n",
              "        text-align: right;\n",
              "    }\n",
              "</style>\n",
              "<table border=\"1\" class=\"dataframe\">\n",
              "  <thead>\n",
              "    <tr style=\"text-align: right;\">\n",
              "      <th></th>\n",
              "      <th>min</th>\n",
              "      <th>max</th>\n",
              "      <th>median</th>\n",
              "      <th>mean</th>\n",
              "      <th>skew</th>\n",
              "    </tr>\n",
              "  </thead>\n",
              "  <tbody>\n",
              "    <tr>\n",
              "      <th>fx popularity</th>\n",
              "      <td>0.0</td>\n",
              "      <td>1.0</td>\n",
              "      <td>0.029425</td>\n",
              "      <td>0.110773</td>\n",
              "      <td>2.279031</td>\n",
              "    </tr>\n",
              "    <tr>\n",
              "      <th>fx listeners</th>\n",
              "      <td>0.0</td>\n",
              "      <td>1.0</td>\n",
              "      <td>0.000077</td>\n",
              "      <td>0.090718</td>\n",
              "      <td>2.441516</td>\n",
              "    </tr>\n",
              "    <tr>\n",
              "      <th>fx ratio</th>\n",
              "      <td>0.0</td>\n",
              "      <td>1.0</td>\n",
              "      <td>0.042256</td>\n",
              "      <td>0.132202</td>\n",
              "      <td>2.561216</td>\n",
              "    </tr>\n",
              "  </tbody>\n",
              "</table>\n",
              "</div>"
            ],
            "text/plain": [
              "               min  max    median      mean      skew\n",
              "fx popularity  0.0  1.0  0.029425  0.110773  2.279031\n",
              "fx listeners   0.0  1.0  0.000077  0.090718  2.441516\n",
              "fx ratio       0.0  1.0  0.042256  0.132202  2.561216"
            ]
          },
          "metadata": {
            "tags": []
          },
          "execution_count": 84
        }
      ]
    },
    {
      "cell_type": "markdown",
      "metadata": {
        "id": "X0n2hhpmJYK1"
      },
      "source": [
        "#### Group by Chartmetric ID and then Timeseries. \n",
        "- Did ffill for nans"
      ]
    },
    {
      "cell_type": "code",
      "metadata": {
        "id": "l5n9oBNEAN_8",
        "colab": {
          "base_uri": "https://localhost:8080/",
          "height": 845
        },
        "outputId": "045d5d3e-4d67-4d54-c9e7-efeded634837"
      },
      "source": [
        "get_df_info(grp)"
      ],
      "execution_count": 85,
      "outputs": [
        {
          "output_type": "stream",
          "text": [
            "Index                                   6344\n",
            "Chartmetric_ID                          1224\n",
            "followers value                         1224\n",
            "popularity value.1                      1224\n",
            "listeners value.2                       1224\n",
            "followers_to_listeners_ratio value.3    1224\n",
            "dtype: int64 \n",
            "\n",
            "                         Chartmetric_ID  followers value  popularity value.1  listeners value.2  followers_to_listeners_ratio value.3\n",
            "followers timestp                                                                                                                    \n",
            "2020-01-01T00:00:00.000Z       Lyrycyst            509.0                 3.0              190.0                                267.89\n",
            "2020-01-02T00:00:00.000Z     Sam & Dave         180028.0                61.0          1462956.0                                 12.31\n",
            "2020-01-03T00:00:00.000Z       Lyrycyst            509.0                 3.0              187.0                                272.19\n",
            "2020-01-04T00:00:00.000Z     Sam & Dave         180274.0                62.0          1477611.0                                 12.20\n",
            "2020-01-05T00:00:00.000Z       Lyrycyst            508.0                 3.0              193.0                                263.21 \n",
            "\n",
            "The columns are:\n",
            "Index(['Chartmetric_ID', 'followers value', 'popularity value.1', 'listeners value.2', 'followers_to_listeners_ratio value.3'], dtype='object') \n",
            "\n",
            "<class 'pandas.core.frame.DataFrame'>\n",
            "Index: 153 entries, 2020-01-01T00:00:00.000Z to 2020-06-01T00:00:00.000Z\n",
            "Data columns (total 5 columns):\n",
            " #   Column                                Non-Null Count  Dtype  \n",
            "---  ------                                --------------  -----  \n",
            " 0   Chartmetric_ID                        153 non-null    object \n",
            " 1   followers value                       153 non-null    float64\n",
            " 2   popularity value.1                    153 non-null    float64\n",
            " 3   listeners value.2                     153 non-null    float64\n",
            " 4   followers_to_listeners_ratio value.3  153 non-null    float64\n",
            "dtypes: float64(4), object(1)\n",
            "memory usage: 12.2+ KB\n",
            "None \n",
            "\n",
            "Do we have any nulls?\n",
            "Looks like we have 0 nulls\n",
            "\n"
          ],
          "name": "stdout"
        },
        {
          "output_type": "execute_result",
          "data": {
            "text/html": [
              "<div>\n",
              "<style scoped>\n",
              "    .dataframe tbody tr th:only-of-type {\n",
              "        vertical-align: middle;\n",
              "    }\n",
              "\n",
              "    .dataframe tbody tr th {\n",
              "        vertical-align: top;\n",
              "    }\n",
              "\n",
              "    .dataframe thead th {\n",
              "        text-align: right;\n",
              "    }\n",
              "</style>\n",
              "<table border=\"1\" class=\"dataframe\">\n",
              "  <thead>\n",
              "    <tr style=\"text-align: right;\">\n",
              "      <th></th>\n",
              "      <th>min</th>\n",
              "      <th>max</th>\n",
              "      <th>median</th>\n",
              "      <th>mean</th>\n",
              "      <th>skew</th>\n",
              "    </tr>\n",
              "  </thead>\n",
              "  <tbody>\n",
              "    <tr>\n",
              "      <th>followers value</th>\n",
              "      <td>334.00</td>\n",
              "      <td>295738.00</td>\n",
              "      <td>191204.00</td>\n",
              "      <td>1.632436e+05</td>\n",
              "      <td>-0.900501</td>\n",
              "    </tr>\n",
              "    <tr>\n",
              "      <th>popularity value.1</th>\n",
              "      <td>2.00</td>\n",
              "      <td>67.00</td>\n",
              "      <td>59.00</td>\n",
              "      <td>4.983007e+01</td>\n",
              "      <td>-1.562816</td>\n",
              "    </tr>\n",
              "    <tr>\n",
              "      <th>listeners value.2</th>\n",
              "      <td>162.00</td>\n",
              "      <td>2127363.00</td>\n",
              "      <td>1577972.00</td>\n",
              "      <td>1.325069e+06</td>\n",
              "      <td>-1.254605</td>\n",
              "    </tr>\n",
              "    <tr>\n",
              "      <th>followers_to_listeners_ratio value.3</th>\n",
              "      <td>7.65</td>\n",
              "      <td>273.66</td>\n",
              "      <td>12.04</td>\n",
              "      <td>4.616562e+01</td>\n",
              "      <td>2.072831</td>\n",
              "    </tr>\n",
              "  </tbody>\n",
              "</table>\n",
              "</div>"
            ],
            "text/plain": [
              "                                         min         max      median          mean      skew\n",
              "followers value                       334.00   295738.00   191204.00  1.632436e+05 -0.900501\n",
              "popularity value.1                      2.00       67.00       59.00  4.983007e+01 -1.562816\n",
              "listeners value.2                     162.00  2127363.00  1577972.00  1.325069e+06 -1.254605\n",
              "followers_to_listeners_ratio value.3    7.65      273.66       12.04  4.616562e+01  2.072831"
            ]
          },
          "metadata": {
            "tags": []
          },
          "execution_count": 85
        }
      ]
    },
    {
      "cell_type": "markdown",
      "metadata": {
        "id": "nP59UZJ9JhlO"
      },
      "source": [
        "#### initial target is grouped by Chartmetric ID and Timeseries"
      ]
    },
    {
      "cell_type": "code",
      "metadata": {
        "id": "Hl59n0xiAmtE",
        "colab": {
          "base_uri": "https://localhost:8080/",
          "height": 379
        },
        "outputId": "58d069ef-749a-43ce-bfa4-5ff71659e140"
      },
      "source": [
        "plot_heatmap(grp)"
      ],
      "execution_count": 86,
      "outputs": [
        {
          "output_type": "display_data",
          "data": {
            "image/png": "[encoded data removed]",
            "text/plain": [
              "<Figure size 1152x432 with 2 Axes>"
            ]
          },
          "metadata": {
            "tags": [],
            "needs_background": "light"
          }
        }
      ]
    },
    {
      "cell_type": "markdown",
      "metadata": {
        "id": "yIYjBrsPYICm"
      },
      "source": [
        "#### Find Highly correlated metrics to list and dataframe <-FIX ME"
      ]
    },
    {
      "cell_type": "code",
      "metadata": {
        "id": "_DoS36CIAdzc",
        "colab": {
          "base_uri": "https://localhost:8080/"
        },
        "outputId": "6bbea718-0e94-4387-d803-f6e24fd2d311"
      },
      "source": [
        "# Find Highly correlated metrics to list and dataframe\n",
        "corr_list,corr_data = calc_correlations(grp)# <- FIX ME\n",
        "corr_list"
      ],
      "execution_count": 87,
      "outputs": [
        {
          "output_type": "execute_result",
          "data": {
            "text/plain": [
              "followers_to_listeners_ratio value.3  followers_to_listeners_ratio value.3    1.000000\n",
              "listeners value.2                     listeners value.2                       1.000000\n",
              "popularity value.1                    popularity value.1                      1.000000\n",
              "followers value                       followers value                         1.000000\n",
              "listeners value.2                     followers value                         0.986171\n",
              "followers value                       listeners value.2                       0.986171\n",
              "listeners value.2                     popularity value.1                      0.961009\n",
              "popularity value.1                    listeners value.2                       0.961009\n",
              "                                      followers value                         0.933103\n",
              "followers value                       popularity value.1                      0.933103\n",
              "followers_to_listeners_ratio value.3  followers value                        -0.784836\n",
              "followers value                       followers_to_listeners_ratio value.3   -0.784836\n",
              "followers_to_listeners_ratio value.3  listeners value.2                      -0.824031\n",
              "listeners value.2                     followers_to_listeners_ratio value.3   -0.824031\n",
              "followers_to_listeners_ratio value.3  popularity value.1                     -0.924755\n",
              "popularity value.1                    followers_to_listeners_ratio value.3   -0.924755\n",
              "dtype: float64"
            ]
          },
          "metadata": {
            "tags": []
          },
          "execution_count": 87
        }
      ]
    },
    {
      "cell_type": "code",
      "metadata": {
        "colab": {
          "base_uri": "https://localhost:8080/",
          "height": 175
        },
        "id": "bqzKTJODYyju",
        "outputId": "43d926b0-cc4b-4eef-ba28-fcae36a6e3fc"
      },
      "source": [
        "corr_data"
      ],
      "execution_count": 88,
      "outputs": [
        {
          "output_type": "execute_result",
          "data": {
            "text/html": [
              "<div>\n",
              "<style scoped>\n",
              "    .dataframe tbody tr th:only-of-type {\n",
              "        vertical-align: middle;\n",
              "    }\n",
              "\n",
              "    .dataframe tbody tr th {\n",
              "        vertical-align: top;\n",
              "    }\n",
              "\n",
              "    .dataframe thead th {\n",
              "        text-align: right;\n",
              "    }\n",
              "</style>\n",
              "<table border=\"1\" class=\"dataframe\">\n",
              "  <thead>\n",
              "    <tr style=\"text-align: right;\">\n",
              "      <th></th>\n",
              "      <th>followers value</th>\n",
              "      <th>popularity value.1</th>\n",
              "      <th>listeners value.2</th>\n",
              "      <th>followers_to_listeners_ratio value.3</th>\n",
              "    </tr>\n",
              "  </thead>\n",
              "  <tbody>\n",
              "    <tr>\n",
              "      <th>followers value</th>\n",
              "      <td>1.000000</td>\n",
              "      <td>0.933103</td>\n",
              "      <td>0.986171</td>\n",
              "      <td>NaN</td>\n",
              "    </tr>\n",
              "    <tr>\n",
              "      <th>popularity value.1</th>\n",
              "      <td>0.933103</td>\n",
              "      <td>1.000000</td>\n",
              "      <td>0.961009</td>\n",
              "      <td>NaN</td>\n",
              "    </tr>\n",
              "    <tr>\n",
              "      <th>listeners value.2</th>\n",
              "      <td>0.986171</td>\n",
              "      <td>0.961009</td>\n",
              "      <td>1.000000</td>\n",
              "      <td>NaN</td>\n",
              "    </tr>\n",
              "    <tr>\n",
              "      <th>followers_to_listeners_ratio value.3</th>\n",
              "      <td>NaN</td>\n",
              "      <td>NaN</td>\n",
              "      <td>NaN</td>\n",
              "      <td>1.0</td>\n",
              "    </tr>\n",
              "  </tbody>\n",
              "</table>\n",
              "</div>"
            ],
            "text/plain": [
              "                                      followers value  popularity value.1  listeners value.2  followers_to_listeners_ratio value.3\n",
              "followers value                              1.000000            0.933103           0.986171                                   NaN\n",
              "popularity value.1                           0.933103            1.000000           0.961009                                   NaN\n",
              "listeners value.2                            0.986171            0.961009           1.000000                                   NaN\n",
              "followers_to_listeners_ratio value.3              NaN                 NaN                NaN                                   1.0"
            ]
          },
          "metadata": {
            "tags": []
          },
          "execution_count": 88
        }
      ]
    },
    {
      "cell_type": "markdown",
      "metadata": {
        "id": "usJDmV3PYOF5"
      },
      "source": [
        "#### Plot pair relationship of correlated metrics greater than 0.5"
      ]
    },
    {
      "cell_type": "code",
      "metadata": {
        "colab": {
          "base_uri": "https://localhost:8080/",
          "height": 1000
        },
        "id": "Lm-E07zWYPZI",
        "outputId": "2034c8d7-ed3c-48f8-f200-173923f9a724"
      },
      "source": [
        "# index corr_list by correlation greater than 0.5\n",
        "plot_index = corr_list[corr_list > 0.5].index\n",
        "# plot their pair x y relationship\n",
        "for plot in plot_index[4:]:\n",
        "  scatter_plot(grp,plot[0],plot[1])"
      ],
      "execution_count": 89,
      "outputs": [
        {
          "output_type": "display_data",
          "data": {
            "image/png": "[encoded data removed]",
            "text/plain": [
              "<Figure size 432x288 with 1 Axes>"
            ]
          },
          "metadata": {
            "tags": [],
            "needs_background": "light"
          }
        },
        {
          "output_type": "display_data",
          "data": {
            "image/png": "[encoded data removed]",
            "text/plain": [
              "<Figure size 432x288 with 1 Axes>"
            ]
          },
          "metadata": {
            "tags": [],
            "needs_background": "light"
          }
        },
        {
          "output_type": "display_data",
          "data": {
            "image/png": "[encoded data removed]",
            "text/plain": [
              "<Figure size 432x288 with 1 Axes>"
            ]
          },
          "metadata": {
            "tags": [],
            "needs_background": "light"
          }
        },
        {
          "output_type": "display_data",
          "data": {
            "image/png": "[encoded data removed]",
            "text/plain": [
              "<Figure size 432x288 with 1 Axes>"
            ]
          },
          "metadata": {
            "tags": [],
            "needs_background": "light"
          }
        },
        {
          "output_type": "display_data",
          "data": {
            "image/png": "[encoded data removed]",
            "text/plain": [
              "<Figure size 432x288 with 1 Axes>"
            ]
          },
          "metadata": {
            "tags": [],
            "needs_background": "light"
          }
        },
        {
          "output_type": "display_data",
          "data": {
            "image/png": "[encoded data removed]",
            "text/plain": [
              "<Figure size 432x288 with 1 Axes>"
            ]
          },
          "metadata": {
            "tags": [],
            "needs_background": "light"
          }
        }
      ]
    },
    {
      "cell_type": "markdown",
      "metadata": {
        "id": "LcfEJce0YbPf"
      },
      "source": [
        "### Describe groupby Chartmetric ID and timeseries"
      ]
    },
    {
      "cell_type": "code",
      "metadata": {
        "id": "xEoaDDTEAiAS",
        "colab": {
          "base_uri": "https://localhost:8080/",
          "height": 300
        },
        "outputId": "f5ee7ea9-70cb-402c-bcee-587487bd82c4"
      },
      "source": [
        "describe_cols(grp,40)"
      ],
      "execution_count": 69,
      "outputs": [
        {
          "output_type": "execute_result",
          "data": {
            "text/html": [
              "<div>\n",
              "<style scoped>\n",
              "    .dataframe tbody tr th:only-of-type {\n",
              "        vertical-align: middle;\n",
              "    }\n",
              "\n",
              "    .dataframe tbody tr th {\n",
              "        vertical-align: top;\n",
              "    }\n",
              "\n",
              "    .dataframe thead th {\n",
              "        text-align: right;\n",
              "    }\n",
              "</style>\n",
              "<table border=\"1\" class=\"dataframe\">\n",
              "  <thead>\n",
              "    <tr style=\"text-align: right;\">\n",
              "      <th></th>\n",
              "      <th>followers value</th>\n",
              "      <th>popularity value.1</th>\n",
              "      <th>listeners value.2</th>\n",
              "      <th>followers_to_listeners_ratio value.3</th>\n",
              "    </tr>\n",
              "  </thead>\n",
              "  <tbody>\n",
              "    <tr>\n",
              "      <th>count</th>\n",
              "      <td>153.000000</td>\n",
              "      <td>153.000000</td>\n",
              "      <td>1.530000e+02</td>\n",
              "      <td>153.000000</td>\n",
              "    </tr>\n",
              "    <tr>\n",
              "      <th>mean</th>\n",
              "      <td>163243.607843</td>\n",
              "      <td>49.830065</td>\n",
              "      <td>1.325069e+06</td>\n",
              "      <td>46.165621</td>\n",
              "    </tr>\n",
              "    <tr>\n",
              "      <th>std</th>\n",
              "      <td>89502.847784</td>\n",
              "      <td>21.880294</td>\n",
              "      <td>6.953453e+05</td>\n",
              "      <td>78.786436</td>\n",
              "    </tr>\n",
              "    <tr>\n",
              "      <th>min</th>\n",
              "      <td>334.000000</td>\n",
              "      <td>2.000000</td>\n",
              "      <td>1.620000e+02</td>\n",
              "      <td>7.650000</td>\n",
              "    </tr>\n",
              "    <tr>\n",
              "      <th>25%</th>\n",
              "      <td>182059.000000</td>\n",
              "      <td>58.000000</td>\n",
              "      <td>1.533155e+06</td>\n",
              "      <td>11.770000</td>\n",
              "    </tr>\n",
              "    <tr>\n",
              "      <th>50%</th>\n",
              "      <td>191204.000000</td>\n",
              "      <td>59.000000</td>\n",
              "      <td>1.577972e+06</td>\n",
              "      <td>12.040000</td>\n",
              "    </tr>\n",
              "    <tr>\n",
              "      <th>75%</th>\n",
              "      <td>194541.000000</td>\n",
              "      <td>61.000000</td>\n",
              "      <td>1.652460e+06</td>\n",
              "      <td>13.790000</td>\n",
              "    </tr>\n",
              "    <tr>\n",
              "      <th>max</th>\n",
              "      <td>295738.000000</td>\n",
              "      <td>67.000000</td>\n",
              "      <td>2.127363e+06</td>\n",
              "      <td>273.660000</td>\n",
              "    </tr>\n",
              "  </tbody>\n",
              "</table>\n",
              "</div>"
            ],
            "text/plain": [
              "       followers value  popularity value.1  listeners value.2  followers_to_listeners_ratio value.3\n",
              "count       153.000000          153.000000       1.530000e+02                            153.000000\n",
              "mean     163243.607843           49.830065       1.325069e+06                             46.165621\n",
              "std       89502.847784           21.880294       6.953453e+05                             78.786436\n",
              "min         334.000000            2.000000       1.620000e+02                              7.650000\n",
              "25%      182059.000000           58.000000       1.533155e+06                             11.770000\n",
              "50%      191204.000000           59.000000       1.577972e+06                             12.040000\n",
              "75%      194541.000000           61.000000       1.652460e+06                             13.790000\n",
              "max      295738.000000           67.000000       2.127363e+06                            273.660000"
            ]
          },
          "metadata": {
            "tags": []
          },
          "execution_count": 69
        }
      ]
    },
    {
      "cell_type": "markdown",
      "metadata": {
        "id": "S8WZUQlWIV2y"
      },
      "source": [
        "### Plot Polularity Scores Distribution"
      ]
    },
    {
      "cell_type": "code",
      "metadata": {
        "id": "kukcTPIEIbPr",
        "colab": {
          "base_uri": "https://localhost:8080/",
          "height": 407
        },
        "outputId": "bcd3fb22-6bc0-4c34-b4c5-0dc8af4e4d6a"
      },
      "source": [
        "plot_pop_dist(grp)"
      ],
      "execution_count": 70,
      "outputs": [
        {
          "output_type": "stream",
          "text": [
            "/usr/local/lib/python3.6/dist-packages/seaborn/distributions.py:2551: FutureWarning: `distplot` is a deprecated function and will be removed in a future version. Please adapt your code to use either `displot` (a figure-level function with similar flexibility) or `histplot` (an axes-level function for histograms).\n",
            "  warnings.warn(msg, FutureWarning)\n"
          ],
          "name": "stderr"
        },
        {
          "output_type": "display_data",
          "data": {
            "image/png": "[encoded data removed]",
            "text/plain": [
              "<Figure size 576x360 with 1 Axes>"
            ]
          },
          "metadata": {
            "tags": [],
            "needs_background": "light"
          }
        }
      ]
    },
    {
      "cell_type": "markdown",
      "metadata": {
        "id": "L__lIVK3Idi7"
      },
      "source": [
        "### Plot Undersampling Methodology"
      ]
    },
    {
      "cell_type": "code",
      "metadata": {
        "id": "ERNBhsfMAqbe",
        "colab": {
          "base_uri": "https://localhost:8080/",
          "height": 407
        },
        "outputId": "1623577e-b3d4-417e-d0c6-e5156c1df314"
      },
      "source": [
        "undersample_plot(grp)"
      ],
      "execution_count": 71,
      "outputs": [
        {
          "output_type": "stream",
          "text": [
            "/usr/local/lib/python3.6/dist-packages/seaborn/distributions.py:2551: FutureWarning: `distplot` is a deprecated function and will be removed in a future version. Please adapt your code to use either `displot` (a figure-level function with similar flexibility) or `histplot` (an axes-level function for histograms).\n",
            "  warnings.warn(msg, FutureWarning)\n"
          ],
          "name": "stderr"
        },
        {
          "output_type": "display_data",
          "data": {
            "image/png": "[encoded data removed]",
            "text/plain": [
              "<Figure size 576x360 with 1 Axes>"
            ]
          },
          "metadata": {
            "tags": [],
            "needs_background": "light"
          }
        }
      ]
    },
    {
      "cell_type": "markdown",
      "metadata": {
        "id": "2H2mWbsLIz2k"
      },
      "source": [
        "### Plot Univariate Dists for several Independant variables"
      ]
    },
    {
      "cell_type": "code",
      "metadata": {
        "id": "KkQaXqXyIxXZ",
        "colab": {
          "base_uri": "https://localhost:8080/",
          "height": 1000
        },
        "outputId": "37addc2d-cd41-4a4b-a6a1-1111b4659f26"
      },
      "source": [
        "plot_univ_dists(grp, 70)"
      ],
      "execution_count": 72,
      "outputs": [
        {
          "output_type": "stream",
          "text": [
            "Mean value for followers feature for Popular artists: nan\n",
            "Mean value for followers feature for Unpopular artists: 163243.60784313726\n",
            "Mean value for listeners feature for Popular artists: nan\n",
            "Mean value for listeners feature for Unpopular artists: 1325068.888888889\n"
          ],
          "name": "stdout"
        },
        {
          "output_type": "stream",
          "text": [
            "/usr/local/lib/python3.6/dist-packages/seaborn/distributions.py:2551: FutureWarning: `distplot` is a deprecated function and will be removed in a future version. Please adapt your code to use either `displot` (a figure-level function with similar flexibility) or `histplot` (an axes-level function for histograms).\n",
            "  warnings.warn(msg, FutureWarning)\n",
            "/usr/local/lib/python3.6/dist-packages/seaborn/distributions.py:2551: FutureWarning: `distplot` is a deprecated function and will be removed in a future version. Please adapt your code to use either `displot` (a figure-level function with similar flexibility) or `histplot` (an axes-level function for histograms).\n",
            "  warnings.warn(msg, FutureWarning)\n",
            "/usr/local/lib/python3.6/dist-packages/seaborn/distributions.py:2589: RuntimeWarning: Mean of empty slice.\n",
            "  line, = ax.plot(a.mean(), 0)\n",
            "/usr/local/lib/python3.6/dist-packages/numpy/core/_methods.py:170: RuntimeWarning: invalid value encountered in double_scalars\n",
            "  ret = ret.dtype.type(ret / rcount)\n",
            "/usr/local/lib/python3.6/dist-packages/numpy/lib/histograms.py:905: RuntimeWarning: invalid value encountered in true_divide\n",
            "  return n/db/n.sum(), bin_edges\n"
          ],
          "name": "stderr"
        },
        {
          "output_type": "display_data",
          "data": {
            "image/png": "[encoded data removed]",
            "text/plain": [
              "<Figure size 576x360 with 1 Axes>"
            ]
          },
          "metadata": {
            "tags": [],
            "needs_background": "light"
          }
        },
        {
          "output_type": "stream",
          "text": [
            "/usr/local/lib/python3.6/dist-packages/seaborn/distributions.py:2551: FutureWarning: `distplot` is a deprecated function and will be removed in a future version. Please adapt your code to use either `displot` (a figure-level function with similar flexibility) or `histplot` (an axes-level function for histograms).\n",
            "  warnings.warn(msg, FutureWarning)\n",
            "/usr/local/lib/python3.6/dist-packages/seaborn/distributions.py:2551: FutureWarning: `distplot` is a deprecated function and will be removed in a future version. Please adapt your code to use either `displot` (a figure-level function with similar flexibility) or `histplot` (an axes-level function for histograms).\n",
            "  warnings.warn(msg, FutureWarning)\n",
            "/usr/local/lib/python3.6/dist-packages/seaborn/distributions.py:2589: RuntimeWarning: Mean of empty slice.\n",
            "  line, = ax.plot(a.mean(), 0)\n",
            "/usr/local/lib/python3.6/dist-packages/numpy/core/_methods.py:170: RuntimeWarning: invalid value encountered in double_scalars\n",
            "  ret = ret.dtype.type(ret / rcount)\n",
            "/usr/local/lib/python3.6/dist-packages/numpy/lib/histograms.py:905: RuntimeWarning: invalid value encountered in true_divide\n",
            "  return n/db/n.sum(), bin_edges\n"
          ],
          "name": "stderr"
        },
        {
          "output_type": "display_data",
          "data": {
            "image/png": "[encoded data removed]",
            "text/plain": [
              "<Figure size 576x360 with 1 Axes>"
            ]
          },
          "metadata": {
            "tags": [],
            "needs_background": "light"
          }
        }
      ]
    },
    {
      "cell_type": "markdown",
      "metadata": {
        "id": "2vz-D4kxZCOb"
      },
      "source": [
        "### Data prep"
      ]
    },
    {
      "cell_type": "code",
      "metadata": {
        "id": "tIVyS1Wv0B6y",
        "colab": {
          "base_uri": "https://localhost:8080/",
          "height": 528
        },
        "outputId": "2e4d2a13-db07-4038-a73a-470e00a9715c"
      },
      "source": [
        "au_corr = get_top_abs_correlations(grp, 25)\n",
        "# get unique columns from top abs correlations\n",
        "train_cols = np.unique((np.asarray([(index[0],index[1]) for index in au_corr.index])).flatten())\n",
        "# index grouby Chartmetric ID and timeseries with the unique top abs correlations\n",
        "dtrain = grp[train_cols]\n",
        "# plot newly abs correlated heatmap\n",
        "plot_heatmap(dtrain)"
      ],
      "execution_count": 73,
      "outputs": [
        {
          "output_type": "stream",
          "text": [
            "The top absolute correlations are:\n",
            "followers value     listeners value.2                       0.986171\n",
            "popularity value.1  listeners value.2                       0.961009\n",
            "followers value     popularity value.1                      0.933103\n",
            "popularity value.1  followers_to_listeners_ratio value.3    0.924755\n",
            "listeners value.2   followers_to_listeners_ratio value.3    0.824031\n",
            "followers value     followers_to_listeners_ratio value.3    0.784836\n",
            "dtype: float64\n"
          ],
          "name": "stdout"
        },
        {
          "output_type": "display_data",
          "data": {
            "image/png": "[encoded data removed]",
            "text/plain": [
              "<Figure size 1152x432 with 2 Axes>"
            ]
          },
          "metadata": {
            "tags": [],
            "needs_background": "light"
          }
        }
      ]
    },
    {
      "cell_type": "markdown",
      "metadata": {
        "id": "22JKiCxQZfZS"
      },
      "source": [
        "### Simple Linear Regression on Popularity"
      ]
    },
    {
      "cell_type": "code",
      "metadata": {
        "id": "_7cCYDaTJelH",
        "colab": {
          "base_uri": "https://localhost:8080/",
          "height": 1000
        },
        "outputId": "71d6a3f8-3d32-4c32-ad04-0701a82977cc"
      },
      "source": [
        "fitted_pop = linear_regression_initial(dtrain,Y='popularity value.1')"
      ],
      "execution_count": 74,
      "outputs": [
        {
          "output_type": "stream",
          "text": [
            "                            OLS Regression Results                            \n",
            "==============================================================================\n",
            "Dep. Variable:     popularity value.1   R-squared:                       0.978\n",
            "Model:                            OLS   Adj. R-squared:                  0.978\n",
            "Method:                 Least Squares   F-statistic:                     1767.\n",
            "Date:                Sun, 20 Dec 2020   Prob (F-statistic):           7.57e-98\n",
            "Time:                        18:34:57   Log-Likelihood:                -312.94\n",
            "No. Observations:                 122   AIC:                             633.9\n",
            "Df Residuals:                     118   BIC:                             645.1\n",
            "Df Model:                           3                                         \n",
            "Covariance Type:            nonrobust                                         \n",
            "========================================================================================================\n",
            "                                           coef    std err          t      P>|t|      [0.025      0.975]\n",
            "--------------------------------------------------------------------------------------------------------\n",
            "const                                   29.0560      1.367     21.262      0.000      26.350      31.762\n",
            "followers value                      -3.333e-05   1.99e-05     -1.673      0.097   -7.28e-05    6.12e-06\n",
            "followers_to_listeners_ratio value.3    -0.1140      0.007    -16.374      0.000      -0.128      -0.100\n",
            "listeners value.2                      2.38e-05   2.84e-06      8.369      0.000    1.82e-05    2.94e-05\n",
            "==============================================================================\n",
            "Omnibus:                        2.369   Durbin-Watson:                   2.152\n",
            "Prob(Omnibus):                  0.306   Jarque-Bera (JB):                2.010\n",
            "Skew:                          -0.125   Prob(JB):                        0.366\n",
            "Kurtosis:                       3.577   Cond. No.                     7.20e+06\n",
            "==============================================================================\n",
            "\n",
            "Warnings:\n",
            "[1] Standard Errors assume that the covariance matrix of the errors is correctly specified.\n",
            "[2] The condition number is large, 7.2e+06. This might indicate that there are\n",
            "strong multicollinearity or other numerical problems.\n"
          ],
          "name": "stdout"
        },
        {
          "output_type": "display_data",
          "data": {
            "image/png": "[encoded data removed]",
            "text/plain": [
              "<Figure size 576x360 with 1 Axes>"
            ]
          },
          "metadata": {
            "tags": [],
            "needs_background": "light"
          }
        },
        {
          "output_type": "display_data",
          "data": {
            "image/png": "[encoded data removed]",
            "text/plain": [
              "<Figure size 432x288 with 1 Axes>"
            ]
          },
          "metadata": {
            "tags": [],
            "needs_background": "light"
          }
        },
        {
          "output_type": "stream",
          "text": [
            "*c* argument looks like a single numeric RGB or RGBA sequence, which should be avoided as value-mapping will have precedence in case its length matches with *x* & *y*.  Please use the *color* keyword-argument or provide a 2-D array with a single row if you intend to specify the same RGB or RGBA value for all points.\n"
          ],
          "name": "stderr"
        },
        {
          "output_type": "display_data",
          "data": {
            "image/png": "[encoded data removed]",
            "text/plain": [
              "<Figure size 432x288 with 1 Axes>"
            ]
          },
          "metadata": {
            "tags": [],
            "needs_background": "light"
          }
        }
      ]
    },
    {
      "cell_type": "markdown",
      "metadata": {
        "id": "U1asEy2sZtrT"
      },
      "source": [
        "#### Standardize Regression and call it the new artist scores"
      ]
    },
    {
      "cell_type": "code",
      "metadata": {
        "colab": {
          "base_uri": "https://localhost:8080/"
        },
        "id": "IZpsC2SIZnBI",
        "outputId": "75e6f36e-25e0-4dd6-ee14-213818884273"
      },
      "source": [
        "artist_scores = stats.zscore(fitted_pop['fitted_vals'])\n",
        "artist_scores"
      ],
      "execution_count": 75,
      "outputs": [
        {
          "output_type": "execute_result",
          "data": {
            "text/plain": [
              "array([-1.00634913,  0.46502965, -2.44770573,  0.47176545, -1.37730183,\n",
              "        0.37775954,  0.40342154,  0.46658875,  0.45857187,  0.37305029,\n",
              "        0.7167772 ,  0.46831499,  0.46831499,  0.39925253,  0.81554158,\n",
              "        0.62504747, -2.01457453,  0.45046981,  0.83279453,  0.37305357,\n",
              "       -2.4855592 ,  0.47170571,  0.29281149,  0.41456361,  0.48020202,\n",
              "        0.52591839, -1.90354426, -2.49626744,  0.35536395,  0.36199528,\n",
              "        0.38353553,  0.36078589,  0.37477214,  0.4178026 ,  0.2760649 ,\n",
              "        0.49389038,  0.45278287,  0.84168149,  0.45758988,  0.37681605,\n",
              "       -1.01082508,  0.49389038,  0.49389038, -1.95119132,  0.35923568,\n",
              "        0.42802024,  0.35251115,  0.38218499,  0.48020202,  0.38462968,\n",
              "        0.3934214 ,  0.3895818 ,  0.45857187,  0.46595552,  0.43772655,\n",
              "        0.84090599,  0.34783246,  0.45046981,  0.84535026, -2.49837407,\n",
              "        0.36191559, -1.99353744,  0.46831499,  0.8444824 ,  0.38722803,\n",
              "        0.45278287,  0.48020202,  0.59024911,  0.3292972 , -2.01111054,\n",
              "        0.52591839,  0.62081605, -2.47301467,  0.70165952,  0.37778352,\n",
              "        0.38406187, -2.40331089,  0.8174896 ,  0.46408107,  0.45278287,\n",
              "        0.41865108,  0.47176545,  0.40237454,  0.7516688 ,  0.36078589,\n",
              "        0.35967625,  0.60397042,  0.45735686,  0.42178386,  0.36456427,\n",
              "        0.37299367,  0.49389038, -1.98044906, -2.41023277,  0.353013  ,\n",
              "        0.45594212,  0.35221759,  0.45722481,  0.84882849,  0.45278287,\n",
              "        0.48020202,  0.58471145, -2.43867722,  0.52591839,  0.37277937,\n",
              "        0.47872194,  0.40073403,  0.36882451, -2.14549924, -2.50421661,\n",
              "        0.46531878,  0.45278287,  0.37034316,  0.41361921, -1.8993258 ,\n",
              "        0.39452887, -1.38062077,  0.8248429 ,  0.46831499, -1.92095878,\n",
              "       -1.00761723, -1.00835043])"
            ]
          },
          "metadata": {
            "tags": []
          },
          "execution_count": 75
        }
      ]
    },
    {
      "cell_type": "markdown",
      "metadata": {
        "id": "ya_neBx4Z38W"
      },
      "source": [
        "#### Explore Regression Results"
      ]
    },
    {
      "cell_type": "code",
      "metadata": {
        "id": "Iw2d5_1mXtJm",
        "colab": {
          "base_uri": "https://localhost:8080/",
          "height": 708
        },
        "outputId": "e46dcb28-7763-4a68-bf9c-f2bcae083eb7"
      },
      "source": [
        "get_df_info(fitted_pop)"
      ],
      "execution_count": 76,
      "outputs": [
        {
          "output_type": "stream",
          "text": [
            "Index          976\n",
            "residuals      976\n",
            "fitted_vals    976\n",
            "stu_resid      976\n",
            "dtype: int64 \n",
            "\n",
            "                          residuals  fitted_vals  stu_resid\n",
            "followers timestp                                          \n",
            "2020-02-14T00:00:00.000Z   7.572079    29.427921   2.366986\n",
            "2020-04-24T00:00:00.000Z  -1.453037    60.453037  -0.454211\n",
            "2020-01-05T00:00:00.000Z   3.964156    -0.964156   1.239171\n",
            "2020-05-08T00:00:00.000Z  -0.595067    60.595067  -0.186014\n",
            "2020-02-25T00:00:00.000Z  -8.606107    21.606107  -2.690216 \n",
            "\n",
            "The columns are:\n",
            "Index(['residuals', 'fitted_vals', 'stu_resid'], dtype='object') \n",
            "\n",
            "<class 'pandas.core.frame.DataFrame'>\n",
            "Index: 122 entries, 2020-02-14T00:00:00.000Z to 2020-03-07T00:00:00.000Z\n",
            "Data columns (total 3 columns):\n",
            " #   Column       Non-Null Count  Dtype  \n",
            "---  ------       --------------  -----  \n",
            " 0   residuals    122 non-null    float64\n",
            " 1   fitted_vals  122 non-null    float64\n",
            " 2   stu_resid    122 non-null    float64\n",
            "dtypes: float64(3)\n",
            "memory usage: 3.8+ KB\n",
            "None \n",
            "\n",
            "Do we have any nulls?\n",
            "Looks like we have 0 nulls\n",
            "\n"
          ],
          "name": "stdout"
        },
        {
          "output_type": "execute_result",
          "data": {
            "text/html": [
              "<div>\n",
              "<style scoped>\n",
              "    .dataframe tbody tr th:only-of-type {\n",
              "        vertical-align: middle;\n",
              "    }\n",
              "\n",
              "    .dataframe tbody tr th {\n",
              "        vertical-align: top;\n",
              "    }\n",
              "\n",
              "    .dataframe thead th {\n",
              "        text-align: right;\n",
              "    }\n",
              "</style>\n",
              "<table border=\"1\" class=\"dataframe\">\n",
              "  <thead>\n",
              "    <tr style=\"text-align: right;\">\n",
              "      <th></th>\n",
              "      <th>min</th>\n",
              "      <th>max</th>\n",
              "      <th>median</th>\n",
              "      <th>mean</th>\n",
              "      <th>skew</th>\n",
              "    </tr>\n",
              "  </thead>\n",
              "  <tbody>\n",
              "    <tr>\n",
              "      <th>fitted_vals</th>\n",
              "      <td>-2.155730</td>\n",
              "      <td>68.545721</td>\n",
              "      <td>59.261497</td>\n",
              "      <td>5.064754e+01</td>\n",
              "      <td>-1.660348</td>\n",
              "    </tr>\n",
              "    <tr>\n",
              "      <th>stu_resid</th>\n",
              "      <td>-2.690216</td>\n",
              "      <td>2.396488</td>\n",
              "      <td>-0.237425</td>\n",
              "      <td>-1.293683e-14</td>\n",
              "      <td>-0.126065</td>\n",
              "    </tr>\n",
              "  </tbody>\n",
              "</table>\n",
              "</div>"
            ],
            "text/plain": [
              "                  min        max     median          mean      skew\n",
              "fitted_vals -2.155730  68.545721  59.261497  5.064754e+01 -1.660348\n",
              "stu_resid   -2.690216   2.396488  -0.237425 -1.293683e-14 -0.126065"
            ]
          },
          "metadata": {
            "tags": []
          },
          "execution_count": 76
        }
      ]
    },
    {
      "cell_type": "markdown",
      "metadata": {
        "id": "6BSx274_aAnf"
      },
      "source": [
        "### Generate Multivariable Matrix shifted by 100 of one previous time step"
      ]
    },
    {
      "cell_type": "code",
      "metadata": {
        "id": "RepvtfgqX5KC",
        "colab": {
          "base_uri": "https://localhost:8080/",
          "height": 492
        },
        "outputId": "bfc5769a-8a72-44f3-b842-c84fab3d6952"
      },
      "source": [
        "MM = Multivariable_Matrix(pd.DataFrame(stats.zscore(fitted_pop),columns=fitted_pop.columns),fitted_pop,'fitted_vals')\n",
        "MM"
      ],
      "execution_count": 77,
      "outputs": [
        {
          "output_type": "execute_result",
          "data": {
            "text/html": [
              "<div>\n",
              "<style scoped>\n",
              "    .dataframe tbody tr th:only-of-type {\n",
              "        vertical-align: middle;\n",
              "    }\n",
              "\n",
              "    .dataframe tbody tr th {\n",
              "        vertical-align: top;\n",
              "    }\n",
              "\n",
              "    .dataframe thead th {\n",
              "        text-align: right;\n",
              "    }\n",
              "</style>\n",
              "<table border=\"1\" class=\"dataframe\">\n",
              "  <thead>\n",
              "    <tr style=\"text-align: right;\">\n",
              "      <th></th>\n",
              "      <th>shift 0</th>\n",
              "      <th>shift 1</th>\n",
              "      <th>shift 2</th>\n",
              "      <th>shift 3</th>\n",
              "      <th>shift 4</th>\n",
              "      <th>shift 5</th>\n",
              "      <th>shift 6</th>\n",
              "      <th>shift 7</th>\n",
              "      <th>shift 8</th>\n",
              "      <th>shift 9</th>\n",
              "      <th>shift 10</th>\n",
              "      <th>shift 11</th>\n",
              "      <th>shift 12</th>\n",
              "      <th>shift 13</th>\n",
              "      <th>shift 14</th>\n",
              "      <th>shift 15</th>\n",
              "      <th>shift 16</th>\n",
              "      <th>shift 17</th>\n",
              "      <th>shift 18</th>\n",
              "      <th>shift 19</th>\n",
              "      <th>shift 20</th>\n",
              "      <th>shift 21</th>\n",
              "      <th>shift 22</th>\n",
              "      <th>shift 23</th>\n",
              "      <th>shift 24</th>\n",
              "      <th>...</th>\n",
              "      <th>shift 97</th>\n",
              "      <th>shift 98</th>\n",
              "      <th>shift 99</th>\n",
              "      <th>shift 100</th>\n",
              "      <th>shift 101</th>\n",
              "      <th>shift 102</th>\n",
              "      <th>shift 103</th>\n",
              "      <th>shift 104</th>\n",
              "      <th>shift 105</th>\n",
              "      <th>shift 106</th>\n",
              "      <th>shift 107</th>\n",
              "      <th>shift 108</th>\n",
              "      <th>shift 109</th>\n",
              "      <th>shift 110</th>\n",
              "      <th>shift 111</th>\n",
              "      <th>shift 112</th>\n",
              "      <th>shift 113</th>\n",
              "      <th>shift 114</th>\n",
              "      <th>shift 115</th>\n",
              "      <th>shift 116</th>\n",
              "      <th>shift 117</th>\n",
              "      <th>shift 118</th>\n",
              "      <th>shift 119</th>\n",
              "      <th>shift 120</th>\n",
              "      <th>shift 121</th>\n",
              "    </tr>\n",
              "    <tr>\n",
              "      <th>followers timestp</th>\n",
              "      <th></th>\n",
              "      <th></th>\n",
              "      <th></th>\n",
              "      <th></th>\n",
              "      <th></th>\n",
              "      <th></th>\n",
              "      <th></th>\n",
              "      <th></th>\n",
              "      <th></th>\n",
              "      <th></th>\n",
              "      <th></th>\n",
              "      <th></th>\n",
              "      <th></th>\n",
              "      <th></th>\n",
              "      <th></th>\n",
              "      <th></th>\n",
              "      <th></th>\n",
              "      <th></th>\n",
              "      <th></th>\n",
              "      <th></th>\n",
              "      <th></th>\n",
              "      <th></th>\n",
              "      <th></th>\n",
              "      <th></th>\n",
              "      <th></th>\n",
              "      <th></th>\n",
              "      <th></th>\n",
              "      <th></th>\n",
              "      <th></th>\n",
              "      <th></th>\n",
              "      <th></th>\n",
              "      <th></th>\n",
              "      <th></th>\n",
              "      <th></th>\n",
              "      <th></th>\n",
              "      <th></th>\n",
              "      <th></th>\n",
              "      <th></th>\n",
              "      <th></th>\n",
              "      <th></th>\n",
              "      <th></th>\n",
              "      <th></th>\n",
              "      <th></th>\n",
              "      <th></th>\n",
              "      <th></th>\n",
              "      <th></th>\n",
              "      <th></th>\n",
              "      <th></th>\n",
              "      <th></th>\n",
              "      <th></th>\n",
              "      <th></th>\n",
              "    </tr>\n",
              "  </thead>\n",
              "  <tbody>\n",
              "    <tr>\n",
              "      <th>2020-02-14T00:00:00.000Z</th>\n",
              "      <td>-1.006349</td>\n",
              "      <td>0.465030</td>\n",
              "      <td>-2.447706</td>\n",
              "      <td>0.471765</td>\n",
              "      <td>-1.377302</td>\n",
              "      <td>0.377760</td>\n",
              "      <td>0.403422</td>\n",
              "      <td>0.466589</td>\n",
              "      <td>0.458572</td>\n",
              "      <td>0.373050</td>\n",
              "      <td>0.716777</td>\n",
              "      <td>0.468315</td>\n",
              "      <td>0.468315</td>\n",
              "      <td>0.399253</td>\n",
              "      <td>0.815542</td>\n",
              "      <td>0.625047</td>\n",
              "      <td>-2.014575</td>\n",
              "      <td>0.450470</td>\n",
              "      <td>0.832795</td>\n",
              "      <td>0.373054</td>\n",
              "      <td>-2.485559</td>\n",
              "      <td>0.471706</td>\n",
              "      <td>0.292811</td>\n",
              "      <td>0.414564</td>\n",
              "      <td>0.480202</td>\n",
              "      <td>...</td>\n",
              "      <td>0.457225</td>\n",
              "      <td>0.848828</td>\n",
              "      <td>0.452783</td>\n",
              "      <td>0.480202</td>\n",
              "      <td>0.584711</td>\n",
              "      <td>-2.438677</td>\n",
              "      <td>0.525918</td>\n",
              "      <td>0.372779</td>\n",
              "      <td>0.478722</td>\n",
              "      <td>0.400734</td>\n",
              "      <td>0.368825</td>\n",
              "      <td>-2.145499</td>\n",
              "      <td>-2.504217</td>\n",
              "      <td>0.465319</td>\n",
              "      <td>0.452783</td>\n",
              "      <td>0.370343</td>\n",
              "      <td>0.413619</td>\n",
              "      <td>-1.899326</td>\n",
              "      <td>0.394529</td>\n",
              "      <td>-1.380621</td>\n",
              "      <td>0.824843</td>\n",
              "      <td>0.468315</td>\n",
              "      <td>-1.920959</td>\n",
              "      <td>-1.007617</td>\n",
              "      <td>-1.00835</td>\n",
              "    </tr>\n",
              "    <tr>\n",
              "      <th>2020-04-24T00:00:00.000Z</th>\n",
              "      <td>0.465030</td>\n",
              "      <td>-2.447706</td>\n",
              "      <td>0.471765</td>\n",
              "      <td>-1.377302</td>\n",
              "      <td>0.377760</td>\n",
              "      <td>0.403422</td>\n",
              "      <td>0.466589</td>\n",
              "      <td>0.458572</td>\n",
              "      <td>0.373050</td>\n",
              "      <td>0.716777</td>\n",
              "      <td>0.468315</td>\n",
              "      <td>0.468315</td>\n",
              "      <td>0.399253</td>\n",
              "      <td>0.815542</td>\n",
              "      <td>0.625047</td>\n",
              "      <td>-2.014575</td>\n",
              "      <td>0.450470</td>\n",
              "      <td>0.832795</td>\n",
              "      <td>0.373054</td>\n",
              "      <td>-2.485559</td>\n",
              "      <td>0.471706</td>\n",
              "      <td>0.292811</td>\n",
              "      <td>0.414564</td>\n",
              "      <td>0.480202</td>\n",
              "      <td>0.525918</td>\n",
              "      <td>...</td>\n",
              "      <td>0.848828</td>\n",
              "      <td>0.452783</td>\n",
              "      <td>0.480202</td>\n",
              "      <td>0.584711</td>\n",
              "      <td>-2.438677</td>\n",
              "      <td>0.525918</td>\n",
              "      <td>0.372779</td>\n",
              "      <td>0.478722</td>\n",
              "      <td>0.400734</td>\n",
              "      <td>0.368825</td>\n",
              "      <td>-2.145499</td>\n",
              "      <td>-2.504217</td>\n",
              "      <td>0.465319</td>\n",
              "      <td>0.452783</td>\n",
              "      <td>0.370343</td>\n",
              "      <td>0.413619</td>\n",
              "      <td>-1.899326</td>\n",
              "      <td>0.394529</td>\n",
              "      <td>-1.380621</td>\n",
              "      <td>0.824843</td>\n",
              "      <td>0.468315</td>\n",
              "      <td>-1.920959</td>\n",
              "      <td>-1.007617</td>\n",
              "      <td>-1.008350</td>\n",
              "      <td>NaN</td>\n",
              "    </tr>\n",
              "    <tr>\n",
              "      <th>2020-01-05T00:00:00.000Z</th>\n",
              "      <td>-2.447706</td>\n",
              "      <td>0.471765</td>\n",
              "      <td>-1.377302</td>\n",
              "      <td>0.377760</td>\n",
              "      <td>0.403422</td>\n",
              "      <td>0.466589</td>\n",
              "      <td>0.458572</td>\n",
              "      <td>0.373050</td>\n",
              "      <td>0.716777</td>\n",
              "      <td>0.468315</td>\n",
              "      <td>0.468315</td>\n",
              "      <td>0.399253</td>\n",
              "      <td>0.815542</td>\n",
              "      <td>0.625047</td>\n",
              "      <td>-2.014575</td>\n",
              "      <td>0.450470</td>\n",
              "      <td>0.832795</td>\n",
              "      <td>0.373054</td>\n",
              "      <td>-2.485559</td>\n",
              "      <td>0.471706</td>\n",
              "      <td>0.292811</td>\n",
              "      <td>0.414564</td>\n",
              "      <td>0.480202</td>\n",
              "      <td>0.525918</td>\n",
              "      <td>-1.903544</td>\n",
              "      <td>...</td>\n",
              "      <td>0.452783</td>\n",
              "      <td>0.480202</td>\n",
              "      <td>0.584711</td>\n",
              "      <td>-2.438677</td>\n",
              "      <td>0.525918</td>\n",
              "      <td>0.372779</td>\n",
              "      <td>0.478722</td>\n",
              "      <td>0.400734</td>\n",
              "      <td>0.368825</td>\n",
              "      <td>-2.145499</td>\n",
              "      <td>-2.504217</td>\n",
              "      <td>0.465319</td>\n",
              "      <td>0.452783</td>\n",
              "      <td>0.370343</td>\n",
              "      <td>0.413619</td>\n",
              "      <td>-1.899326</td>\n",
              "      <td>0.394529</td>\n",
              "      <td>-1.380621</td>\n",
              "      <td>0.824843</td>\n",
              "      <td>0.468315</td>\n",
              "      <td>-1.920959</td>\n",
              "      <td>-1.007617</td>\n",
              "      <td>-1.008350</td>\n",
              "      <td>NaN</td>\n",
              "      <td>NaN</td>\n",
              "    </tr>\n",
              "    <tr>\n",
              "      <th>2020-05-08T00:00:00.000Z</th>\n",
              "      <td>0.471765</td>\n",
              "      <td>-1.377302</td>\n",
              "      <td>0.377760</td>\n",
              "      <td>0.403422</td>\n",
              "      <td>0.466589</td>\n",
              "      <td>0.458572</td>\n",
              "      <td>0.373050</td>\n",
              "      <td>0.716777</td>\n",
              "      <td>0.468315</td>\n",
              "      <td>0.468315</td>\n",
              "      <td>0.399253</td>\n",
              "      <td>0.815542</td>\n",
              "      <td>0.625047</td>\n",
              "      <td>-2.014575</td>\n",
              "      <td>0.450470</td>\n",
              "      <td>0.832795</td>\n",
              "      <td>0.373054</td>\n",
              "      <td>-2.485559</td>\n",
              "      <td>0.471706</td>\n",
              "      <td>0.292811</td>\n",
              "      <td>0.414564</td>\n",
              "      <td>0.480202</td>\n",
              "      <td>0.525918</td>\n",
              "      <td>-1.903544</td>\n",
              "      <td>-2.496267</td>\n",
              "      <td>...</td>\n",
              "      <td>0.480202</td>\n",
              "      <td>0.584711</td>\n",
              "      <td>-2.438677</td>\n",
              "      <td>0.525918</td>\n",
              "      <td>0.372779</td>\n",
              "      <td>0.478722</td>\n",
              "      <td>0.400734</td>\n",
              "      <td>0.368825</td>\n",
              "      <td>-2.145499</td>\n",
              "      <td>-2.504217</td>\n",
              "      <td>0.465319</td>\n",
              "      <td>0.452783</td>\n",
              "      <td>0.370343</td>\n",
              "      <td>0.413619</td>\n",
              "      <td>-1.899326</td>\n",
              "      <td>0.394529</td>\n",
              "      <td>-1.380621</td>\n",
              "      <td>0.824843</td>\n",
              "      <td>0.468315</td>\n",
              "      <td>-1.920959</td>\n",
              "      <td>-1.007617</td>\n",
              "      <td>-1.008350</td>\n",
              "      <td>NaN</td>\n",
              "      <td>NaN</td>\n",
              "      <td>NaN</td>\n",
              "    </tr>\n",
              "    <tr>\n",
              "      <th>2020-02-25T00:00:00.000Z</th>\n",
              "      <td>-1.377302</td>\n",
              "      <td>0.377760</td>\n",
              "      <td>0.403422</td>\n",
              "      <td>0.466589</td>\n",
              "      <td>0.458572</td>\n",
              "      <td>0.373050</td>\n",
              "      <td>0.716777</td>\n",
              "      <td>0.468315</td>\n",
              "      <td>0.468315</td>\n",
              "      <td>0.399253</td>\n",
              "      <td>0.815542</td>\n",
              "      <td>0.625047</td>\n",
              "      <td>-2.014575</td>\n",
              "      <td>0.450470</td>\n",
              "      <td>0.832795</td>\n",
              "      <td>0.373054</td>\n",
              "      <td>-2.485559</td>\n",
              "      <td>0.471706</td>\n",
              "      <td>0.292811</td>\n",
              "      <td>0.414564</td>\n",
              "      <td>0.480202</td>\n",
              "      <td>0.525918</td>\n",
              "      <td>-1.903544</td>\n",
              "      <td>-2.496267</td>\n",
              "      <td>0.355364</td>\n",
              "      <td>...</td>\n",
              "      <td>0.584711</td>\n",
              "      <td>-2.438677</td>\n",
              "      <td>0.525918</td>\n",
              "      <td>0.372779</td>\n",
              "      <td>0.478722</td>\n",
              "      <td>0.400734</td>\n",
              "      <td>0.368825</td>\n",
              "      <td>-2.145499</td>\n",
              "      <td>-2.504217</td>\n",
              "      <td>0.465319</td>\n",
              "      <td>0.452783</td>\n",
              "      <td>0.370343</td>\n",
              "      <td>0.413619</td>\n",
              "      <td>-1.899326</td>\n",
              "      <td>0.394529</td>\n",
              "      <td>-1.380621</td>\n",
              "      <td>0.824843</td>\n",
              "      <td>0.468315</td>\n",
              "      <td>-1.920959</td>\n",
              "      <td>-1.007617</td>\n",
              "      <td>-1.008350</td>\n",
              "      <td>NaN</td>\n",
              "      <td>NaN</td>\n",
              "      <td>NaN</td>\n",
              "      <td>NaN</td>\n",
              "    </tr>\n",
              "    <tr>\n",
              "      <th>...</th>\n",
              "      <td>...</td>\n",
              "      <td>...</td>\n",
              "      <td>...</td>\n",
              "      <td>...</td>\n",
              "      <td>...</td>\n",
              "      <td>...</td>\n",
              "      <td>...</td>\n",
              "      <td>...</td>\n",
              "      <td>...</td>\n",
              "      <td>...</td>\n",
              "      <td>...</td>\n",
              "      <td>...</td>\n",
              "      <td>...</td>\n",
              "      <td>...</td>\n",
              "      <td>...</td>\n",
              "      <td>...</td>\n",
              "      <td>...</td>\n",
              "      <td>...</td>\n",
              "      <td>...</td>\n",
              "      <td>...</td>\n",
              "      <td>...</td>\n",
              "      <td>...</td>\n",
              "      <td>...</td>\n",
              "      <td>...</td>\n",
              "      <td>...</td>\n",
              "      <td>...</td>\n",
              "      <td>...</td>\n",
              "      <td>...</td>\n",
              "      <td>...</td>\n",
              "      <td>...</td>\n",
              "      <td>...</td>\n",
              "      <td>...</td>\n",
              "      <td>...</td>\n",
              "      <td>...</td>\n",
              "      <td>...</td>\n",
              "      <td>...</td>\n",
              "      <td>...</td>\n",
              "      <td>...</td>\n",
              "      <td>...</td>\n",
              "      <td>...</td>\n",
              "      <td>...</td>\n",
              "      <td>...</td>\n",
              "      <td>...</td>\n",
              "      <td>...</td>\n",
              "      <td>...</td>\n",
              "      <td>...</td>\n",
              "      <td>...</td>\n",
              "      <td>...</td>\n",
              "      <td>...</td>\n",
              "      <td>...</td>\n",
              "      <td>...</td>\n",
              "    </tr>\n",
              "    <tr>\n",
              "      <th>2020-03-20T00:00:00.000Z</th>\n",
              "      <td>0.359676</td>\n",
              "      <td>0.603970</td>\n",
              "      <td>0.457357</td>\n",
              "      <td>0.421784</td>\n",
              "      <td>0.364564</td>\n",
              "      <td>0.372994</td>\n",
              "      <td>0.493890</td>\n",
              "      <td>-1.980449</td>\n",
              "      <td>-2.410233</td>\n",
              "      <td>0.353013</td>\n",
              "      <td>0.455942</td>\n",
              "      <td>0.352218</td>\n",
              "      <td>0.457225</td>\n",
              "      <td>0.848828</td>\n",
              "      <td>0.452783</td>\n",
              "      <td>0.480202</td>\n",
              "      <td>0.584711</td>\n",
              "      <td>-2.438677</td>\n",
              "      <td>0.525918</td>\n",
              "      <td>0.372779</td>\n",
              "      <td>0.478722</td>\n",
              "      <td>0.400734</td>\n",
              "      <td>0.368825</td>\n",
              "      <td>-2.145499</td>\n",
              "      <td>-2.504217</td>\n",
              "      <td>...</td>\n",
              "      <td>NaN</td>\n",
              "      <td>NaN</td>\n",
              "      <td>NaN</td>\n",
              "      <td>NaN</td>\n",
              "      <td>NaN</td>\n",
              "      <td>NaN</td>\n",
              "      <td>NaN</td>\n",
              "      <td>NaN</td>\n",
              "      <td>NaN</td>\n",
              "      <td>NaN</td>\n",
              "      <td>NaN</td>\n",
              "      <td>NaN</td>\n",
              "      <td>NaN</td>\n",
              "      <td>NaN</td>\n",
              "      <td>NaN</td>\n",
              "      <td>NaN</td>\n",
              "      <td>NaN</td>\n",
              "      <td>NaN</td>\n",
              "      <td>NaN</td>\n",
              "      <td>NaN</td>\n",
              "      <td>NaN</td>\n",
              "      <td>NaN</td>\n",
              "      <td>NaN</td>\n",
              "      <td>NaN</td>\n",
              "      <td>NaN</td>\n",
              "    </tr>\n",
              "    <tr>\n",
              "      <th>2020-02-06T00:00:00.000Z</th>\n",
              "      <td>0.603970</td>\n",
              "      <td>0.457357</td>\n",
              "      <td>0.421784</td>\n",
              "      <td>0.364564</td>\n",
              "      <td>0.372994</td>\n",
              "      <td>0.493890</td>\n",
              "      <td>-1.980449</td>\n",
              "      <td>-2.410233</td>\n",
              "      <td>0.353013</td>\n",
              "      <td>0.455942</td>\n",
              "      <td>0.352218</td>\n",
              "      <td>0.457225</td>\n",
              "      <td>0.848828</td>\n",
              "      <td>0.452783</td>\n",
              "      <td>0.480202</td>\n",
              "      <td>0.584711</td>\n",
              "      <td>-2.438677</td>\n",
              "      <td>0.525918</td>\n",
              "      <td>0.372779</td>\n",
              "      <td>0.478722</td>\n",
              "      <td>0.400734</td>\n",
              "      <td>0.368825</td>\n",
              "      <td>-2.145499</td>\n",
              "      <td>-2.504217</td>\n",
              "      <td>0.465319</td>\n",
              "      <td>...</td>\n",
              "      <td>NaN</td>\n",
              "      <td>NaN</td>\n",
              "      <td>NaN</td>\n",
              "      <td>NaN</td>\n",
              "      <td>NaN</td>\n",
              "      <td>NaN</td>\n",
              "      <td>NaN</td>\n",
              "      <td>NaN</td>\n",
              "      <td>NaN</td>\n",
              "      <td>NaN</td>\n",
              "      <td>NaN</td>\n",
              "      <td>NaN</td>\n",
              "      <td>NaN</td>\n",
              "      <td>NaN</td>\n",
              "      <td>NaN</td>\n",
              "      <td>NaN</td>\n",
              "      <td>NaN</td>\n",
              "      <td>NaN</td>\n",
              "      <td>NaN</td>\n",
              "      <td>NaN</td>\n",
              "      <td>NaN</td>\n",
              "      <td>NaN</td>\n",
              "      <td>NaN</td>\n",
              "      <td>NaN</td>\n",
              "      <td>NaN</td>\n",
              "    </tr>\n",
              "    <tr>\n",
              "      <th>2020-04-17T00:00:00.000Z</th>\n",
              "      <td>0.457357</td>\n",
              "      <td>0.421784</td>\n",
              "      <td>0.364564</td>\n",
              "      <td>0.372994</td>\n",
              "      <td>0.493890</td>\n",
              "      <td>-1.980449</td>\n",
              "      <td>-2.410233</td>\n",
              "      <td>0.353013</td>\n",
              "      <td>0.455942</td>\n",
              "      <td>0.352218</td>\n",
              "      <td>0.457225</td>\n",
              "      <td>0.848828</td>\n",
              "      <td>0.452783</td>\n",
              "      <td>0.480202</td>\n",
              "      <td>0.584711</td>\n",
              "      <td>-2.438677</td>\n",
              "      <td>0.525918</td>\n",
              "      <td>0.372779</td>\n",
              "      <td>0.478722</td>\n",
              "      <td>0.400734</td>\n",
              "      <td>0.368825</td>\n",
              "      <td>-2.145499</td>\n",
              "      <td>-2.504217</td>\n",
              "      <td>0.465319</td>\n",
              "      <td>0.452783</td>\n",
              "      <td>...</td>\n",
              "      <td>NaN</td>\n",
              "      <td>NaN</td>\n",
              "      <td>NaN</td>\n",
              "      <td>NaN</td>\n",
              "      <td>NaN</td>\n",
              "      <td>NaN</td>\n",
              "      <td>NaN</td>\n",
              "      <td>NaN</td>\n",
              "      <td>NaN</td>\n",
              "      <td>NaN</td>\n",
              "      <td>NaN</td>\n",
              "      <td>NaN</td>\n",
              "      <td>NaN</td>\n",
              "      <td>NaN</td>\n",
              "      <td>NaN</td>\n",
              "      <td>NaN</td>\n",
              "      <td>NaN</td>\n",
              "      <td>NaN</td>\n",
              "      <td>NaN</td>\n",
              "      <td>NaN</td>\n",
              "      <td>NaN</td>\n",
              "      <td>NaN</td>\n",
              "      <td>NaN</td>\n",
              "      <td>NaN</td>\n",
              "      <td>NaN</td>\n",
              "    </tr>\n",
              "    <tr>\n",
              "      <th>2020-04-11T00:00:00.000Z</th>\n",
              "      <td>0.421784</td>\n",
              "      <td>0.364564</td>\n",
              "      <td>0.372994</td>\n",
              "      <td>0.493890</td>\n",
              "      <td>-1.980449</td>\n",
              "      <td>-2.410233</td>\n",
              "      <td>0.353013</td>\n",
              "      <td>0.455942</td>\n",
              "      <td>0.352218</td>\n",
              "      <td>0.457225</td>\n",
              "      <td>0.848828</td>\n",
              "      <td>0.452783</td>\n",
              "      <td>0.480202</td>\n",
              "      <td>0.584711</td>\n",
              "      <td>-2.438677</td>\n",
              "      <td>0.525918</td>\n",
              "      <td>0.372779</td>\n",
              "      <td>0.478722</td>\n",
              "      <td>0.400734</td>\n",
              "      <td>0.368825</td>\n",
              "      <td>-2.145499</td>\n",
              "      <td>-2.504217</td>\n",
              "      <td>0.465319</td>\n",
              "      <td>0.452783</td>\n",
              "      <td>0.370343</td>\n",
              "      <td>...</td>\n",
              "      <td>NaN</td>\n",
              "      <td>NaN</td>\n",
              "      <td>NaN</td>\n",
              "      <td>NaN</td>\n",
              "      <td>NaN</td>\n",
              "      <td>NaN</td>\n",
              "      <td>NaN</td>\n",
              "      <td>NaN</td>\n",
              "      <td>NaN</td>\n",
              "      <td>NaN</td>\n",
              "      <td>NaN</td>\n",
              "      <td>NaN</td>\n",
              "      <td>NaN</td>\n",
              "      <td>NaN</td>\n",
              "      <td>NaN</td>\n",
              "      <td>NaN</td>\n",
              "      <td>NaN</td>\n",
              "      <td>NaN</td>\n",
              "      <td>NaN</td>\n",
              "      <td>NaN</td>\n",
              "      <td>NaN</td>\n",
              "      <td>NaN</td>\n",
              "      <td>NaN</td>\n",
              "      <td>NaN</td>\n",
              "      <td>NaN</td>\n",
              "    </tr>\n",
              "    <tr>\n",
              "      <th>2020-03-16T00:00:00.000Z</th>\n",
              "      <td>0.364564</td>\n",
              "      <td>0.372994</td>\n",
              "      <td>0.493890</td>\n",
              "      <td>-1.980449</td>\n",
              "      <td>-2.410233</td>\n",
              "      <td>0.353013</td>\n",
              "      <td>0.455942</td>\n",
              "      <td>0.352218</td>\n",
              "      <td>0.457225</td>\n",
              "      <td>0.848828</td>\n",
              "      <td>0.452783</td>\n",
              "      <td>0.480202</td>\n",
              "      <td>0.584711</td>\n",
              "      <td>-2.438677</td>\n",
              "      <td>0.525918</td>\n",
              "      <td>0.372779</td>\n",
              "      <td>0.478722</td>\n",
              "      <td>0.400734</td>\n",
              "      <td>0.368825</td>\n",
              "      <td>-2.145499</td>\n",
              "      <td>-2.504217</td>\n",
              "      <td>0.465319</td>\n",
              "      <td>0.452783</td>\n",
              "      <td>0.370343</td>\n",
              "      <td>0.413619</td>\n",
              "      <td>...</td>\n",
              "      <td>NaN</td>\n",
              "      <td>NaN</td>\n",
              "      <td>NaN</td>\n",
              "      <td>NaN</td>\n",
              "      <td>NaN</td>\n",
              "      <td>NaN</td>\n",
              "      <td>NaN</td>\n",
              "      <td>NaN</td>\n",
              "      <td>NaN</td>\n",
              "      <td>NaN</td>\n",
              "      <td>NaN</td>\n",
              "      <td>NaN</td>\n",
              "      <td>NaN</td>\n",
              "      <td>NaN</td>\n",
              "      <td>NaN</td>\n",
              "      <td>NaN</td>\n",
              "      <td>NaN</td>\n",
              "      <td>NaN</td>\n",
              "      <td>NaN</td>\n",
              "      <td>NaN</td>\n",
              "      <td>NaN</td>\n",
              "      <td>NaN</td>\n",
              "      <td>NaN</td>\n",
              "      <td>NaN</td>\n",
              "      <td>NaN</td>\n",
              "    </tr>\n",
              "  </tbody>\n",
              "</table>\n",
              "<p>90 rows × 122 columns</p>\n",
              "</div>"
            ],
            "text/plain": [
              "                           shift 0   shift 1   shift 2   shift 3   shift 4   shift 5   shift 6   shift 7   shift 8   shift 9  shift 10  shift 11  shift 12  shift 13  shift 14  shift 15  shift 16  shift 17  shift 18  shift 19  shift 20  shift 21  \\\n",
              "followers timestp                                                                                                                                                                                                                                      \n",
              "2020-02-14T00:00:00.000Z -1.006349  0.465030 -2.447706  0.471765 -1.377302  0.377760  0.403422  0.466589  0.458572  0.373050  0.716777  0.468315  0.468315  0.399253  0.815542  0.625047 -2.014575  0.450470  0.832795  0.373054 -2.485559  0.471706   \n",
              "2020-04-24T00:00:00.000Z  0.465030 -2.447706  0.471765 -1.377302  0.377760  0.403422  0.466589  0.458572  0.373050  0.716777  0.468315  0.468315  0.399253  0.815542  0.625047 -2.014575  0.450470  0.832795  0.373054 -2.485559  0.471706  0.292811   \n",
              "2020-01-05T00:00:00.000Z -2.447706  0.471765 -1.377302  0.377760  0.403422  0.466589  0.458572  0.373050  0.716777  0.468315  0.468315  0.399253  0.815542  0.625047 -2.014575  0.450470  0.832795  0.373054 -2.485559  0.471706  0.292811  0.414564   \n",
              "2020-05-08T00:00:00.000Z  0.471765 -1.377302  0.377760  0.403422  0.466589  0.458572  0.373050  0.716777  0.468315  0.468315  0.399253  0.815542  0.625047 -2.014575  0.450470  0.832795  0.373054 -2.485559  0.471706  0.292811  0.414564  0.480202   \n",
              "2020-02-25T00:00:00.000Z -1.377302  0.377760  0.403422  0.466589  0.458572  0.373050  0.716777  0.468315  0.468315  0.399253  0.815542  0.625047 -2.014575  0.450470  0.832795  0.373054 -2.485559  0.471706  0.292811  0.414564  0.480202  0.525918   \n",
              "...                            ...       ...       ...       ...       ...       ...       ...       ...       ...       ...       ...       ...       ...       ...       ...       ...       ...       ...       ...       ...       ...       ...   \n",
              "2020-03-20T00:00:00.000Z  0.359676  0.603970  0.457357  0.421784  0.364564  0.372994  0.493890 -1.980449 -2.410233  0.353013  0.455942  0.352218  0.457225  0.848828  0.452783  0.480202  0.584711 -2.438677  0.525918  0.372779  0.478722  0.400734   \n",
              "2020-02-06T00:00:00.000Z  0.603970  0.457357  0.421784  0.364564  0.372994  0.493890 -1.980449 -2.410233  0.353013  0.455942  0.352218  0.457225  0.848828  0.452783  0.480202  0.584711 -2.438677  0.525918  0.372779  0.478722  0.400734  0.368825   \n",
              "2020-04-17T00:00:00.000Z  0.457357  0.421784  0.364564  0.372994  0.493890 -1.980449 -2.410233  0.353013  0.455942  0.352218  0.457225  0.848828  0.452783  0.480202  0.584711 -2.438677  0.525918  0.372779  0.478722  0.400734  0.368825 -2.145499   \n",
              "2020-04-11T00:00:00.000Z  0.421784  0.364564  0.372994  0.493890 -1.980449 -2.410233  0.353013  0.455942  0.352218  0.457225  0.848828  0.452783  0.480202  0.584711 -2.438677  0.525918  0.372779  0.478722  0.400734  0.368825 -2.145499 -2.504217   \n",
              "2020-03-16T00:00:00.000Z  0.364564  0.372994  0.493890 -1.980449 -2.410233  0.353013  0.455942  0.352218  0.457225  0.848828  0.452783  0.480202  0.584711 -2.438677  0.525918  0.372779  0.478722  0.400734  0.368825 -2.145499 -2.504217  0.465319   \n",
              "\n",
              "                          shift 22  shift 23  shift 24  ...  shift 97  shift 98  shift 99  shift 100  shift 101  shift 102  shift 103  shift 104  shift 105  shift 106  shift 107  shift 108  shift 109  shift 110  shift 111  shift 112  shift 113  \\\n",
              "followers timestp                                       ...                                                                                                                                                                                           \n",
              "2020-02-14T00:00:00.000Z  0.292811  0.414564  0.480202  ...  0.457225  0.848828  0.452783   0.480202   0.584711  -2.438677   0.525918   0.372779   0.478722   0.400734   0.368825  -2.145499  -2.504217   0.465319   0.452783   0.370343   0.413619   \n",
              "2020-04-24T00:00:00.000Z  0.414564  0.480202  0.525918  ...  0.848828  0.452783  0.480202   0.584711  -2.438677   0.525918   0.372779   0.478722   0.400734   0.368825  -2.145499  -2.504217   0.465319   0.452783   0.370343   0.413619  -1.899326   \n",
              "2020-01-05T00:00:00.000Z  0.480202  0.525918 -1.903544  ...  0.452783  0.480202  0.584711  -2.438677   0.525918   0.372779   0.478722   0.400734   0.368825  -2.145499  -2.504217   0.465319   0.452783   0.370343   0.413619  -1.899326   0.394529   \n",
              "2020-05-08T00:00:00.000Z  0.525918 -1.903544 -2.496267  ...  0.480202  0.584711 -2.438677   0.525918   0.372779   0.478722   0.400734   0.368825  -2.145499  -2.504217   0.465319   0.452783   0.370343   0.413619  -1.899326   0.394529  -1.380621   \n",
              "2020-02-25T00:00:00.000Z -1.903544 -2.496267  0.355364  ...  0.584711 -2.438677  0.525918   0.372779   0.478722   0.400734   0.368825  -2.145499  -2.504217   0.465319   0.452783   0.370343   0.413619  -1.899326   0.394529  -1.380621   0.824843   \n",
              "...                            ...       ...       ...  ...       ...       ...       ...        ...        ...        ...        ...        ...        ...        ...        ...        ...        ...        ...        ...        ...        ...   \n",
              "2020-03-20T00:00:00.000Z  0.368825 -2.145499 -2.504217  ...       NaN       NaN       NaN        NaN        NaN        NaN        NaN        NaN        NaN        NaN        NaN        NaN        NaN        NaN        NaN        NaN        NaN   \n",
              "2020-02-06T00:00:00.000Z -2.145499 -2.504217  0.465319  ...       NaN       NaN       NaN        NaN        NaN        NaN        NaN        NaN        NaN        NaN        NaN        NaN        NaN        NaN        NaN        NaN        NaN   \n",
              "2020-04-17T00:00:00.000Z -2.504217  0.465319  0.452783  ...       NaN       NaN       NaN        NaN        NaN        NaN        NaN        NaN        NaN        NaN        NaN        NaN        NaN        NaN        NaN        NaN        NaN   \n",
              "2020-04-11T00:00:00.000Z  0.465319  0.452783  0.370343  ...       NaN       NaN       NaN        NaN        NaN        NaN        NaN        NaN        NaN        NaN        NaN        NaN        NaN        NaN        NaN        NaN        NaN   \n",
              "2020-03-16T00:00:00.000Z  0.452783  0.370343  0.413619  ...       NaN       NaN       NaN        NaN        NaN        NaN        NaN        NaN        NaN        NaN        NaN        NaN        NaN        NaN        NaN        NaN        NaN   \n",
              "\n",
              "                          shift 114  shift 115  shift 116  shift 117  shift 118  shift 119  shift 120  shift 121  \n",
              "followers timestp                                                                                                 \n",
              "2020-02-14T00:00:00.000Z  -1.899326   0.394529  -1.380621   0.824843   0.468315  -1.920959  -1.007617   -1.00835  \n",
              "2020-04-24T00:00:00.000Z   0.394529  -1.380621   0.824843   0.468315  -1.920959  -1.007617  -1.008350        NaN  \n",
              "2020-01-05T00:00:00.000Z  -1.380621   0.824843   0.468315  -1.920959  -1.007617  -1.008350        NaN        NaN  \n",
              "2020-05-08T00:00:00.000Z   0.824843   0.468315  -1.920959  -1.007617  -1.008350        NaN        NaN        NaN  \n",
              "2020-02-25T00:00:00.000Z   0.468315  -1.920959  -1.007617  -1.008350        NaN        NaN        NaN        NaN  \n",
              "...                             ...        ...        ...        ...        ...        ...        ...        ...  \n",
              "2020-03-20T00:00:00.000Z        NaN        NaN        NaN        NaN        NaN        NaN        NaN        NaN  \n",
              "2020-02-06T00:00:00.000Z        NaN        NaN        NaN        NaN        NaN        NaN        NaN        NaN  \n",
              "2020-04-17T00:00:00.000Z        NaN        NaN        NaN        NaN        NaN        NaN        NaN        NaN  \n",
              "2020-04-11T00:00:00.000Z        NaN        NaN        NaN        NaN        NaN        NaN        NaN        NaN  \n",
              "2020-03-16T00:00:00.000Z        NaN        NaN        NaN        NaN        NaN        NaN        NaN        NaN  \n",
              "\n",
              "[90 rows x 122 columns]"
            ]
          },
          "metadata": {
            "tags": []
          },
          "execution_count": 77
        }
      ]
    },
    {
      "cell_type": "markdown",
      "metadata": {
        "id": "M_EsaRmZaOxg"
      },
      "source": [
        "#### XGBOOST tree leaf nodes"
      ]
    },
    {
      "cell_type": "code",
      "metadata": {
        "id": "DLiqJCd6b5dW",
        "colab": {
          "base_uri": "https://localhost:8080/"
        },
        "outputId": "40eef192-680e-48ae-c5e2-1ee6b60d9b89"
      },
      "source": [
        "pred_over90 = lin_reg_forcast(MM,Y='shift 0')"
      ],
      "execution_count": 78,
      "outputs": [
        {
          "output_type": "stream",
          "text": [
            "[[11  5  9  6 18 14 14  9  1  4]\n",
            " [ 9 13  9 10  7  7  7  9 15 10]\n",
            " [ 5 11  9  1  8  1  5 16  9  4]\n",
            " [14 13 14 11 17 14  5  9 14  4]\n",
            " [11  9 11  1 15 13 12 16  9  4]\n",
            " [11 12 14  6 15 16 12 11 12 12]\n",
            " [14  9 11  4 12 13 13 15  5  4]\n",
            " [13 13  4  1 17  4  4  9  1  3]\n",
            " [ 5 11  9 10 18  7  7 14 15 10]\n",
            " [ 1  3  9  1 18  1  1  1 12  3]\n",
            " [ 3  3 14  1 15 13 12  3  9  3]\n",
            " [14 13  9 10  2  1  7 16 12  4]\n",
            " [ 9  9 13 11 14 13 10  9 14 10]\n",
            " [12 13  9 10 12  9 13 11 15  7]\n",
            " [ 9  9  7  9  8  4  5  3  1 11]\n",
            " [ 1  2  2  6  2  1  4  1  4  5]\n",
            " [11  3  9  1  7 14  4  3  1  3]\n",
            " [12 11  9  4  7 13 13  3 13 12]\n",
            " [14 13  5 11 18  5 14 12 14 10]\n",
            " [13 11 14 11 11 15 14 12 14  5]\n",
            " [11 11 14  6 13  1  1 14 13 11]\n",
            " [13 11 14 11 18 15  5 12 14 12]\n",
            " [11  5 14  6 13  7  4 16 13  5]\n",
            " [12 14  7  6 14  9  1  3  1  4]\n",
            " [ 3  2  2  4  7  5  4  5  4  3]\n",
            " [11  9  5  6  7 13  1  3 15  4]\n",
            " [12 12 13  6 15 15  5 11 13 11]\n",
            " [11  2  2  6 11  7  7 15  4  7]\n",
            " [ 1  9  7 11 11  1  1  1  1 12]\n",
            " [14  9 14 11 18  7  7  9 14 12]\n",
            " [ 5 11  9  4 13  1 10 15 12 12]\n",
            " [13 14  9  9 18 15 14  5  4 10]\n",
            " [11  5  9  6 15  1  7 16 12 11]\n",
            " [12 12  5  6 14  9 10 15 16 11]\n",
            " [ 5 12 13 11 13  5 12 11 13 11]\n",
            " [13 12 13  4 17 15 14  5  5 10]\n",
            " [13 11 14 12 11 16 14 11  5 12]\n",
            " [14 13  5 11 14  7  7  9  9  3]\n",
            " [ 5 11 13 11  2  1 14  3 13  5]\n",
            " [13  9  4  9 17  1 14 11 13  7]\n",
            " [11  5 11 12  8  1 12 11 15  7]\n",
            " [12 13  5  6 12  9  5 15 16  3]\n",
            " [ 1  5  4  4  2  4 14  1 13  5]\n",
            " [14 13 13 12 14 15 14  9 16 10]\n",
            " [ 9  2  9 10 13 14 10 15 16 11]\n",
            " [ 9 11 13 12 11 15 13 11 12 12]\n",
            " [ 9 13  7  9 14 14  4  3  9  4]\n",
            " [13  3 13  1 12 14 10 16  4  4]\n",
            " [ 3 13 14 12 12  7  7  3 15 11]\n",
            " [13 11 14 11  8  5 14 12 14  7]\n",
            " [ 1 12 14  6 13 16 13  1 12 12]\n",
            " [13 14  9 10 13  4  4 11 16 12]\n",
            " [12 13  7  6 11  4  5 15 15  7]\n",
            " [ 1 13  4  6 13  7  7  1 16  7]\n",
            " [ 3  9 11  4 15 16 13  5  1 11]\n",
            " [ 5 14 11 11  7 16 10 14  4 12]\n",
            " [ 3 14  7 12 11  9  5  5 16 11]\n",
            " [ 9 13 11 10  8 14  4 16 16  7]\n",
            " [11  2  2  6  2  7  7 15 13  3]\n",
            " [13 12 14  9  2  1  4 16 14  5]\n",
            " [11  9 11  6 11  4 12  3 13  7]\n",
            " [13 12 14 12 18  5  4 14 16  4]\n",
            " [ 3  5  4  6  7  4  5  5  5 11]\n",
            " [13  3 14  1 12 14  7  9 16  4]\n",
            " [14 14  9  4  8  9 12 14  5 12]\n",
            " [ 1 13  4  4  8  9  4  1 15  7]\n",
            " [14 12 13 11 17 16 13 12 14 10]\n",
            " [13  9  5 11 13 16 10 11  4  7]\n",
            " [ 1  2  2 10 11  1  1  1  1  3]\n",
            " [11 13 11  6  8  5 14  9  1  5]\n",
            " [ 9 14 14 11 14  5 14 12 14 10]\n",
            " [ 5  9  9  9 17 13 12  9  9  3]]\n"
          ],
          "name": "stdout"
        }
      ]
    },
    {
      "cell_type": "markdown",
      "metadata": {
        "id": "m-Fk2QwiaUH9"
      },
      "source": [
        "### Artist Scores for next 90 time series step based from group by Chartmetric ID and Time series data\n"
      ]
    },
    {
      "cell_type": "code",
      "metadata": {
        "id": "Rm-7BTKHc_ht",
        "colab": {
          "base_uri": "https://localhost:8080/"
        },
        "outputId": "555415b2-8f4a-4da6-bd6f-7e4168f1307b"
      },
      "source": [
        "pred_over90"
      ],
      "execution_count": 79,
      "outputs": [
        {
          "output_type": "execute_result",
          "data": {
            "text/plain": [
              "array([ 0.35178617,  0.4977964 ,  0.2326887 ,  0.4812169 ,  0.4141981 ,\n",
              "        0.5050475 ,  0.4741042 , -0.12569708,  0.5143699 , -0.42645568,\n",
              "       -0.09984386,  0.35448748,  0.4959187 ,  0.63886493,  0.21189356,\n",
              "       -0.41822508, -0.28094298,  0.28670615,  0.44848344,  0.37363517,\n",
              "        0.27072304,  0.40409988,  0.3590427 ,  0.26969182, -0.39887518,\n",
              "        0.25995964,  0.51711005,  0.2735655 , -0.11324809,  0.49750555,\n",
              "        0.3204757 ,  0.3503912 ,  0.39185244,  0.63542295,  0.42264482,\n",
              "        0.33802304,  0.4444964 ,  0.40536773,  0.07591633,  0.31361225,\n",
              "        0.38125268,  0.44613564, -0.17986184,  0.51447576,  0.4403884 ,\n",
              "        0.48361355,  0.4125698 ,  0.2378223 ,  0.42483628,  0.41892576,\n",
              "        0.22865881,  0.35520726,  0.5331767 ,  0.26477692,  0.198776  ,\n",
              "        0.30819207,  0.3877803 ,  0.51190716,  0.04352462,  0.13361496,\n",
              "        0.3584727 ,  0.37672216,  0.04142349,  0.3025704 ,  0.45428467,\n",
              "        0.1269933 ,  0.45181045,  0.45830917, -0.54416883,  0.31102553,\n",
              "        0.43160623,  0.28997862], dtype=float32)"
            ]
          },
          "metadata": {
            "tags": []
          },
          "execution_count": 79
        }
      ]
    },
    {
      "cell_type": "markdown",
      "metadata": {
        "id": "RdzspVXubSuD"
      },
      "source": [
        "### Preliminary Logistic Regression <- FIX ME"
      ]
    },
    {
      "cell_type": "code",
      "metadata": {
        "id": "bT7xVwWJD1ll",
        "colab": {
          "base_uri": "https://localhost:8080/",
          "height": 611
        },
        "outputId": "e71b5d90-5242-44cc-b35a-3820f3a909e5"
      },
      "source": [
        "basic_logistic_regression(pd.DataFrame(stats.zscore(dtrain),columns=dtrain.columns),cutoff=np.mean(stats.zscore(dtrain))*2)"
      ],
      "execution_count": 80,
      "outputs": [
        {
          "output_type": "error",
          "ename": "KeyError",
          "evalue": "ignored",
          "traceback": [
            "\u001b[0;31m---------------------------------------------------------------------------\u001b[0m",
            "\u001b[0;31mKeyError\u001b[0m                                  Traceback (most recent call last)",
            "\u001b[0;32m/usr/local/lib/python3.6/dist-packages/pandas/core/indexes/base.py\u001b[0m in \u001b[0;36mget_loc\u001b[0;34m(self, key, method, tolerance)\u001b[0m\n\u001b[1;32m   2897\u001b[0m             \u001b[0;32mtry\u001b[0m\u001b[0;34m:\u001b[0m\u001b[0;34m\u001b[0m\u001b[0;34m\u001b[0m\u001b[0m\n\u001b[0;32m-> 2898\u001b[0;31m                 \u001b[0;32mreturn\u001b[0m \u001b[0mself\u001b[0m\u001b[0;34m.\u001b[0m\u001b[0m_engine\u001b[0m\u001b[0;34m.\u001b[0m\u001b[0mget_loc\u001b[0m\u001b[0;34m(\u001b[0m\u001b[0mcasted_key\u001b[0m\u001b[0;34m)\u001b[0m\u001b[0;34m\u001b[0m\u001b[0;34m\u001b[0m\u001b[0m\n\u001b[0m\u001b[1;32m   2899\u001b[0m             \u001b[0;32mexcept\u001b[0m \u001b[0mKeyError\u001b[0m \u001b[0;32mas\u001b[0m \u001b[0merr\u001b[0m\u001b[0;34m:\u001b[0m\u001b[0;34m\u001b[0m\u001b[0;34m\u001b[0m\u001b[0m\n",
            "\u001b[0;32mpandas/_libs/index.pyx\u001b[0m in \u001b[0;36mpandas._libs.index.IndexEngine.get_loc\u001b[0;34m()\u001b[0m\n",
            "\u001b[0;32mpandas/_libs/index.pyx\u001b[0m in \u001b[0;36mpandas._libs.index.IndexEngine.get_loc\u001b[0;34m()\u001b[0m\n",
            "\u001b[0;32mpandas/_libs/hashtable_class_helper.pxi\u001b[0m in \u001b[0;36mpandas._libs.hashtable.PyObjectHashTable.get_item\u001b[0;34m()\u001b[0m\n",
            "\u001b[0;32mpandas/_libs/hashtable_class_helper.pxi\u001b[0m in \u001b[0;36mpandas._libs.hashtable.PyObjectHashTable.get_item\u001b[0;34m()\u001b[0m\n",
            "\u001b[0;31mKeyError\u001b[0m: 'pop_bin'",
            "\nThe above exception was the direct cause of the following exception:\n",
            "\u001b[0;31mKeyError\u001b[0m                                  Traceback (most recent call last)",
            "\u001b[0;32m<ipython-input-80-8dad22bb302c>\u001b[0m in \u001b[0;36m<module>\u001b[0;34m()\u001b[0m\n\u001b[0;32m----> 1\u001b[0;31m \u001b[0mbasic_logistic_regression\u001b[0m\u001b[0;34m(\u001b[0m\u001b[0mpd\u001b[0m\u001b[0;34m.\u001b[0m\u001b[0mDataFrame\u001b[0m\u001b[0;34m(\u001b[0m\u001b[0mstats\u001b[0m\u001b[0;34m.\u001b[0m\u001b[0mzscore\u001b[0m\u001b[0;34m(\u001b[0m\u001b[0mdtrain\u001b[0m\u001b[0;34m)\u001b[0m\u001b[0;34m,\u001b[0m\u001b[0mcolumns\u001b[0m\u001b[0;34m=\u001b[0m\u001b[0mdtrain\u001b[0m\u001b[0;34m.\u001b[0m\u001b[0mcolumns\u001b[0m\u001b[0;34m)\u001b[0m\u001b[0;34m,\u001b[0m\u001b[0mcutoff\u001b[0m\u001b[0;34m=\u001b[0m\u001b[0mnp\u001b[0m\u001b[0;34m.\u001b[0m\u001b[0mmean\u001b[0m\u001b[0;34m(\u001b[0m\u001b[0mstats\u001b[0m\u001b[0;34m.\u001b[0m\u001b[0mzscore\u001b[0m\u001b[0;34m(\u001b[0m\u001b[0mdtrain\u001b[0m\u001b[0;34m)\u001b[0m\u001b[0;34m)\u001b[0m\u001b[0;34m*\u001b[0m\u001b[0;36m2\u001b[0m\u001b[0;34m)\u001b[0m\u001b[0;34m\u001b[0m\u001b[0;34m\u001b[0m\u001b[0m\n\u001b[0m",
            "\u001b[0;32m<ipython-input-57-f1f016252bfd>\u001b[0m in \u001b[0;36mbasic_logistic_regression\u001b[0;34m(df, cutoff, col, rand, sig_only)\u001b[0m\n\u001b[1;32m    465\u001b[0m \u001b[0;32mdef\u001b[0m \u001b[0mbasic_logistic_regression\u001b[0m\u001b[0;34m(\u001b[0m\u001b[0mdf\u001b[0m\u001b[0;34m,\u001b[0m \u001b[0mcutoff\u001b[0m\u001b[0;34m,\u001b[0m\u001b[0mcol\u001b[0m\u001b[0;34m=\u001b[0m\u001b[0;34m'pop_bin'\u001b[0m\u001b[0;34m,\u001b[0m \u001b[0mrand\u001b[0m\u001b[0;34m=\u001b[0m\u001b[0;36m0\u001b[0m\u001b[0;34m,\u001b[0m \u001b[0msig_only\u001b[0m\u001b[0;34m=\u001b[0m\u001b[0;32mFalse\u001b[0m\u001b[0;34m)\u001b[0m\u001b[0;34m:\u001b[0m\u001b[0;34m\u001b[0m\u001b[0;34m\u001b[0m\u001b[0m\n\u001b[1;32m    466\u001b[0m     \u001b[0mdf\u001b[0m \u001b[0;34m=\u001b[0m \u001b[0mdf\u001b[0m\u001b[0;34m.\u001b[0m\u001b[0mcopy\u001b[0m\u001b[0;34m(\u001b[0m\u001b[0;34m)\u001b[0m\u001b[0;34m\u001b[0m\u001b[0;34m\u001b[0m\u001b[0m\n\u001b[0;32m--> 467\u001b[0;31m     \u001b[0mX\u001b[0m\u001b[0;34m,\u001b[0m \u001b[0my\u001b[0m \u001b[0;34m=\u001b[0m \u001b[0mreturn_X_y_logistic\u001b[0m\u001b[0;34m(\u001b[0m\u001b[0msplit_sample_combine\u001b[0m\u001b[0;34m(\u001b[0m\u001b[0mdf\u001b[0m\u001b[0;34m,\u001b[0m \u001b[0mcutoff\u001b[0m\u001b[0;34m,\u001b[0m\u001b[0mcol\u001b[0m\u001b[0;34m,\u001b[0m \u001b[0mrand\u001b[0m\u001b[0;34m=\u001b[0m\u001b[0mrand\u001b[0m\u001b[0;34m)\u001b[0m\u001b[0;34m)\u001b[0m\u001b[0;34m\u001b[0m\u001b[0;34m\u001b[0m\u001b[0m\n\u001b[0m\u001b[1;32m    468\u001b[0m     \u001b[0mX\u001b[0m \u001b[0;34m=\u001b[0m \u001b[0mstandardize_X\u001b[0m\u001b[0;34m(\u001b[0m\u001b[0mX\u001b[0m\u001b[0;34m)\u001b[0m\u001b[0;34m\u001b[0m\u001b[0;34m\u001b[0m\u001b[0m\n\u001b[1;32m    469\u001b[0m     \u001b[0mX_const\u001b[0m \u001b[0;34m=\u001b[0m \u001b[0madd_constant\u001b[0m\u001b[0;34m(\u001b[0m\u001b[0mX\u001b[0m\u001b[0;34m,\u001b[0m \u001b[0mprepend\u001b[0m\u001b[0;34m=\u001b[0m\u001b[0;32mTrue\u001b[0m\u001b[0;34m)\u001b[0m\u001b[0;34m\u001b[0m\u001b[0;34m\u001b[0m\u001b[0m\n",
            "\u001b[0;32m<ipython-input-57-f1f016252bfd>\u001b[0m in \u001b[0;36msplit_sample_combine\u001b[0;34m(df, cutoff, col, rand)\u001b[0m\n\u001b[1;32m    361\u001b[0m \u001b[0;32mdef\u001b[0m \u001b[0msplit_sample_combine\u001b[0m\u001b[0;34m(\u001b[0m\u001b[0mdf\u001b[0m\u001b[0;34m,\u001b[0m \u001b[0mcutoff\u001b[0m\u001b[0;34m,\u001b[0m \u001b[0mcol\u001b[0m\u001b[0;34m=\u001b[0m\u001b[0;34m'fx popularity'\u001b[0m\u001b[0;34m,\u001b[0m \u001b[0mrand\u001b[0m\u001b[0;34m=\u001b[0m\u001b[0;32mNone\u001b[0m\u001b[0;34m)\u001b[0m\u001b[0;34m:\u001b[0m\u001b[0;34m\u001b[0m\u001b[0;34m\u001b[0m\u001b[0m\n\u001b[1;32m    362\u001b[0m     \u001b[0;31m# split out popular rows above the popularity cutoff\u001b[0m\u001b[0;34m\u001b[0m\u001b[0;34m\u001b[0m\u001b[0;34m\u001b[0m\u001b[0m\n\u001b[0;32m--> 363\u001b[0;31m     \u001b[0msplit_pop_df\u001b[0m \u001b[0;34m=\u001b[0m \u001b[0mdf\u001b[0m\u001b[0;34m[\u001b[0m\u001b[0mdf\u001b[0m\u001b[0;34m[\u001b[0m\u001b[0mcol\u001b[0m\u001b[0;34m]\u001b[0m \u001b[0;34m>=\u001b[0m \u001b[0mcutoff\u001b[0m\u001b[0;34m]\u001b[0m\u001b[0;34m.\u001b[0m\u001b[0mcopy\u001b[0m\u001b[0;34m(\u001b[0m\u001b[0;34m)\u001b[0m\u001b[0;34m\u001b[0m\u001b[0;34m\u001b[0m\u001b[0m\n\u001b[0m\u001b[1;32m    364\u001b[0m \u001b[0;34m\u001b[0m\u001b[0m\n\u001b[1;32m    365\u001b[0m     \u001b[0;31m# get the leftover rows, the 'unpopular' songs\u001b[0m\u001b[0;34m\u001b[0m\u001b[0;34m\u001b[0m\u001b[0;34m\u001b[0m\u001b[0m\n",
            "\u001b[0;32m/usr/local/lib/python3.6/dist-packages/pandas/core/frame.py\u001b[0m in \u001b[0;36m__getitem__\u001b[0;34m(self, key)\u001b[0m\n\u001b[1;32m   2904\u001b[0m             \u001b[0;32mif\u001b[0m \u001b[0mself\u001b[0m\u001b[0;34m.\u001b[0m\u001b[0mcolumns\u001b[0m\u001b[0;34m.\u001b[0m\u001b[0mnlevels\u001b[0m \u001b[0;34m>\u001b[0m \u001b[0;36m1\u001b[0m\u001b[0;34m:\u001b[0m\u001b[0;34m\u001b[0m\u001b[0;34m\u001b[0m\u001b[0m\n\u001b[1;32m   2905\u001b[0m                 \u001b[0;32mreturn\u001b[0m \u001b[0mself\u001b[0m\u001b[0;34m.\u001b[0m\u001b[0m_getitem_multilevel\u001b[0m\u001b[0;34m(\u001b[0m\u001b[0mkey\u001b[0m\u001b[0;34m)\u001b[0m\u001b[0;34m\u001b[0m\u001b[0;34m\u001b[0m\u001b[0m\n\u001b[0;32m-> 2906\u001b[0;31m             \u001b[0mindexer\u001b[0m \u001b[0;34m=\u001b[0m \u001b[0mself\u001b[0m\u001b[0;34m.\u001b[0m\u001b[0mcolumns\u001b[0m\u001b[0;34m.\u001b[0m\u001b[0mget_loc\u001b[0m\u001b[0;34m(\u001b[0m\u001b[0mkey\u001b[0m\u001b[0;34m)\u001b[0m\u001b[0;34m\u001b[0m\u001b[0;34m\u001b[0m\u001b[0m\n\u001b[0m\u001b[1;32m   2907\u001b[0m             \u001b[0;32mif\u001b[0m \u001b[0mis_integer\u001b[0m\u001b[0;34m(\u001b[0m\u001b[0mindexer\u001b[0m\u001b[0;34m)\u001b[0m\u001b[0;34m:\u001b[0m\u001b[0;34m\u001b[0m\u001b[0;34m\u001b[0m\u001b[0m\n\u001b[1;32m   2908\u001b[0m                 \u001b[0mindexer\u001b[0m \u001b[0;34m=\u001b[0m \u001b[0;34m[\u001b[0m\u001b[0mindexer\u001b[0m\u001b[0;34m]\u001b[0m\u001b[0;34m\u001b[0m\u001b[0;34m\u001b[0m\u001b[0m\n",
            "\u001b[0;32m/usr/local/lib/python3.6/dist-packages/pandas/core/indexes/base.py\u001b[0m in \u001b[0;36mget_loc\u001b[0;34m(self, key, method, tolerance)\u001b[0m\n\u001b[1;32m   2898\u001b[0m                 \u001b[0;32mreturn\u001b[0m \u001b[0mself\u001b[0m\u001b[0;34m.\u001b[0m\u001b[0m_engine\u001b[0m\u001b[0;34m.\u001b[0m\u001b[0mget_loc\u001b[0m\u001b[0;34m(\u001b[0m\u001b[0mcasted_key\u001b[0m\u001b[0;34m)\u001b[0m\u001b[0;34m\u001b[0m\u001b[0;34m\u001b[0m\u001b[0m\n\u001b[1;32m   2899\u001b[0m             \u001b[0;32mexcept\u001b[0m \u001b[0mKeyError\u001b[0m \u001b[0;32mas\u001b[0m \u001b[0merr\u001b[0m\u001b[0;34m:\u001b[0m\u001b[0;34m\u001b[0m\u001b[0;34m\u001b[0m\u001b[0m\n\u001b[0;32m-> 2900\u001b[0;31m                 \u001b[0;32mraise\u001b[0m \u001b[0mKeyError\u001b[0m\u001b[0;34m(\u001b[0m\u001b[0mkey\u001b[0m\u001b[0;34m)\u001b[0m \u001b[0;32mfrom\u001b[0m \u001b[0merr\u001b[0m\u001b[0;34m\u001b[0m\u001b[0;34m\u001b[0m\u001b[0m\n\u001b[0m\u001b[1;32m   2901\u001b[0m \u001b[0;34m\u001b[0m\u001b[0m\n\u001b[1;32m   2902\u001b[0m         \u001b[0;32mif\u001b[0m \u001b[0mtolerance\u001b[0m \u001b[0;32mis\u001b[0m \u001b[0;32mnot\u001b[0m \u001b[0;32mNone\u001b[0m\u001b[0;34m:\u001b[0m\u001b[0;34m\u001b[0m\u001b[0;34m\u001b[0m\u001b[0m\n",
            "\u001b[0;31mKeyError\u001b[0m: 'pop_bin'"
          ]
        }
      ]
    },
    {
      "cell_type": "markdown",
      "metadata": {
        "id": "KY0AYjf1baAX"
      },
      "source": [
        "### Google API services integrations"
      ]
    },
    {
      "cell_type": "code",
      "metadata": {
        "id": "EA3kKXNm1hQi"
      },
      "source": [
        "import gspread\n",
        "from oauth2client.service_account import ServiceAccountCredentials\n",
        "scope = ['https://spreadsheets.google.com/feeds',\n",
        "         'https://www.googleapis.com/auth/drive']\n",
        "credentials = ServiceAccountCredentials.from_json_keyfile_name('chartmetric_cred.json', scope)\n",
        "gc = gspread.authorize(credentials)"
      ],
      "execution_count": null,
      "outputs": []
    },
    {
      "cell_type": "code",
      "metadata": {
        "id": "bGe1JDhVFfwJ"
      },
      "source": [
        "wb = gc.open_by_url('https://docs.google.com/spreadsheets/d/1zr1gp_O1xlfGaPxE8bPVUXtSsiNRbzeS53-axQrOY5s/edit#gid=289689074')"
      ],
      "execution_count": null,
      "outputs": []
    },
    {
      "cell_type": "code",
      "metadata": {
        "id": "Vl7kC8rzFuH7"
      },
      "source": [
        "sheet = wb.worksheet('grouped')"
      ],
      "execution_count": null,
      "outputs": []
    },
    {
      "cell_type": "code",
      "metadata": {
        "id": "FCeUJvzmjWxG"
      },
      "source": [
        "import os \n",
        "import psutil\n",
        "\n",
        "process = psutil.Process(os.getpid())\n",
        "process.memory_info()\n"
      ],
      "execution_count": null,
      "outputs": []
    },
    {
      "cell_type": "code",
      "metadata": {
        "id": "EOSVAwiokQ_q"
      },
      "source": [
        "import resource\n",
        "resource.getrusage(resource.RUSAGE_SELF).ru_maxrss"
      ],
      "execution_count": null,
      "outputs": []
    }
  ]
}